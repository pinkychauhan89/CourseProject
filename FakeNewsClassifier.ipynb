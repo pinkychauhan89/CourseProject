{
 "cells": [
  {
   "cell_type": "code",
   "execution_count": 1,
   "metadata": {},
   "outputs": [],
   "source": [
    "import re\n",
    "import itertools\n",
    "import pandas as pd\n",
    "\n",
    "import nltk\n",
    "from nltk.sentiment.vader import SentimentIntensityAnalyzer\n",
    "from nltk.tokenize import word_tokenize\n",
    "from nltk.corpus import stopwords\n",
    "from nltk.stem import WordNetLemmatizer\n",
    "\n",
    "from sklearn.feature_extraction.text import CountVectorizer\n",
    "from sklearn.feature_extraction.text import TfidfTransformer\n",
    "from sklearn.feature_extraction.text import TfidfVectorizer\n",
    "\n",
    "from sklearn.model_selection import train_test_split\n",
    "\n",
    "from sklearn.svm import LinearSVC\n",
    "from sklearn.linear_model import LogisticRegression, SGDClassifier\n",
    "from sklearn.naive_bayes import MultinomialNB\n",
    "from sklearn.tree import DecisionTreeClassifier\n",
    "\n",
    "from sklearn import metrics\n",
    "from sklearn.metrics import precision_recall_curve\n",
    "from sklearn.metrics import plot_precision_recall_curve\n",
    "from sklearn.metrics import confusion_matrix\n",
    "from sklearn.metrics import plot_confusion_matrix\n",
    "from sklearn.metrics import precision_score\n",
    "from sklearn.metrics import recall_score\n",
    "from sklearn.metrics import f1_score\n",
    "\n",
    "from sklearn.externals import joblib\n",
    "from sklearn.pipeline import Pipeline\n",
    "\n",
    "import matplotlib.pyplot as plt\n",
    "\n",
    "import pickle\n"
   ]
  },
  {
   "cell_type": "code",
   "execution_count": 2,
   "metadata": {},
   "outputs": [
    {
     "name": "stderr",
     "output_type": "stream",
     "text": [
      "[nltk_data] Downloading package vader_lexicon to\n",
      "[nltk_data]     /Users/pinky/nltk_data...\n",
      "[nltk_data]   Package vader_lexicon is already up-to-date!\n",
      "[nltk_data] Downloading package punkt to /Users/pinky/nltk_data...\n",
      "[nltk_data]   Package punkt is already up-to-date!\n",
      "[nltk_data] Downloading package stopwords to /Users/pinky/nltk_data...\n",
      "[nltk_data]   Package stopwords is already up-to-date!\n",
      "[nltk_data] Downloading package wordnet to /Users/pinky/nltk_data...\n",
      "[nltk_data]   Package wordnet is already up-to-date!\n"
     ]
    },
    {
     "data": {
      "text/plain": [
       "True"
      ]
     },
     "execution_count": 2,
     "metadata": {},
     "output_type": "execute_result"
    }
   ],
   "source": [
    "nltk.download('vader_lexicon')\n",
    "nltk.download('punkt')\n",
    "nltk.download('stopwords')\n",
    "nltk.download('wordnet')\n"
   ]
  },
  {
   "cell_type": "code",
   "execution_count": 3,
   "metadata": {},
   "outputs": [
    {
     "data": {
      "text/html": [
       "<div>\n",
       "<style scoped>\n",
       "    .dataframe tbody tr th:only-of-type {\n",
       "        vertical-align: middle;\n",
       "    }\n",
       "\n",
       "    .dataframe tbody tr th {\n",
       "        vertical-align: top;\n",
       "    }\n",
       "\n",
       "    .dataframe thead th {\n",
       "        text-align: right;\n",
       "    }\n",
       "</style>\n",
       "<table border=\"1\" class=\"dataframe\">\n",
       "  <thead>\n",
       "    <tr style=\"text-align: right;\">\n",
       "      <th></th>\n",
       "      <th>id</th>\n",
       "      <th>title</th>\n",
       "      <th>author</th>\n",
       "      <th>text</th>\n",
       "      <th>label</th>\n",
       "    </tr>\n",
       "  </thead>\n",
       "  <tbody>\n",
       "    <tr>\n",
       "      <th>0</th>\n",
       "      <td>0</td>\n",
       "      <td>House Dem Aide: We Didn’t Even See Comey’s Let...</td>\n",
       "      <td>Darrell Lucus</td>\n",
       "      <td>House Dem Aide: We Didn’t Even See Comey’s Let...</td>\n",
       "      <td>1</td>\n",
       "    </tr>\n",
       "    <tr>\n",
       "      <th>1</th>\n",
       "      <td>1</td>\n",
       "      <td>FLYNN: Hillary Clinton, Big Woman on Campus - ...</td>\n",
       "      <td>Daniel J. Flynn</td>\n",
       "      <td>Ever get the feeling your life circles the rou...</td>\n",
       "      <td>0</td>\n",
       "    </tr>\n",
       "    <tr>\n",
       "      <th>2</th>\n",
       "      <td>2</td>\n",
       "      <td>Why the Truth Might Get You Fired</td>\n",
       "      <td>Consortiumnews.com</td>\n",
       "      <td>Why the Truth Might Get You Fired October 29, ...</td>\n",
       "      <td>1</td>\n",
       "    </tr>\n",
       "    <tr>\n",
       "      <th>3</th>\n",
       "      <td>3</td>\n",
       "      <td>15 Civilians Killed In Single US Airstrike Hav...</td>\n",
       "      <td>Jessica Purkiss</td>\n",
       "      <td>Videos 15 Civilians Killed In Single US Airstr...</td>\n",
       "      <td>1</td>\n",
       "    </tr>\n",
       "    <tr>\n",
       "      <th>4</th>\n",
       "      <td>4</td>\n",
       "      <td>Iranian woman jailed for fictional unpublished...</td>\n",
       "      <td>Howard Portnoy</td>\n",
       "      <td>Print \\nAn Iranian woman has been sentenced to...</td>\n",
       "      <td>1</td>\n",
       "    </tr>\n",
       "    <tr>\n",
       "      <th>5</th>\n",
       "      <td>5</td>\n",
       "      <td>Jackie Mason: Hollywood Would Love Trump if He...</td>\n",
       "      <td>Daniel Nussbaum</td>\n",
       "      <td>In these trying times, Jackie Mason is the Voi...</td>\n",
       "      <td>0</td>\n",
       "    </tr>\n",
       "  </tbody>\n",
       "</table>\n",
       "</div>"
      ],
      "text/plain": [
       "   id                                              title              author  \\\n",
       "0   0  House Dem Aide: We Didn’t Even See Comey’s Let...       Darrell Lucus   \n",
       "1   1  FLYNN: Hillary Clinton, Big Woman on Campus - ...     Daniel J. Flynn   \n",
       "2   2                  Why the Truth Might Get You Fired  Consortiumnews.com   \n",
       "3   3  15 Civilians Killed In Single US Airstrike Hav...     Jessica Purkiss   \n",
       "4   4  Iranian woman jailed for fictional unpublished...      Howard Portnoy   \n",
       "5   5  Jackie Mason: Hollywood Would Love Trump if He...     Daniel Nussbaum   \n",
       "\n",
       "                                                text  label  \n",
       "0  House Dem Aide: We Didn’t Even See Comey’s Let...      1  \n",
       "1  Ever get the feeling your life circles the rou...      0  \n",
       "2  Why the Truth Might Get You Fired October 29, ...      1  \n",
       "3  Videos 15 Civilians Killed In Single US Airstr...      1  \n",
       "4  Print \\nAn Iranian woman has been sentenced to...      1  \n",
       "5  In these trying times, Jackie Mason is the Voi...      0  "
      ]
     },
     "execution_count": 3,
     "metadata": {},
     "output_type": "execute_result"
    }
   ],
   "source": [
    "#Read training data\n",
    "\n",
    "df=pd.read_csv('data/train.csv')\n",
    "df.head(6)\n"
   ]
  },
  {
   "cell_type": "code",
   "execution_count": 4,
   "metadata": {},
   "outputs": [
    {
     "name": "stdout",
     "output_type": "stream",
     "text": [
      "Size of dataframe before cleanup: 20800\n",
      "Size of dataframe after cleanup: 20800\n"
     ]
    }
   ],
   "source": [
    "#Check for missing values; remove rows with both text and title empty\n",
    "\n",
    "print(\"Size of dataframe before cleanup: \" + str(len(df)))\n",
    "df.isnull().values.any()\n",
    "df.dropna(axis=0, how='all', subset=['text', 'title'], inplace=True)\n",
    "print(\"Size of dataframe after cleanup: \" + str(len(df)))\n"
   ]
  },
  {
   "cell_type": "code",
   "execution_count": 5,
   "metadata": {},
   "outputs": [
    {
     "data": {
      "image/png": "[encoded data removed]",
      "text/plain": [
       "<Figure size 432x288 with 1 Axes>"
      ]
     },
     "metadata": {
      "needs_background": "light"
     },
     "output_type": "display_data"
    }
   ],
   "source": [
    "#Compare fake and real training dataset size to check if distribution is even/skewed\n",
    "\n",
    "values = df['label'].value_counts()\n",
    "plt.bar(x=[\"real\", \"fake\"], height=values, color=[\"green\", \"red\"])\n",
    "for x,y in zip([\"real\", \"fake\"],values):\n",
    "\n",
    "    label = \"{:.2f}\".format(y)\n",
    "\n",
    "    plt.annotate(label, # text\n",
    "                 (x,y), # point to label\n",
    "                 textcoords=\"offset points\", # text position\n",
    "                 xytext=(0,10), # distance from text to points\n",
    "                 ha='center') # horizontal alignment\n",
    "plt.show()\n"
   ]
  },
  {
   "cell_type": "code",
   "execution_count": 6,
   "metadata": {},
   "outputs": [
    {
     "data": {
      "text/html": [
       "<div>\n",
       "<style scoped>\n",
       "    .dataframe tbody tr th:only-of-type {\n",
       "        vertical-align: middle;\n",
       "    }\n",
       "\n",
       "    .dataframe tbody tr th {\n",
       "        vertical-align: top;\n",
       "    }\n",
       "\n",
       "    .dataframe thead th {\n",
       "        text-align: right;\n",
       "    }\n",
       "</style>\n",
       "<table border=\"1\" class=\"dataframe\">\n",
       "  <thead>\n",
       "    <tr style=\"text-align: right;\">\n",
       "      <th></th>\n",
       "      <th>id</th>\n",
       "      <th>title</th>\n",
       "      <th>author</th>\n",
       "      <th>text</th>\n",
       "      <th>label</th>\n",
       "    </tr>\n",
       "  </thead>\n",
       "  <tbody>\n",
       "    <tr>\n",
       "      <th>1</th>\n",
       "      <td>1</td>\n",
       "      <td>FLYNN: Hillary Clinton, Big Woman on Campus - ...</td>\n",
       "      <td>Daniel J. Flynn</td>\n",
       "      <td>Ever get the feeling your life circles the rou...</td>\n",
       "      <td>0</td>\n",
       "    </tr>\n",
       "    <tr>\n",
       "      <th>5</th>\n",
       "      <td>5</td>\n",
       "      <td>Jackie Mason: Hollywood Would Love Trump if He...</td>\n",
       "      <td>Daniel Nussbaum</td>\n",
       "      <td>In these trying times, Jackie Mason is the Voi...</td>\n",
       "      <td>0</td>\n",
       "    </tr>\n",
       "    <tr>\n",
       "      <th>7</th>\n",
       "      <td>7</td>\n",
       "      <td>Benoît Hamon Wins French Socialist Party’s Pre...</td>\n",
       "      <td>Alissa J. Rubin</td>\n",
       "      <td>PARIS  —   France chose an idealistic, traditi...</td>\n",
       "      <td>0</td>\n",
       "    </tr>\n",
       "    <tr>\n",
       "      <th>8</th>\n",
       "      <td>8</td>\n",
       "      <td>Excerpts From a Draft Script for Donald Trump’...</td>\n",
       "      <td>NaN</td>\n",
       "      <td>Donald J. Trump is scheduled to make a highly ...</td>\n",
       "      <td>0</td>\n",
       "    </tr>\n",
       "    <tr>\n",
       "      <th>9</th>\n",
       "      <td>9</td>\n",
       "      <td>A Back-Channel Plan for Ukraine and Russia, Co...</td>\n",
       "      <td>Megan Twohey and Scott Shane</td>\n",
       "      <td>A week before Michael T. Flynn resigned as nat...</td>\n",
       "      <td>0</td>\n",
       "    </tr>\n",
       "  </tbody>\n",
       "</table>\n",
       "</div>"
      ],
      "text/plain": [
       "   id                                              title  \\\n",
       "1   1  FLYNN: Hillary Clinton, Big Woman on Campus - ...   \n",
       "5   5  Jackie Mason: Hollywood Would Love Trump if He...   \n",
       "7   7  Benoît Hamon Wins French Socialist Party’s Pre...   \n",
       "8   8  Excerpts From a Draft Script for Donald Trump’...   \n",
       "9   9  A Back-Channel Plan for Ukraine and Russia, Co...   \n",
       "\n",
       "                         author  \\\n",
       "1               Daniel J. Flynn   \n",
       "5               Daniel Nussbaum   \n",
       "7               Alissa J. Rubin   \n",
       "8                           NaN   \n",
       "9  Megan Twohey and Scott Shane   \n",
       "\n",
       "                                                text  label  \n",
       "1  Ever get the feeling your life circles the rou...      0  \n",
       "5  In these trying times, Jackie Mason is the Voi...      0  \n",
       "7  PARIS  —   France chose an idealistic, traditi...      0  \n",
       "8  Donald J. Trump is scheduled to make a highly ...      0  \n",
       "9  A week before Michael T. Flynn resigned as nat...      0  "
      ]
     },
     "execution_count": 6,
     "metadata": {},
     "output_type": "execute_result"
    }
   ],
   "source": [
    "#Extract real data; rows with label = 0\n",
    "\n",
    "df_reliable = df.loc[df['label'] == 0]\n",
    "df_reliable.head(5)\n"
   ]
  },
  {
   "cell_type": "code",
   "execution_count": 7,
   "metadata": {},
   "outputs": [
    {
     "data": {
      "text/html": [
       "<div>\n",
       "<style scoped>\n",
       "    .dataframe tbody tr th:only-of-type {\n",
       "        vertical-align: middle;\n",
       "    }\n",
       "\n",
       "    .dataframe tbody tr th {\n",
       "        vertical-align: top;\n",
       "    }\n",
       "\n",
       "    .dataframe thead th {\n",
       "        text-align: right;\n",
       "    }\n",
       "</style>\n",
       "<table border=\"1\" class=\"dataframe\">\n",
       "  <thead>\n",
       "    <tr style=\"text-align: right;\">\n",
       "      <th></th>\n",
       "      <th>id</th>\n",
       "      <th>title</th>\n",
       "      <th>author</th>\n",
       "      <th>text</th>\n",
       "      <th>label</th>\n",
       "    </tr>\n",
       "  </thead>\n",
       "  <tbody>\n",
       "    <tr>\n",
       "      <th>0</th>\n",
       "      <td>0</td>\n",
       "      <td>House Dem Aide: We Didn’t Even See Comey’s Let...</td>\n",
       "      <td>Darrell Lucus</td>\n",
       "      <td>House Dem Aide: We Didn’t Even See Comey’s Let...</td>\n",
       "      <td>1</td>\n",
       "    </tr>\n",
       "    <tr>\n",
       "      <th>2</th>\n",
       "      <td>2</td>\n",
       "      <td>Why the Truth Might Get You Fired</td>\n",
       "      <td>Consortiumnews.com</td>\n",
       "      <td>Why the Truth Might Get You Fired October 29, ...</td>\n",
       "      <td>1</td>\n",
       "    </tr>\n",
       "    <tr>\n",
       "      <th>3</th>\n",
       "      <td>3</td>\n",
       "      <td>15 Civilians Killed In Single US Airstrike Hav...</td>\n",
       "      <td>Jessica Purkiss</td>\n",
       "      <td>Videos 15 Civilians Killed In Single US Airstr...</td>\n",
       "      <td>1</td>\n",
       "    </tr>\n",
       "    <tr>\n",
       "      <th>4</th>\n",
       "      <td>4</td>\n",
       "      <td>Iranian woman jailed for fictional unpublished...</td>\n",
       "      <td>Howard Portnoy</td>\n",
       "      <td>Print \\nAn Iranian woman has been sentenced to...</td>\n",
       "      <td>1</td>\n",
       "    </tr>\n",
       "    <tr>\n",
       "      <th>6</th>\n",
       "      <td>6</td>\n",
       "      <td>Life: Life Of Luxury: Elton John’s 6 Favorite ...</td>\n",
       "      <td>NaN</td>\n",
       "      <td>Ever wonder how Britain’s most iconic pop pian...</td>\n",
       "      <td>1</td>\n",
       "    </tr>\n",
       "  </tbody>\n",
       "</table>\n",
       "</div>"
      ],
      "text/plain": [
       "   id                                              title              author  \\\n",
       "0   0  House Dem Aide: We Didn’t Even See Comey’s Let...       Darrell Lucus   \n",
       "2   2                  Why the Truth Might Get You Fired  Consortiumnews.com   \n",
       "3   3  15 Civilians Killed In Single US Airstrike Hav...     Jessica Purkiss   \n",
       "4   4  Iranian woman jailed for fictional unpublished...      Howard Portnoy   \n",
       "6   6  Life: Life Of Luxury: Elton John’s 6 Favorite ...                 NaN   \n",
       "\n",
       "                                                text  label  \n",
       "0  House Dem Aide: We Didn’t Even See Comey’s Let...      1  \n",
       "2  Why the Truth Might Get You Fired October 29, ...      1  \n",
       "3  Videos 15 Civilians Killed In Single US Airstr...      1  \n",
       "4  Print \\nAn Iranian woman has been sentenced to...      1  \n",
       "6  Ever wonder how Britain’s most iconic pop pian...      1  "
      ]
     },
     "execution_count": 7,
     "metadata": {},
     "output_type": "execute_result"
    }
   ],
   "source": [
    "#Extract real data; rows with label = 1\n",
    "\n",
    "df_fake = df.loc[df['label'] == 1]\n",
    "df_fake.head(5)\n"
   ]
  },
  {
   "cell_type": "code",
   "execution_count": 8,
   "metadata": {},
   "outputs": [
    {
     "data": {
      "text/plain": [
       "label\n",
       "0    2225\n",
       "1    1981\n",
       "Name: author, dtype: int64"
      ]
     },
     "execution_count": 8,
     "metadata": {},
     "output_type": "execute_result"
    }
   ],
   "source": [
    "#Check authors' distribution\n",
    "\n",
    "df.groupby('label')['author'].nunique()\n"
   ]
  },
  {
   "cell_type": "code",
   "execution_count": 9,
   "metadata": {},
   "outputs": [
    {
     "data": {
      "text/plain": [
       "Pam Key                            242\n",
       "Jerome Hudson                      166\n",
       "Charlie Spiering                   141\n",
       "John Hayward                       140\n",
       "Katherine Rodriguez                124\n",
       "                                  ... \n",
       "Donna De La Cruz                     1\n",
       "Patrick Healy and Dalia Sussman      1\n",
       "Lauren Schenkman                     1\n",
       "Mark Landler and Ashley Parker       1\n",
       "Dave Kehr                            1\n",
       "Name: author, Length: 2225, dtype: int64"
      ]
     },
     "execution_count": 9,
     "metadata": {},
     "output_type": "execute_result"
    }
   ],
   "source": [
    "df_reliable['author'].value_counts()\n"
   ]
  },
  {
   "cell_type": "code",
   "execution_count": 10,
   "metadata": {},
   "outputs": [
    {
     "data": {
      "text/plain": [
       "admin                                                                       193\n",
       "Pakalert                                                                     86\n",
       "Eddy Lavine                                                                  85\n",
       "Starkman                                                                     84\n",
       "Gillian                                                                      82\n",
       "                                                                           ... \n",
       "HazyHotDog                                                                    1\n",
       "The Tragically Hip’s Gord Downie: A True Canadian Hero - New Earth Media      1\n",
       "Astronomy                                                                     1\n",
       "Caleb Stephen                                                                 1\n",
       "Robert Koehler                                                                1\n",
       "Name: author, Length: 1981, dtype: int64"
      ]
     },
     "execution_count": 10,
     "metadata": {},
     "output_type": "execute_result"
    }
   ],
   "source": [
    "df_fake['author'].value_counts()\n"
   ]
  },
  {
   "cell_type": "code",
   "execution_count": 11,
   "metadata": {},
   "outputs": [
    {
     "data": {
      "text/html": [
       "<div>\n",
       "<style scoped>\n",
       "    .dataframe tbody tr th:only-of-type {\n",
       "        vertical-align: middle;\n",
       "    }\n",
       "\n",
       "    .dataframe tbody tr th {\n",
       "        vertical-align: top;\n",
       "    }\n",
       "\n",
       "    .dataframe thead th {\n",
       "        text-align: right;\n",
       "    }\n",
       "</style>\n",
       "<table border=\"1\" class=\"dataframe\">\n",
       "  <thead>\n",
       "    <tr style=\"text-align: right;\">\n",
       "      <th></th>\n",
       "      <th>id</th>\n",
       "      <th>author</th>\n",
       "      <th>label</th>\n",
       "      <th>article</th>\n",
       "    </tr>\n",
       "  </thead>\n",
       "  <tbody>\n",
       "    <tr>\n",
       "      <th>0</th>\n",
       "      <td>0</td>\n",
       "      <td>Darrell Lucus</td>\n",
       "      <td>1</td>\n",
       "      <td>House Dem Aide: We Didn’t Even See Comey’s Let...</td>\n",
       "    </tr>\n",
       "    <tr>\n",
       "      <th>1</th>\n",
       "      <td>1</td>\n",
       "      <td>Daniel J. Flynn</td>\n",
       "      <td>0</td>\n",
       "      <td>FLYNN: Hillary Clinton, Big Woman on Campus - ...</td>\n",
       "    </tr>\n",
       "    <tr>\n",
       "      <th>2</th>\n",
       "      <td>2</td>\n",
       "      <td>Consortiumnews.com</td>\n",
       "      <td>1</td>\n",
       "      <td>Why the Truth Might Get You Fired Why the Trut...</td>\n",
       "    </tr>\n",
       "    <tr>\n",
       "      <th>3</th>\n",
       "      <td>3</td>\n",
       "      <td>Jessica Purkiss</td>\n",
       "      <td>1</td>\n",
       "      <td>15 Civilians Killed In Single US Airstrike Hav...</td>\n",
       "    </tr>\n",
       "    <tr>\n",
       "      <th>4</th>\n",
       "      <td>4</td>\n",
       "      <td>Howard Portnoy</td>\n",
       "      <td>1</td>\n",
       "      <td>Iranian woman jailed for fictional unpublished...</td>\n",
       "    </tr>\n",
       "    <tr>\n",
       "      <th>5</th>\n",
       "      <td>5</td>\n",
       "      <td>Daniel Nussbaum</td>\n",
       "      <td>0</td>\n",
       "      <td>Jackie Mason: Hollywood Would Love Trump if He...</td>\n",
       "    </tr>\n",
       "  </tbody>\n",
       "</table>\n",
       "</div>"
      ],
      "text/plain": [
       "   id              author  label  \\\n",
       "0   0       Darrell Lucus      1   \n",
       "1   1     Daniel J. Flynn      0   \n",
       "2   2  Consortiumnews.com      1   \n",
       "3   3     Jessica Purkiss      1   \n",
       "4   4      Howard Portnoy      1   \n",
       "5   5     Daniel Nussbaum      0   \n",
       "\n",
       "                                             article  \n",
       "0  House Dem Aide: We Didn’t Even See Comey’s Let...  \n",
       "1  FLYNN: Hillary Clinton, Big Woman on Campus - ...  \n",
       "2  Why the Truth Might Get You Fired Why the Trut...  \n",
       "3  15 Civilians Killed In Single US Airstrike Hav...  \n",
       "4  Iranian woman jailed for fictional unpublished...  \n",
       "5  Jackie Mason: Hollywood Would Love Trump if He...  "
      ]
     },
     "execution_count": 11,
     "metadata": {},
     "output_type": "execute_result"
    }
   ],
   "source": [
    "#Add custom field article that combines text and title into same column article\n",
    "\n",
    "df['article'] = df['title'] + ' ' + df['text']\n",
    "df.drop(columns=['title', 'text'], inplace = True)\n",
    "df.head(6)\n"
   ]
  },
  {
   "cell_type": "code",
   "execution_count": 12,
   "metadata": {},
   "outputs": [
    {
     "data": {
      "text/html": [
       "<div>\n",
       "<style scoped>\n",
       "    .dataframe tbody tr th:only-of-type {\n",
       "        vertical-align: middle;\n",
       "    }\n",
       "\n",
       "    .dataframe tbody tr th {\n",
       "        vertical-align: top;\n",
       "    }\n",
       "\n",
       "    .dataframe thead th {\n",
       "        text-align: right;\n",
       "    }\n",
       "</style>\n",
       "<table border=\"1\" class=\"dataframe\">\n",
       "  <thead>\n",
       "    <tr style=\"text-align: right;\">\n",
       "      <th></th>\n",
       "      <th>id</th>\n",
       "      <th>author</th>\n",
       "      <th>label</th>\n",
       "      <th>article</th>\n",
       "      <th>cleaned_article</th>\n",
       "    </tr>\n",
       "  </thead>\n",
       "  <tbody>\n",
       "    <tr>\n",
       "      <th>0</th>\n",
       "      <td>0</td>\n",
       "      <td>Darrell Lucus</td>\n",
       "      <td>1</td>\n",
       "      <td>House Dem Aide: We Didn’t Even See Comey’s Let...</td>\n",
       "      <td>house aide didnt even comeys letter jason cha...</td>\n",
       "    </tr>\n",
       "    <tr>\n",
       "      <th>1</th>\n",
       "      <td>1</td>\n",
       "      <td>Daniel J. Flynn</td>\n",
       "      <td>0</td>\n",
       "      <td>FLYNN: Hillary Clinton, Big Woman on Campus - ...</td>\n",
       "      <td>flynn hillary clinton woman campus breitbart ...</td>\n",
       "    </tr>\n",
       "    <tr>\n",
       "      <th>2</th>\n",
       "      <td>2</td>\n",
       "      <td>Consortiumnews.com</td>\n",
       "      <td>1</td>\n",
       "      <td>Why the Truth Might Get You Fired Why the Trut...</td>\n",
       "      <td>truth might fired truth might fired october 2...</td>\n",
       "    </tr>\n",
       "    <tr>\n",
       "      <th>3</th>\n",
       "      <td>3</td>\n",
       "      <td>Jessica Purkiss</td>\n",
       "      <td>1</td>\n",
       "      <td>15 Civilians Killed In Single US Airstrike Hav...</td>\n",
       "      <td>civilian killed single airstrike identified v...</td>\n",
       "    </tr>\n",
       "    <tr>\n",
       "      <th>4</th>\n",
       "      <td>4</td>\n",
       "      <td>Howard Portnoy</td>\n",
       "      <td>1</td>\n",
       "      <td>Iranian woman jailed for fictional unpublished...</td>\n",
       "      <td>iranian woman jailed fictional unpublished st...</td>\n",
       "    </tr>\n",
       "    <tr>\n",
       "      <th>5</th>\n",
       "      <td>5</td>\n",
       "      <td>Daniel Nussbaum</td>\n",
       "      <td>0</td>\n",
       "      <td>Jackie Mason: Hollywood Would Love Trump if He...</td>\n",
       "      <td>jackie mason hollywood would love trump bombe...</td>\n",
       "    </tr>\n",
       "    <tr>\n",
       "      <th>6</th>\n",
       "      <td>6</td>\n",
       "      <td>NaN</td>\n",
       "      <td>1</td>\n",
       "      <td>Life: Life Of Luxury: Elton John’s 6 Favorite ...</td>\n",
       "      <td>life life luxury elton john favorite shark pi...</td>\n",
       "    </tr>\n",
       "    <tr>\n",
       "      <th>7</th>\n",
       "      <td>7</td>\n",
       "      <td>Alissa J. Rubin</td>\n",
       "      <td>0</td>\n",
       "      <td>Benoît Hamon Wins French Socialist Party’s Pre...</td>\n",
       "      <td>benoît hamon win french socialist party presi...</td>\n",
       "    </tr>\n",
       "    <tr>\n",
       "      <th>8</th>\n",
       "      <td>8</td>\n",
       "      <td>NaN</td>\n",
       "      <td>0</td>\n",
       "      <td>Excerpts From a Draft Script for Donald Trump’...</td>\n",
       "      <td>excerpt draft script donald trump qampa black...</td>\n",
       "    </tr>\n",
       "    <tr>\n",
       "      <th>9</th>\n",
       "      <td>9</td>\n",
       "      <td>Megan Twohey and Scott Shane</td>\n",
       "      <td>0</td>\n",
       "      <td>A Back-Channel Plan for Ukraine and Russia, Co...</td>\n",
       "      <td>backchannel plan ukraine russia courtesy trum...</td>\n",
       "    </tr>\n",
       "  </tbody>\n",
       "</table>\n",
       "</div>"
      ],
      "text/plain": [
       "   id                        author  label  \\\n",
       "0   0                 Darrell Lucus      1   \n",
       "1   1               Daniel J. Flynn      0   \n",
       "2   2            Consortiumnews.com      1   \n",
       "3   3               Jessica Purkiss      1   \n",
       "4   4                Howard Portnoy      1   \n",
       "5   5               Daniel Nussbaum      0   \n",
       "6   6                           NaN      1   \n",
       "7   7               Alissa J. Rubin      0   \n",
       "8   8                           NaN      0   \n",
       "9   9  Megan Twohey and Scott Shane      0   \n",
       "\n",
       "                                             article  \\\n",
       "0  House Dem Aide: We Didn’t Even See Comey’s Let...   \n",
       "1  FLYNN: Hillary Clinton, Big Woman on Campus - ...   \n",
       "2  Why the Truth Might Get You Fired Why the Trut...   \n",
       "3  15 Civilians Killed In Single US Airstrike Hav...   \n",
       "4  Iranian woman jailed for fictional unpublished...   \n",
       "5  Jackie Mason: Hollywood Would Love Trump if He...   \n",
       "6  Life: Life Of Luxury: Elton John’s 6 Favorite ...   \n",
       "7  Benoît Hamon Wins French Socialist Party’s Pre...   \n",
       "8  Excerpts From a Draft Script for Donald Trump’...   \n",
       "9  A Back-Channel Plan for Ukraine and Russia, Co...   \n",
       "\n",
       "                                     cleaned_article  \n",
       "0   house aide didnt even comeys letter jason cha...  \n",
       "1   flynn hillary clinton woman campus breitbart ...  \n",
       "2   truth might fired truth might fired october 2...  \n",
       "3   civilian killed single airstrike identified v...  \n",
       "4   iranian woman jailed fictional unpublished st...  \n",
       "5   jackie mason hollywood would love trump bombe...  \n",
       "6   life life luxury elton john favorite shark pi...  \n",
       "7   benoît hamon win french socialist party presi...  \n",
       "8   excerpt draft script donald trump qampa black...  \n",
       "9   backchannel plan ukraine russia courtesy trum...  "
      ]
     },
     "execution_count": 12,
     "metadata": {},
     "output_type": "execute_result"
    }
   ],
   "source": [
    "#Clean up and preprocess data\n",
    "\n",
    "stop_words = stopwords.words('english')\n",
    "lemmatizer = WordNetLemmatizer()\n",
    "\n",
    "for index, row in df.iterrows():\n",
    "    #Clean sentence to remove any punctuations, convert to lower case\n",
    "    cleaned_sentence = re.sub(r'[^\\w\\s]', '', str(row['article']).lower())\n",
    "    #Tokenize sentence into words\n",
    "    words = nltk.word_tokenize(cleaned_sentence)\n",
    "    #Remove stop words and words with length less than equal to 3\n",
    "    filtered_words = [word for word in words if not word in stop_words and len(word) > 3]\n",
    "    #Lemmatize\n",
    "    lemmatized_sentence = ''\n",
    "    for word in filtered_words:\n",
    "        lemmatized_sentence = lemmatized_sentence  + ' ' + str(lemmatizer.lemmatize(word))\n",
    "    \n",
    "    df.loc[index, 'cleaned_article'] = lemmatized_sentence\n",
    "\n",
    "df.head(10)\n"
   ]
  },
  {
   "cell_type": "code",
   "execution_count": 14,
   "metadata": {},
   "outputs": [],
   "source": [
    "#Sentiment analysis to see polarity difference if any between fake and real articles\n",
    "\n",
    "df_reliable = df.loc[df['label'] == 0]\n",
    "df_fake = df.loc[df['label'] == 1]\n",
    "\n",
    "cleaned_reliable_articles = list(df_reliable['cleaned_article'])\n",
    "cleaned_fake_articles = list(df_fake['cleaned_article'])\n",
    "\n",
    "sentimentAnalyzer = SentimentIntensityAnalyzer()\n",
    "\n",
    "#Sentiment analysis for reliable titles\n",
    "sentimentscores = []\n",
    "for i in cleaned_reliable_articles:\n",
    "    score = sentimentAnalyzer.polarity_scores(i)\n",
    "    score['article'] = i\n",
    "    sentimentscores.append(score)\n",
    "    \n",
    "sentimentdf_reliable = pd.DataFrame(sentimentscores)\n",
    "\n",
    "#Sentiment analysis for fake titles\n",
    "sentimentscores = []\n",
    "for i in cleaned_fake_articles:\n",
    "    score = sentimentAnalyzer.polarity_scores(i)\n",
    "    score['article'] = i\n",
    "    sentimentscores.append(score)\n",
    "    \n",
    "sentimentdf_fake = pd.DataFrame(sentimentscores)\n"
   ]
  },
  {
   "cell_type": "code",
   "execution_count": 15,
   "metadata": {},
   "outputs": [
    {
     "data": {
      "text/html": [
       "<div>\n",
       "<style scoped>\n",
       "    .dataframe tbody tr th:only-of-type {\n",
       "        vertical-align: middle;\n",
       "    }\n",
       "\n",
       "    .dataframe tbody tr th {\n",
       "        vertical-align: top;\n",
       "    }\n",
       "\n",
       "    .dataframe thead th {\n",
       "        text-align: right;\n",
       "    }\n",
       "</style>\n",
       "<table border=\"1\" class=\"dataframe\">\n",
       "  <thead>\n",
       "    <tr style=\"text-align: right;\">\n",
       "      <th></th>\n",
       "      <th>article</th>\n",
       "      <th>compound</th>\n",
       "      <th>neg</th>\n",
       "      <th>neu</th>\n",
       "      <th>pos</th>\n",
       "    </tr>\n",
       "  </thead>\n",
       "  <tbody>\n",
       "    <tr>\n",
       "      <th>0</th>\n",
       "      <td>flynn hillary clinton woman campus breitbart ...</td>\n",
       "      <td>0.8979</td>\n",
       "      <td>0.142</td>\n",
       "      <td>0.686</td>\n",
       "      <td>0.172</td>\n",
       "    </tr>\n",
       "    <tr>\n",
       "      <th>1</th>\n",
       "      <td>jackie mason hollywood would love trump bombe...</td>\n",
       "      <td>0.9094</td>\n",
       "      <td>0.137</td>\n",
       "      <td>0.658</td>\n",
       "      <td>0.205</td>\n",
       "    </tr>\n",
       "    <tr>\n",
       "      <th>2</th>\n",
       "      <td>benoît hamon win french socialist party presi...</td>\n",
       "      <td>0.9975</td>\n",
       "      <td>0.039</td>\n",
       "      <td>0.748</td>\n",
       "      <td>0.213</td>\n",
       "    </tr>\n",
       "    <tr>\n",
       "      <th>3</th>\n",
       "      <td>excerpt draft script donald trump qampa black...</td>\n",
       "      <td>0.9995</td>\n",
       "      <td>0.044</td>\n",
       "      <td>0.679</td>\n",
       "      <td>0.277</td>\n",
       "    </tr>\n",
       "    <tr>\n",
       "      <th>4</th>\n",
       "      <td>backchannel plan ukraine russia courtesy trum...</td>\n",
       "      <td>0.9968</td>\n",
       "      <td>0.079</td>\n",
       "      <td>0.768</td>\n",
       "      <td>0.153</td>\n",
       "    </tr>\n",
       "    <tr>\n",
       "      <th>5</th>\n",
       "      <td>obamas organizing action partner soroslinked ...</td>\n",
       "      <td>-0.5318</td>\n",
       "      <td>0.078</td>\n",
       "      <td>0.846</td>\n",
       "      <td>0.076</td>\n",
       "    </tr>\n",
       "  </tbody>\n",
       "</table>\n",
       "</div>"
      ],
      "text/plain": [
       "                                             article  compound    neg    neu  \\\n",
       "0   flynn hillary clinton woman campus breitbart ...    0.8979  0.142  0.686   \n",
       "1   jackie mason hollywood would love trump bombe...    0.9094  0.137  0.658   \n",
       "2   benoît hamon win french socialist party presi...    0.9975  0.039  0.748   \n",
       "3   excerpt draft script donald trump qampa black...    0.9995  0.044  0.679   \n",
       "4   backchannel plan ukraine russia courtesy trum...    0.9968  0.079  0.768   \n",
       "5   obamas organizing action partner soroslinked ...   -0.5318  0.078  0.846   \n",
       "\n",
       "     pos  \n",
       "0  0.172  \n",
       "1  0.205  \n",
       "2  0.213  \n",
       "3  0.277  \n",
       "4  0.153  \n",
       "5  0.076  "
      ]
     },
     "execution_count": 15,
     "metadata": {},
     "output_type": "execute_result"
    }
   ],
   "source": [
    "sentimentdf_reliable.head(6)\n"
   ]
  },
  {
   "cell_type": "code",
   "execution_count": 16,
   "metadata": {},
   "outputs": [
    {
     "data": {
      "text/html": [
       "<div>\n",
       "<style scoped>\n",
       "    .dataframe tbody tr th:only-of-type {\n",
       "        vertical-align: middle;\n",
       "    }\n",
       "\n",
       "    .dataframe tbody tr th {\n",
       "        vertical-align: top;\n",
       "    }\n",
       "\n",
       "    .dataframe thead th {\n",
       "        text-align: right;\n",
       "    }\n",
       "</style>\n",
       "<table border=\"1\" class=\"dataframe\">\n",
       "  <thead>\n",
       "    <tr style=\"text-align: right;\">\n",
       "      <th></th>\n",
       "      <th>article</th>\n",
       "      <th>compound</th>\n",
       "      <th>neg</th>\n",
       "      <th>neu</th>\n",
       "      <th>pos</th>\n",
       "    </tr>\n",
       "  </thead>\n",
       "  <tbody>\n",
       "    <tr>\n",
       "      <th>0</th>\n",
       "      <td>house aide didnt even comeys letter jason cha...</td>\n",
       "      <td>-0.3213</td>\n",
       "      <td>0.084</td>\n",
       "      <td>0.827</td>\n",
       "      <td>0.089</td>\n",
       "    </tr>\n",
       "    <tr>\n",
       "      <th>1</th>\n",
       "      <td>truth might fired truth might fired october 2...</td>\n",
       "      <td>0.9979</td>\n",
       "      <td>0.114</td>\n",
       "      <td>0.657</td>\n",
       "      <td>0.229</td>\n",
       "    </tr>\n",
       "    <tr>\n",
       "      <th>2</th>\n",
       "      <td>civilian killed single airstrike identified v...</td>\n",
       "      <td>-0.9988</td>\n",
       "      <td>0.370</td>\n",
       "      <td>0.571</td>\n",
       "      <td>0.058</td>\n",
       "    </tr>\n",
       "    <tr>\n",
       "      <th>3</th>\n",
       "      <td>iranian woman jailed fictional unpublished st...</td>\n",
       "      <td>-0.9753</td>\n",
       "      <td>0.246</td>\n",
       "      <td>0.716</td>\n",
       "      <td>0.038</td>\n",
       "    </tr>\n",
       "    <tr>\n",
       "      <th>4</th>\n",
       "      <td>life life luxury elton john favorite shark pi...</td>\n",
       "      <td>0.9957</td>\n",
       "      <td>0.014</td>\n",
       "      <td>0.781</td>\n",
       "      <td>0.205</td>\n",
       "    </tr>\n",
       "    <tr>\n",
       "      <th>5</th>\n",
       "      <td>russian researcher discover secret nazi milit...</td>\n",
       "      <td>-0.8316</td>\n",
       "      <td>0.102</td>\n",
       "      <td>0.818</td>\n",
       "      <td>0.080</td>\n",
       "    </tr>\n",
       "  </tbody>\n",
       "</table>\n",
       "</div>"
      ],
      "text/plain": [
       "                                             article  compound    neg    neu  \\\n",
       "0   house aide didnt even comeys letter jason cha...   -0.3213  0.084  0.827   \n",
       "1   truth might fired truth might fired october 2...    0.9979  0.114  0.657   \n",
       "2   civilian killed single airstrike identified v...   -0.9988  0.370  0.571   \n",
       "3   iranian woman jailed fictional unpublished st...   -0.9753  0.246  0.716   \n",
       "4   life life luxury elton john favorite shark pi...    0.9957  0.014  0.781   \n",
       "5   russian researcher discover secret nazi milit...   -0.8316  0.102  0.818   \n",
       "\n",
       "     pos  \n",
       "0  0.089  \n",
       "1  0.229  \n",
       "2  0.058  \n",
       "3  0.038  \n",
       "4  0.205  \n",
       "5  0.080  "
      ]
     },
     "execution_count": 16,
     "metadata": {},
     "output_type": "execute_result"
    }
   ],
   "source": [
    "sentimentdf_fake.head(6)\n"
   ]
  },
  {
   "cell_type": "code",
   "execution_count": 17,
   "metadata": {},
   "outputs": [],
   "source": [
    "sentimentdf_reliable.drop(columns=['article'], inplace = True)\n",
    "average_sentiment_reliable = sentimentdf_reliable.mean()\n",
    "\n",
    "sentimentdf_fake.drop(columns=['article'], inplace = True)\n",
    "average_sentiment_fake = sentimentdf_fake.mean()\n"
   ]
  },
  {
   "cell_type": "code",
   "execution_count": 18,
   "metadata": {},
   "outputs": [
    {
     "name": "stdout",
     "output_type": "stream",
     "text": [
      "\n",
      "Sentiment_analysis..\n",
      "\n"
     ]
    },
    {
     "data": {
      "image/png": "[encoded data removed]",
      "text/plain": [
       "<Figure size 1584x504 with 2 Axes>"
      ]
     },
     "metadata": {
      "needs_background": "light"
     },
     "output_type": "display_data"
    }
   ],
   "source": [
    "print(\"\\nSentiment_analysis..\\n\")\n",
    "names = ['compound', 'negative', 'neutral','positive']\n",
    "colors=[\"orange\", \"red\", \"blue\" , \"green\"]\n",
    "\n",
    "plt.figure(figsize=(22, 7))\n",
    "plt.subplot(131)\n",
    "plt.bar(names,average_sentiment_reliable, color=colors)\n",
    "plt.title(\"Real news\")\n",
    "plt.ylabel(\"Average score\")\n",
    "# zip joins x and y coordinates in pairs\n",
    "for x,y in zip(names,average_sentiment_reliable):\n",
    "\n",
    "    label = \"{:.2f}\".format(y)\n",
    "\n",
    "    plt.annotate(label, # text\n",
    "                 (x,y), # point to label\n",
    "                 textcoords=\"offset points\", # text position\n",
    "                 xytext=(0,10), # distance from text to points\n",
    "                 ha='center') # horizontal alignment\n",
    "plt.subplot(132)\n",
    "plt.bar(names,average_sentiment_fake, color=colors)\n",
    "plt.title(\"Fake news\")\n",
    "plt.ylabel(\"Average score\")\n",
    "for x,y in zip(names,average_sentiment_fake):\n",
    "\n",
    "    label = \"{:.2f}\".format(y)\n",
    "\n",
    "    plt.annotate(label, # text\n",
    "                 (x,y), # point to label\n",
    "                 textcoords=\"offset points\", # text position\n",
    "                 xytext=(0,10), # distance from text to points\n",
    "                 ha='center') # horizontal alignment\n",
    "\n",
    "plt.show()"
   ]
  },
  {
   "cell_type": "code",
   "execution_count": 19,
   "metadata": {},
   "outputs": [],
   "source": [
    "#Vectorization"
   ]
  },
  {
   "cell_type": "code",
   "execution_count": 20,
   "metadata": {},
   "outputs": [
    {
     "data": {
      "text/plain": [
       "0     house aide didnt even comeys letter jason cha...\n",
       "1     flynn hillary clinton woman campus breitbart ...\n",
       "2     truth might fired truth might fired october 2...\n",
       "3     civilian killed single airstrike identified v...\n",
       "4     iranian woman jailed fictional unpublished st...\n",
       "5     jackie mason hollywood would love trump bombe...\n",
       "6     life life luxury elton john favorite shark pi...\n",
       "7     benoît hamon win french socialist party presi...\n",
       "8     excerpt draft script donald trump qampa black...\n",
       "9     backchannel plan ukraine russia courtesy trum...\n",
       "Name: cleaned_article, dtype: object"
      ]
     },
     "execution_count": 20,
     "metadata": {},
     "output_type": "execute_result"
    }
   ],
   "source": [
    "df_x = df['cleaned_article']\n",
    "df_y = df['label']\n",
    "df_x.head(10)\n"
   ]
  },
  {
   "cell_type": "code",
   "execution_count": 21,
   "metadata": {
    "scrolled": true
   },
   "outputs": [
    {
     "name": "stdout",
     "output_type": "stream",
     "text": [
      "\n",
      "unigram_term_freq_matrix:\n",
      "  (0, 2827)\t1\n",
      "  (0, 2903)\t2\n",
      "  (0, 3859)\t1\n",
      "  (0, 6446)\t1\n",
      "  (0, 6758)\t1\n",
      "  (0, 6965)\t3\n",
      "  (0, 7338)\t1\n",
      "  (0, 7431)\t1\n",
      "  (0, 8001)\t1\n",
      "  (0, 8490)\t1\n",
      "  (0, 8866)\t6\n",
      "  (0, 10649)\t3\n",
      "  (0, 10727)\t2\n",
      "  (0, 11274)\t1\n",
      "  (0, 11811)\t1\n",
      "  (0, 12371)\t1\n",
      "  (0, 12522)\t1\n",
      "  (0, 12598)\t1\n",
      "  (0, 13319)\t1\n",
      "  (0, 13551)\t1\n",
      "  (0, 13617)\t2\n",
      "  (0, 13632)\t1\n",
      "  (0, 15950)\t1\n",
      "  (0, 16707)\t1\n",
      "  (0, 18895)\t1\n",
      "  :\t:\n",
      "  (20799, 165355)\t1\n",
      "  (20799, 165418)\t1\n",
      "  (20799, 166351)\t1\n",
      "  (20799, 166596)\t1\n",
      "  (20799, 166677)\t1\n",
      "  (20799, 166737)\t1\n",
      "  (20799, 166748)\t1\n",
      "  (20799, 166765)\t1\n",
      "  (20799, 166812)\t5\n",
      "  (20799, 166827)\t1\n",
      "  (20799, 166828)\t1\n",
      "  (20799, 166920)\t1\n",
      "  (20799, 166992)\t1\n",
      "  (20799, 166999)\t1\n",
      "  (20799, 167041)\t1\n",
      "  (20799, 167230)\t1\n",
      "  (20799, 167250)\t1\n",
      "  (20799, 167276)\t1\n",
      "  (20799, 167288)\t1\n",
      "  (20799, 167442)\t1\n",
      "  (20799, 167443)\t1\n",
      "  (20799, 167447)\t1\n",
      "  (20799, 167505)\t1\n",
      "  (20799, 168122)\t4\n",
      "  (20799, 168633)\t1\n"
     ]
    }
   ],
   "source": [
    "#Unigram term frequency matrix\n",
    "\n",
    "count_vectorizer = CountVectorizer(analyzer='word')\n",
    "count_vectorizer.fit(df_x)\n",
    "unigram_term_freq_matrix = count_vectorizer.transform(df_x)\n",
    "print(\"\\nunigram_term_freq_matrix:\")\n",
    "print(unigram_term_freq_matrix)\n"
   ]
  },
  {
   "cell_type": "code",
   "execution_count": 22,
   "metadata": {},
   "outputs": [
    {
     "name": "stdout",
     "output_type": "stream",
     "text": [
      "\n",
      "unigram_tfidf_matrix:\n",
      "  (0, 168232)\t0.050069421619470846\n",
      "  (0, 168122)\t0.009913118844402638\n",
      "  (0, 166965)\t0.045112242860588306\n",
      "  (0, 166953)\t0.07270698920032839\n",
      "  (0, 166812)\t0.03847835039711061\n",
      "  (0, 166737)\t0.013511088154540904\n",
      "  (0, 166021)\t0.06125612627411007\n",
      "  (0, 164943)\t0.021495720641748702\n",
      "  (0, 164726)\t0.01743078847938509\n",
      "  (0, 164495)\t0.012685866682191752\n",
      "  (0, 164376)\t0.03436330479689653\n",
      "  (0, 164262)\t0.06125612627411007\n",
      "  (0, 162771)\t0.029062348039435266\n",
      "  (0, 162740)\t0.02205724414158642\n",
      "  (0, 162670)\t0.017330081418286878\n",
      "  (0, 159666)\t0.06699844886690264\n",
      "  (0, 158508)\t0.035373778548680845\n",
      "  (0, 158161)\t0.017755871133242503\n",
      "  (0, 156988)\t0.0414491079565117\n",
      "  (0, 156107)\t0.04510879972848545\n",
      "  (0, 156003)\t0.0868215416447706\n",
      "  (0, 156001)\t0.07612285052610997\n",
      "  (0, 155843)\t0.024587319509754214\n",
      "  (0, 155827)\t0.07099875018900781\n",
      "  (0, 153949)\t0.04548397082019594\n",
      "  :\t:\n",
      "  (20799, 16462)\t0.028509557095345386\n",
      "  (20799, 16145)\t0.04753473150040301\n",
      "  (20799, 15476)\t0.046526398731637414\n",
      "  (20799, 15125)\t0.051934174798350774\n",
      "  (20799, 14633)\t0.02707826057957665\n",
      "  (20799, 14257)\t0.05113598251228706\n",
      "  (20799, 11104)\t0.038725591817124545\n",
      "  (20799, 10727)\t0.05626922034686463\n",
      "  (20799, 10481)\t0.017201966497586204\n",
      "  (20799, 10018)\t0.05378366895723505\n",
      "  (20799, 9393)\t0.10015901166440992\n",
      "  (20799, 9027)\t0.02596825337542206\n",
      "  (20799, 9024)\t0.03293962373662028\n",
      "  (20799, 8944)\t0.03365803380090982\n",
      "  (20799, 7379)\t0.04353724347337268\n",
      "  (20799, 7338)\t0.02427786319053375\n",
      "  (20799, 7231)\t0.047162183746856164\n",
      "  (20799, 6810)\t0.02772451342411884\n",
      "  (20799, 6447)\t0.01725243444170547\n",
      "  (20799, 6429)\t0.02135796068446359\n",
      "  (20799, 5722)\t0.056825190410552964\n",
      "  (20799, 2903)\t0.02541026278700112\n",
      "  (20799, 2875)\t0.034746635811756584\n",
      "  (20799, 2702)\t0.027178862346821903\n",
      "  (20799, 1356)\t0.0551645494795475\n"
     ]
    }
   ],
   "source": [
    "#Unigram tf-idf matrix\n",
    "\n",
    "tfidf_transformer = TfidfTransformer()\n",
    "tfidf_transformer.fit(unigram_term_freq_matrix)\n",
    "unigram_tfidf_matrix = tfidf_transformer.transform(unigram_term_freq_matrix)\n",
    "print(\"\\nunigram_tfidf_matrix:\")\n",
    "print(unigram_tfidf_matrix)\n"
   ]
  },
  {
   "cell_type": "code",
   "execution_count": 23,
   "metadata": {},
   "outputs": [
    {
     "name": "stdout",
     "output_type": "stream",
     "text": [
      "\n",
      "bigram_term_freq_matrix:\n",
      "  (0, 28347)\t1\n",
      "  (0, 29066)\t1\n",
      "  (0, 34949)\t2\n",
      "  (0, 35902)\t1\n",
      "  (0, 38032)\t1\n",
      "  (0, 44480)\t1\n",
      "  (0, 44481)\t1\n",
      "  (0, 56445)\t1\n",
      "  (0, 56473)\t1\n",
      "  (0, 63958)\t1\n",
      "  (0, 64028)\t1\n",
      "  (0, 71733)\t3\n",
      "  (0, 71823)\t1\n",
      "  (0, 72851)\t1\n",
      "  (0, 73917)\t1\n",
      "  (0, 87221)\t1\n",
      "  (0, 87468)\t1\n",
      "  (0, 95347)\t1\n",
      "  (0, 96758)\t1\n",
      "  (0, 116792)\t1\n",
      "  (0, 117170)\t1\n",
      "  (0, 134246)\t1\n",
      "  (0, 135861)\t1\n",
      "  (0, 146535)\t6\n",
      "  (0, 146780)\t2\n",
      "  :\t:\n",
      "  (20799, 4211907)\t1\n",
      "  (20799, 4211908)\t1\n",
      "  (20799, 4221522)\t1\n",
      "  (20799, 4221523)\t1\n",
      "  (20799, 4221573)\t1\n",
      "  (20799, 4221574)\t1\n",
      "  (20799, 4221640)\t1\n",
      "  (20799, 4221641)\t1\n",
      "  (20799, 4221729)\t1\n",
      "  (20799, 4221730)\t1\n",
      "  (20799, 4222199)\t1\n",
      "  (20799, 4222200)\t1\n",
      "  (20799, 4222201)\t1\n",
      "  (20799, 4222202)\t1\n",
      "  (20799, 4222209)\t1\n",
      "  (20799, 4222210)\t1\n",
      "  (20799, 4222536)\t1\n",
      "  (20799, 4222537)\t1\n",
      "  (20799, 4226398)\t4\n",
      "  (20799, 4227909)\t1\n",
      "  (20799, 4229251)\t1\n",
      "  (20799, 4231063)\t1\n",
      "  (20799, 4233293)\t1\n",
      "  (20799, 4241123)\t1\n",
      "  (20799, 4241267)\t1\n"
     ]
    }
   ],
   "source": [
    "#Unigram and bigram term frequency matrix\n",
    "\n",
    "count_vectorizer = CountVectorizer(analyzer='word', ngram_range=(1,2))\n",
    "count_vectorizer.fit(df_x)\n",
    "bigram_term_freq_matrix = count_vectorizer.transform(df_x)\n",
    "print(\"\\nbigram_term_freq_matrix:\")\n",
    "print(bigram_term_freq_matrix)\n"
   ]
  },
  {
   "cell_type": "code",
   "execution_count": 24,
   "metadata": {},
   "outputs": [
    {
     "name": "stdout",
     "output_type": "stream",
     "text": [
      "\n",
      "bigram_tfidf_matrix:\n",
      "  (0, 4235378)\t0.03241195639621523\n",
      "  (0, 4235376)\t0.032105218768387074\n",
      "  (0, 4234389)\t0.02726253028841198\n",
      "  (0, 4226398)\t0.006356431508144326\n",
      "  (0, 4203725)\t0.039278291446639475\n",
      "  (0, 4203297)\t0.039278291446639475\n",
      "  (0, 4203252)\t0.028926605886906633\n",
      "  (0, 4203031)\t0.07544895675110866\n",
      "  (0, 4202997)\t0.03241195639621523\n",
      "  (0, 4202694)\t0.04662074613139837\n",
      "  (0, 4198527)\t0.039278291446639475\n",
      "  (0, 4195182)\t0.039278291446639475\n",
      "  (0, 4194245)\t0.03576690541704199\n",
      "  (0, 4194182)\t0.024672860548193117\n",
      "  (0, 4185834)\t0.039278291446639475\n",
      "  (0, 4184095)\t0.008663500135815693\n",
      "  (0, 4162666)\t0.039278291446639475\n",
      "  (0, 4162665)\t0.039278291446639475\n",
      "  (0, 4134832)\t0.03772447837555433\n",
      "  (0, 4134300)\t0.013783359013659992\n",
      "  (0, 4130013)\t0.039278291446639475\n",
      "  (0, 4128818)\t0.011176867224256417\n",
      "  (0, 4127302)\t0.030089138191623857\n",
      "  (0, 4123501)\t0.008134356497938377\n",
      "  (0, 4121440)\t0.0315568313562873\n",
      "  :\t:\n",
      "  (20799, 149211)\t0.019908571714262947\n",
      "  (20799, 91550)\t0.05670428718457794\n",
      "  (20799, 90994)\t0.025752078658484702\n",
      "  (20799, 87397)\t0.03262957651937741\n",
      "  (20799, 87221)\t0.014360244072983863\n",
      "  (20799, 83730)\t0.03361183796881683\n",
      "  (20799, 83728)\t0.0278962141068428\n",
      "  (20799, 64595)\t0.029500994141170744\n",
      "  (20799, 64357)\t0.016398921785270644\n",
      "  (20799, 56773)\t0.03262957651937741\n",
      "  (20799, 56474)\t0.010204735379374089\n",
      "  (20799, 55916)\t0.030718824798556275\n",
      "  (20799, 55462)\t0.01263313521140852\n",
      "  (20799, 49946)\t0.03361183796881683\n",
      "  (20799, 49945)\t0.03361183796881683\n",
      "  (20799, 37385)\t0.03361183796881683\n",
      "  (20799, 37224)\t0.02986073700572164\n",
      "  (20799, 34949)\t0.015030053210048303\n",
      "  (20799, 34055)\t0.03262957651937741\n",
      "  (20799, 32843)\t0.0232166228723659\n",
      "  (20799, 32812)\t0.020552474781489884\n",
      "  (20799, 22965)\t0.02986073700572164\n",
      "  (20799, 22662)\t0.01607617169037243\n",
      "  (20799, 4987)\t0.03262957651937741\n",
      "  (20799, 4986)\t0.03262957651937741\n"
     ]
    }
   ],
   "source": [
    "#Unigram and bigram tf-idf matrix\n",
    "\n",
    "tfidf_transformer = TfidfTransformer()\n",
    "tfidf_transformer.fit(bigram_term_freq_matrix)\n",
    "bigram_tfidf_matrix = tfidf_transformer.transform(bigram_term_freq_matrix)\n",
    "print(\"\\nbigram_tfidf_matrix:\")\n",
    "print(bigram_tfidf_matrix)\n"
   ]
  },
  {
   "cell_type": "code",
   "execution_count": 25,
   "metadata": {},
   "outputs": [
    {
     "name": "stdout",
     "output_type": "stream",
     "text": [
      "\n",
      "trigram_tfidf_matrix:\n",
      "  (0, 11044145)\t0.02531647431651331\n",
      "  (0, 11044142)\t0.025076886332934308\n",
      "  (0, 11041662)\t0.030679661679462462\n",
      "  (0, 11041635)\t0.021294337787346344\n",
      "  (0, 11006535)\t0.004964909647953334\n",
      "  (0, 10930038)\t0.030679661679462462\n",
      "  (0, 10930037)\t0.030679661679462462\n",
      "  (0, 10928724)\t0.030679661679462462\n",
      "  (0, 10928723)\t0.030679661679462462\n",
      "  (0, 10928618)\t0.022594121318924396\n",
      "  (0, 10928034)\t0.061359323358924925\n",
      "  (0, 10928032)\t0.05893200498135342\n",
      "  (0, 10927923)\t0.02531647431651331\n",
      "  (0, 10927922)\t0.02531647431651331\n",
      "  (0, 10927082)\t0.036414738673104456\n",
      "  (0, 10917224)\t0.030679661679462462\n",
      "  (0, 10917223)\t0.030679661679462462\n",
      "  (0, 10904418)\t0.030679661679462462\n",
      "  (0, 10904417)\t0.030679661679462462\n",
      "  (0, 10900845)\t0.030679661679462462\n",
      "  (0, 10900842)\t0.027936972742485838\n",
      "  (0, 10900676)\t0.01927158708803471\n",
      "  (0, 10875405)\t0.030679661679462462\n",
      "  (0, 10875404)\t0.030679661679462462\n",
      "  (0, 10869388)\t0.0067669250198392475\n",
      "  :\t:\n",
      "  (20799, 126138)\t0.025106071491571905\n",
      "  (20799, 126137)\t0.025106071491571905\n",
      "  (20799, 125067)\t0.00785179715204062\n",
      "  (20799, 123589)\t0.025106071491571905\n",
      "  (20799, 123585)\t0.023635887859948884\n",
      "  (20799, 122352)\t0.009720273126804539\n",
      "  (20799, 110429)\t0.025861849800812176\n",
      "  (20799, 110428)\t0.025861849800812176\n",
      "  (20799, 110427)\t0.025861849800812176\n",
      "  (20799, 83800)\t0.02692705950001328\n",
      "  (20799, 83798)\t0.025861849800812176\n",
      "  (20799, 83298)\t0.0240408617923708\n",
      "  (20799, 83297)\t0.022975652093169693\n",
      "  (20799, 76476)\t0.01156452613442629\n",
      "  (20799, 74049)\t0.025861849800812176\n",
      "  (20799, 74047)\t0.025106071491571905\n",
      "  (20799, 70737)\t0.025861849800812176\n",
      "  (20799, 70706)\t0.017863492444663925\n",
      "  (20799, 70633)\t0.015813625435389472\n",
      "  (20799, 46171)\t0.024519844291201638\n",
      "  (20799, 46170)\t0.022975652093169693\n",
      "  (20799, 45466)\t0.012369437756251201\n",
      "  (20799, 9068)\t0.025106071491571905\n",
      "  (20799, 9067)\t0.025106071491571905\n",
      "  (20799, 9066)\t0.025106071491571905\n"
     ]
    }
   ],
   "source": [
    "#Unigram, bigram, trigram tf-idf matrix\n",
    "\n",
    "tfidf_vectorizer = TfidfVectorizer(analyzer='word', ngram_range=(1,3))\n",
    "tfidf_vectorizer.fit(df_x)\n",
    "trigram_tfidf_matrix = tfidf_vectorizer.transform(df_x)\n",
    "print(\"\\ntrigram_tfidf_matrix:\")\n",
    "print(trigram_tfidf_matrix)\n"
   ]
  },
  {
   "cell_type": "code",
   "execution_count": 26,
   "metadata": {},
   "outputs": [],
   "source": [
    "#Split data into train/test groups"
   ]
  },
  {
   "cell_type": "code",
   "execution_count": 27,
   "metadata": {},
   "outputs": [],
   "source": [
    "#Unigram term frequency matrix split\n",
    "\n",
    "train_x_unigram_tf, test_x_unigram_tf, train_y_unigram_tf, test_y_unigram_tf = train_test_split(unigram_term_freq_matrix, df_y)\n"
   ]
  },
  {
   "cell_type": "code",
   "execution_count": 28,
   "metadata": {},
   "outputs": [],
   "source": [
    "#Unigram tf-idf matrix split\n",
    "\n",
    "train_x_unigram_tfidf, test_x_unigram_tfidf, train_y_unigram_tfidf, test_y_unigram_tfidf = train_test_split(unigram_tfidf_matrix, df_y)\n"
   ]
  },
  {
   "cell_type": "code",
   "execution_count": 29,
   "metadata": {},
   "outputs": [],
   "source": [
    "#Unigram and bigram term frequency matrix split\n",
    "\n",
    "train_x_bigram_tf, test_x_bigram_tf, train_y_bigram_tf, test_y_bigram_tf = train_test_split(bigram_term_freq_matrix, df_y)\n"
   ]
  },
  {
   "cell_type": "code",
   "execution_count": 30,
   "metadata": {},
   "outputs": [],
   "source": [
    "#Unigram and bigram tf-idf matrix split\n",
    "\n",
    "train_x_bigram_tfidf, test_x_bigram_tfidf, train_y_bigram_tfidf, test_y_bigram_tfidf = train_test_split(bigram_tfidf_matrix, df_y)\n"
   ]
  },
  {
   "cell_type": "code",
   "execution_count": 31,
   "metadata": {},
   "outputs": [],
   "source": [
    "#Unigram, bigram, trigram tf-idf matrix split\n",
    "\n",
    "train_x_trigram_tfidf, test_x_trigram_tfidf, train_y_trigram_tfidf, test_y_trigram_tfidf = train_test_split(trigram_tfidf_matrix, df_y)\n"
   ]
  },
  {
   "cell_type": "code",
   "execution_count": 32,
   "metadata": {},
   "outputs": [],
   "source": [
    "\n",
    "#TRAINING\n"
   ]
  },
  {
   "cell_type": "code",
   "execution_count": 33,
   "metadata": {},
   "outputs": [],
   "source": [
    "\n",
    "def assess_model_performance(classifier, test_x, test_y):\n",
    "    true_y = test_y\n",
    "    pred_y = classifier.predict(test_x)\n",
    "    print(\"Accuracy: \" + str((classifier.score(test_x, true_y))*100) + \"%\")\n",
    "    print(\"Avg macro precision: \" + str(precision_score(true_y, pred_y, average='macro')))\n",
    "    print(\"Avg micro precision: \" + str(precision_score(true_y, pred_y, average='micro')))\n",
    "    print(\"Avg macro recall: \" + str(recall_score(true_y, pred_y, average='macro')))\n",
    "    print(\"Avg micro recall: \" + str(recall_score(true_y, pred_y, average='micro')))\n",
    "    print(\"F1 Score (macro): \" + str(f1_score(true_y, pred_y, average='macro')))\n",
    "    print(\"F1 Score (micro): \" + str(f1_score(true_y, pred_y, average='micro')))\n",
    "    plot_confusion_matrix(classifier, test_x, true_y)\n",
    "    disp = plot_precision_recall_curve(classifier, test_x, true_y)\n",
    "    disp.ax_.set_title('Precision-Recall curve')\n",
    "    "
   ]
  },
  {
   "cell_type": "code",
   "execution_count": 34,
   "metadata": {},
   "outputs": [
    {
     "name": "stdout",
     "output_type": "stream",
     "text": [
      "Multinomial naive bayes...\n"
     ]
    }
   ],
   "source": [
    "#NAIVE BAYES (MULTINOMIAL)\n",
    "\n",
    "print(\"Multinomial naive bayes...\")\n"
   ]
  },
  {
   "cell_type": "code",
   "execution_count": 35,
   "metadata": {},
   "outputs": [
    {
     "name": "stdout",
     "output_type": "stream",
     "text": [
      "\n",
      "Without smoothing, using unigram term frequency counts:\n",
      "Accuracy: 92.5%\n",
      "Avg macro precision: 0.9269703388319533\n",
      "Avg micro precision: 0.925\n",
      "Avg macro recall: 0.925105799818223\n",
      "Avg micro recall: 0.925\n",
      "F1 Score (macro): 0.924925325131092\n",
      "F1 Score (micro): 0.925\n"
     ]
    },
    {
     "data": {
      "image/png": "[encoded data removed]",
      "text/plain": [
       "<Figure size 432x288 with 2 Axes>"
      ]
     },
     "metadata": {
      "needs_background": "light"
     },
     "output_type": "display_data"
    },
    {
     "data": {
      "image/png": "[encoded data removed]",
      "text/plain": [
       "<Figure size 432x288 with 1 Axes>"
      ]
     },
     "metadata": {
      "needs_background": "light"
     },
     "output_type": "display_data"
    }
   ],
   "source": [
    "\n",
    "print(\"\\nWithout smoothing, using unigram term frequency counts:\")\n",
    "mnb_unigram_tf = MultinomialNB(alpha=1.0e-10)\n",
    "mnb_unigram_tf.fit(train_x_unigram_tf, train_y_unigram_tf)\n",
    "assess_model_performance(mnb_unigram_tf, test_x_unigram_tf, test_y_unigram_tf)\n"
   ]
  },
  {
   "cell_type": "code",
   "execution_count": 36,
   "metadata": {},
   "outputs": [
    {
     "name": "stdout",
     "output_type": "stream",
     "text": [
      "\n",
      "Without smoothing, using unigram tf-idf:\n",
      "Accuracy: 92.57692307692308%\n",
      "Avg macro precision: 0.9277216106042909\n",
      "Avg micro precision: 0.9257692307692308\n",
      "Avg macro recall: 0.9256538428936796\n",
      "Avg micro recall: 0.9257692307692308\n",
      "F1 Score (macro): 0.9256699958154192\n",
      "F1 Score (micro): 0.9257692307692308\n"
     ]
    },
    {
     "data": {
      "image/png": "[encoded data removed]",
      "text/plain": [
       "<Figure size 432x288 with 2 Axes>"
      ]
     },
     "metadata": {
      "needs_background": "light"
     },
     "output_type": "display_data"
    },
    {
     "data": {
      "image/png": "[encoded data removed]",
      "text/plain": [
       "<Figure size 432x288 with 1 Axes>"
      ]
     },
     "metadata": {
      "needs_background": "light"
     },
     "output_type": "display_data"
    }
   ],
   "source": [
    "\n",
    "print(\"\\nWithout smoothing, using unigram tf-idf:\")\n",
    "mnb_unigram_tfidf = MultinomialNB(alpha=1.0e-10)\n",
    "mnb_unigram_tfidf.fit(train_x_unigram_tfidf, train_y_unigram_tfidf)\n",
    "assess_model_performance(mnb_unigram_tfidf, test_x_unigram_tfidf, test_y_unigram_tfidf)\n"
   ]
  },
  {
   "cell_type": "code",
   "execution_count": 37,
   "metadata": {},
   "outputs": [
    {
     "name": "stdout",
     "output_type": "stream",
     "text": [
      "\n",
      "With smoothing, using unigram term frequency counts:\n",
      "Accuracy: 90.65384615384615%\n",
      "Avg macro precision: 0.9134767847819235\n",
      "Avg micro precision: 0.9065384615384615\n",
      "Avg macro recall: 0.9067387620237826\n",
      "Avg micro recall: 0.9065384615384615\n",
      "F1 Score (macro): 0.9061742064904046\n",
      "F1 Score (micro): 0.9065384615384615\n"
     ]
    },
    {
     "data": {
      "image/png": "[encoded data removed]",
      "text/plain": [
       "<Figure size 432x288 with 2 Axes>"
      ]
     },
     "metadata": {
      "needs_background": "light"
     },
     "output_type": "display_data"
    },
    {
     "data": {
      "image/png": "[encoded data removed]",
      "text/plain": [
       "<Figure size 432x288 with 1 Axes>"
      ]
     },
     "metadata": {
      "needs_background": "light"
     },
     "output_type": "display_data"
    }
   ],
   "source": [
    "\n",
    "print(\"\\nWith smoothing, using unigram term frequency counts:\")\n",
    "mnb_smoothing_unigram_tf = MultinomialNB(alpha=1.0)\n",
    "mnb_smoothing_unigram_tf.fit(train_x_unigram_tf, train_y_unigram_tf)\n",
    "assess_model_performance(mnb_smoothing_unigram_tf, test_x_unigram_tf, test_y_unigram_tf)\n"
   ]
  },
  {
   "cell_type": "code",
   "execution_count": 38,
   "metadata": {},
   "outputs": [
    {
     "name": "stdout",
     "output_type": "stream",
     "text": [
      "\n",
      "With smoothing, using unigram tf-idf:\n",
      "Accuracy: 82.75%\n",
      "Avg macro precision: 0.8694254302352561\n",
      "Avg micro precision: 0.8275\n",
      "Avg macro recall: 0.8269167870206728\n",
      "Avg micro recall: 0.8275\n",
      "F1 Score (macro): 0.8222822962892151\n",
      "F1 Score (micro): 0.8275\n"
     ]
    },
    {
     "data": {
      "image/png": "[encoded data removed]",
      "text/plain": [
       "<Figure size 432x288 with 2 Axes>"
      ]
     },
     "metadata": {
      "needs_background": "light"
     },
     "output_type": "display_data"
    },
    {
     "data": {
      "image/png": "[encoded data removed]",
      "text/plain": [
       "<Figure size 432x288 with 1 Axes>"
      ]
     },
     "metadata": {
      "needs_background": "light"
     },
     "output_type": "display_data"
    }
   ],
   "source": [
    "\n",
    "print(\"\\nWith smoothing, using unigram tf-idf:\")\n",
    "mnb_smoothing_unigram_tfidf = MultinomialNB(alpha=1.0)\n",
    "mnb_smoothing_unigram_tfidf.fit(train_x_unigram_tfidf, train_y_unigram_tfidf)\n",
    "assess_model_performance(mnb_smoothing_unigram_tfidf, test_x_unigram_tfidf, test_y_unigram_tfidf)\n"
   ]
  },
  {
   "cell_type": "code",
   "execution_count": 39,
   "metadata": {},
   "outputs": [
    {
     "name": "stdout",
     "output_type": "stream",
     "text": [
      "\n",
      "With smoothing, using unigram and bigram term frequency counts:\n",
      "Accuracy: 92.01923076923076%\n",
      "Avg macro precision: 0.9279736346516008\n",
      "Avg micro precision: 0.9201923076923076\n",
      "Avg macro recall: 0.9202182574287363\n",
      "Avg micro recall: 0.9201923076923076\n",
      "F1 Score (macro): 0.9198311893005917\n",
      "F1 Score (micro): 0.9201923076923076\n"
     ]
    },
    {
     "data": {
      "image/png": "[encoded data removed]",
      "text/plain": [
       "<Figure size 432x288 with 2 Axes>"
      ]
     },
     "metadata": {
      "needs_background": "light"
     },
     "output_type": "display_data"
    },
    {
     "data": {
      "image/png": "[encoded data removed]",
      "text/plain": [
       "<Figure size 432x288 with 1 Axes>"
      ]
     },
     "metadata": {
      "needs_background": "light"
     },
     "output_type": "display_data"
    }
   ],
   "source": [
    "\n",
    "print(\"\\nWith smoothing, using unigram and bigram term frequency counts:\")\n",
    "mnb_smoothing_bigram_tf = MultinomialNB(alpha=1.0)\n",
    "mnb_smoothing_bigram_tf.fit(train_x_bigram_tf, train_y_bigram_tf)\n",
    "assess_model_performance(mnb_smoothing_bigram_tf, test_x_bigram_tf, test_y_bigram_tf)\n"
   ]
  },
  {
   "cell_type": "code",
   "execution_count": 40,
   "metadata": {},
   "outputs": [
    {
     "name": "stdout",
     "output_type": "stream",
     "text": [
      "\n",
      "With smoothing, using unigram and bigram tf-idf:\n",
      "Accuracy: 76.5%\n",
      "Avg macro precision: 0.8368209255533199\n",
      "Avg micro precision: 0.765\n",
      "Avg macro recall: 0.7674748077291804\n",
      "Avg micro recall: 0.765\n",
      "F1 Score (macro): 0.7528710884997163\n",
      "F1 Score (micro): 0.765\n"
     ]
    },
    {
     "data": {
      "image/png": "[encoded data removed]",
      "text/plain": [
       "<Figure size 432x288 with 2 Axes>"
      ]
     },
     "metadata": {
      "needs_background": "light"
     },
     "output_type": "display_data"
    },
    {
     "data": {
      "image/png": "[encoded data removed]",
      "text/plain": [
       "<Figure size 432x288 with 1 Axes>"
      ]
     },
     "metadata": {
      "needs_background": "light"
     },
     "output_type": "display_data"
    }
   ],
   "source": [
    "\n",
    "print(\"\\nWith smoothing, using unigram and bigram tf-idf:\")\n",
    "mnb_smoothing_bigram_tfidf = MultinomialNB(alpha=1.0)\n",
    "mnb_smoothing_bigram_tfidf.fit(train_x_bigram_tfidf, train_y_bigram_tfidf)\n",
    "assess_model_performance(mnb_smoothing_bigram_tfidf, test_x_bigram_tfidf, test_y_bigram_tfidf)\n"
   ]
  },
  {
   "cell_type": "code",
   "execution_count": 41,
   "metadata": {},
   "outputs": [
    {
     "name": "stdout",
     "output_type": "stream",
     "text": [
      "\n",
      "With smoothing, using unigram, bigram and trigram tf-idf:\n",
      "Accuracy: 81.82692307692308%\n",
      "Avg macro precision: 0.8667392232180964\n",
      "Avg micro precision: 0.8182692307692307\n",
      "Avg macro recall: 0.8177796702964267\n",
      "Avg micro recall: 0.8182692307692307\n",
      "F1 Score (macro): 0.8118981933613842\n",
      "F1 Score (micro): 0.8182692307692306\n"
     ]
    },
    {
     "data": {
      "image/png": "[encoded data removed]",
      "text/plain": [
       "<Figure size 432x288 with 2 Axes>"
      ]
     },
     "metadata": {
      "needs_background": "light"
     },
     "output_type": "display_data"
    },
    {
     "data": {
      "image/png": "[encoded data removed]",
      "text/plain": [
       "<Figure size 432x288 with 1 Axes>"
      ]
     },
     "metadata": {
      "needs_background": "light"
     },
     "output_type": "display_data"
    }
   ],
   "source": [
    "\n",
    "print(\"\\nWith smoothing, using unigram, bigram and trigram tf-idf:\")\n",
    "mnb_smoothing_trigram_tfidf = MultinomialNB(alpha=1.0)\n",
    "mnb_smoothing_trigram_tfidf.fit(train_x_trigram_tfidf, train_y_trigram_tfidf)\n",
    "assess_model_performance(mnb_smoothing_trigram_tfidf, test_x_trigram_tfidf, test_y_trigram_tfidf)\n"
   ]
  },
  {
   "cell_type": "code",
   "execution_count": 42,
   "metadata": {},
   "outputs": [
    {
     "name": "stdout",
     "output_type": "stream",
     "text": [
      "Logistic regression...\n"
     ]
    }
   ],
   "source": [
    "#LOGISTIC REGRESSION\n",
    "\n",
    "print(\"Logistic regression...\")\n"
   ]
  },
  {
   "cell_type": "code",
   "execution_count": 43,
   "metadata": {},
   "outputs": [
    {
     "name": "stdout",
     "output_type": "stream",
     "text": [
      "\n",
      "Using unigram tf-idf:\n",
      "Accuracy: 94.17307692307692%\n",
      "Avg macro precision: 0.941737115759788\n",
      "Avg micro precision: 0.9417307692307693\n",
      "Avg macro recall: 0.9417400563527463\n",
      "Avg micro recall: 0.9417307692307693\n",
      "F1 Score (macro): 0.9417307498364182\n",
      "F1 Score (micro): 0.9417307692307693\n"
     ]
    },
    {
     "data": {
      "image/png": "[encoded data removed]",
      "text/plain": [
       "<Figure size 432x288 with 2 Axes>"
      ]
     },
     "metadata": {
      "needs_background": "light"
     },
     "output_type": "display_data"
    },
    {
     "data": {
      "image/png": "[encoded data removed]",
      "text/plain": [
       "<Figure size 432x288 with 1 Axes>"
      ]
     },
     "metadata": {
      "needs_background": "light"
     },
     "output_type": "display_data"
    }
   ],
   "source": [
    "\n",
    "print(\"\\nUsing unigram tf-idf:\")\n",
    "log_reg_unigram_tfidf = LogisticRegression()\n",
    "log_reg_unigram_tfidf.fit(train_x_unigram_tfidf, train_y_unigram_tfidf)\n",
    "assess_model_performance(log_reg_unigram_tfidf, test_x_unigram_tfidf, test_y_unigram_tfidf)\n"
   ]
  },
  {
   "cell_type": "code",
   "execution_count": 44,
   "metadata": {},
   "outputs": [
    {
     "name": "stdout",
     "output_type": "stream",
     "text": [
      "\n",
      "Using unigram and bigram tf-idf:\n",
      "Accuracy: 93.59615384615385%\n",
      "Avg macro precision: 0.9360638962163801\n",
      "Avg micro precision: 0.9359615384615385\n",
      "Avg macro recall: 0.93588990202414\n",
      "Avg micro recall: 0.9359615384615385\n",
      "F1 Score (macro): 0.9359436078834344\n",
      "F1 Score (micro): 0.9359615384615385\n"
     ]
    },
    {
     "data": {
      "image/png": "[encoded data removed]",
      "text/plain": [
       "<Figure size 432x288 with 2 Axes>"
      ]
     },
     "metadata": {
      "needs_background": "light"
     },
     "output_type": "display_data"
    },
    {
     "data": {
      "image/png": "[encoded data removed]",
      "text/plain": [
       "<Figure size 432x288 with 1 Axes>"
      ]
     },
     "metadata": {
      "needs_background": "light"
     },
     "output_type": "display_data"
    }
   ],
   "source": [
    "\n",
    "print(\"\\nUsing unigram and bigram tf-idf:\")\n",
    "log_reg_bigram_tfidf = LogisticRegression()\n",
    "log_reg_bigram_tfidf.fit(train_x_bigram_tfidf, train_y_bigram_tfidf)\n",
    "assess_model_performance(log_reg_bigram_tfidf, test_x_bigram_tfidf, test_y_bigram_tfidf)\n"
   ]
  },
  {
   "cell_type": "code",
   "execution_count": 45,
   "metadata": {},
   "outputs": [
    {
     "name": "stdout",
     "output_type": "stream",
     "text": [
      "\n",
      "Using unigram, bigram, trigram tf-idf:\n",
      "Accuracy: 93.32692307692308%\n",
      "Avg macro precision: 0.9337431196355666\n",
      "Avg micro precision: 0.9332692307692307\n",
      "Avg macro recall: 0.9333148272820321\n",
      "Avg micro recall: 0.9332692307692307\n",
      "F1 Score (macro): 0.9332553462027511\n",
      "F1 Score (micro): 0.9332692307692307\n"
     ]
    },
    {
     "data": {
      "image/png": "[encoded data removed]",
      "text/plain": [
       "<Figure size 432x288 with 2 Axes>"
      ]
     },
     "metadata": {
      "needs_background": "light"
     },
     "output_type": "display_data"
    },
    {
     "data": {
      "image/png": "[encoded data removed]",
      "text/plain": [
       "<Figure size 432x288 with 1 Axes>"
      ]
     },
     "metadata": {
      "needs_background": "light"
     },
     "output_type": "display_data"
    }
   ],
   "source": [
    "\n",
    "print(\"\\nUsing unigram, bigram, trigram tf-idf:\")\n",
    "log_reg_trigram_tfidf = LogisticRegression()\n",
    "log_reg_trigram_tfidf.fit(train_x_trigram_tfidf, train_y_trigram_tfidf)\n",
    "assess_model_performance(log_reg_trigram_tfidf, test_x_trigram_tfidf, test_y_trigram_tfidf)\n"
   ]
  },
  {
   "cell_type": "code",
   "execution_count": 46,
   "metadata": {},
   "outputs": [
    {
     "name": "stdout",
     "output_type": "stream",
     "text": [
      "Linear SVC...\n"
     ]
    }
   ],
   "source": [
    "#SVM (Linear SVC)\n",
    "\n",
    "print(\"Linear SVC...\")\n"
   ]
  },
  {
   "cell_type": "code",
   "execution_count": 47,
   "metadata": {},
   "outputs": [
    {
     "name": "stdout",
     "output_type": "stream",
     "text": [
      "\n",
      "With linear kernel, standard regularization (inversely proportional to C) set to 1.0, using unigram tf-idf:\n",
      "Accuracy: 96.07692307692308%\n",
      "Avg macro precision: 0.9607699646109416\n",
      "Avg micro precision: 0.9607692307692308\n",
      "Avg macro recall: 0.9607754175752699\n",
      "Avg micro recall: 0.9607692307692308\n",
      "F1 Score (macro): 0.9607691379151193\n",
      "F1 Score (micro): 0.9607692307692308\n"
     ]
    },
    {
     "data": {
      "image/png": "[encoded data removed]",
      "text/plain": [
       "<Figure size 432x288 with 2 Axes>"
      ]
     },
     "metadata": {
      "needs_background": "light"
     },
     "output_type": "display_data"
    },
    {
     "data": {
      "image/png": "[encoded data removed]",
      "text/plain": [
       "<Figure size 432x288 with 1 Axes>"
      ]
     },
     "metadata": {
      "needs_background": "light"
     },
     "output_type": "display_data"
    }
   ],
   "source": [
    "\n",
    "print(\"\\nWith linear kernel, standard regularization (inversely proportional to C) set to 1.0, using unigram tf-idf:\")\n",
    "\n",
    "linear_svc_c1_unigram_tfidf = LinearSVC(C=1.0, max_iter=1000)\n",
    "linear_svc_c1_unigram_tfidf.fit(train_x_unigram_tfidf, train_y_unigram_tfidf)\n",
    "assess_model_performance(linear_svc_c1_unigram_tfidf, test_x_unigram_tfidf, test_y_unigram_tfidf)\n"
   ]
  },
  {
   "cell_type": "code",
   "execution_count": 48,
   "metadata": {},
   "outputs": [
    {
     "name": "stdout",
     "output_type": "stream",
     "text": [
      "\n",
      "With linear kernel, more regularization (inversely proportional to C) set to 1.0e-3, using unigram tf-idf:\n",
      "Accuracy: 87.82692307692308%\n",
      "Avg macro precision: 0.878496192483952\n",
      "Avg micro precision: 0.8782692307692308\n",
      "Avg macro recall: 0.8783123732695615\n",
      "Avg micro recall: 0.8782692307692308\n",
      "F1 Score (macro): 0.878258420801344\n",
      "F1 Score (micro): 0.8782692307692308\n"
     ]
    },
    {
     "data": {
      "image/png": "[encoded data removed]",
      "text/plain": [
       "<Figure size 432x288 with 2 Axes>"
      ]
     },
     "metadata": {
      "needs_background": "light"
     },
     "output_type": "display_data"
    },
    {
     "data": {
      "image/png": "[encoded data removed]",
      "text/plain": [
       "<Figure size 432x288 with 1 Axes>"
      ]
     },
     "metadata": {
      "needs_background": "light"
     },
     "output_type": "display_data"
    }
   ],
   "source": [
    "print(\"\\nWith linear kernel, more regularization (inversely proportional to C) set to 1.0e-3, using unigram tf-idf:\")\n",
    "\n",
    "linear_svc_c1e3_unigram_tfidf = LinearSVC(C=1.0e-3, max_iter=1000)\n",
    "linear_svc_c1e3_unigram_tfidf.fit(train_x_unigram_tfidf, train_y_unigram_tfidf)\n",
    "assess_model_performance(linear_svc_c1e3_unigram_tfidf, test_x_unigram_tfidf, test_y_unigram_tfidf)\n"
   ]
  },
  {
   "cell_type": "code",
   "execution_count": 49,
   "metadata": {},
   "outputs": [
    {
     "name": "stdout",
     "output_type": "stream",
     "text": [
      "\n",
      "With linear kernel, standard regularization (inversely proportional to C) set to 1.0, using unigram and bigram tf-idf:\n",
      "Accuracy: 96.17307692307693%\n",
      "Avg macro precision: 0.9618464034512446\n",
      "Avg micro precision: 0.9617307692307693\n",
      "Avg macro recall: 0.961662121760867\n",
      "Avg micro recall: 0.9617307692307693\n",
      "F1 Score (macro): 0.9617200539603707\n",
      "F1 Score (micro): 0.9617307692307693\n"
     ]
    },
    {
     "data": {
      "image/png": "[encoded data removed]",
      "text/plain": [
       "<Figure size 432x288 with 2 Axes>"
      ]
     },
     "metadata": {
      "needs_background": "light"
     },
     "output_type": "display_data"
    },
    {
     "data": {
      "image/png": "[encoded data removed]",
      "text/plain": [
       "<Figure size 432x288 with 1 Axes>"
      ]
     },
     "metadata": {
      "needs_background": "light"
     },
     "output_type": "display_data"
    }
   ],
   "source": [
    "\n",
    "print(\"\\nWith linear kernel, standard regularization (inversely proportional to C) set to 1.0, using unigram and bigram tf-idf:\")\n",
    "\n",
    "linear_svc_c1_bigram_tfidf = LinearSVC(C=1.0, max_iter=1000)\n",
    "linear_svc_c1_bigram_tfidf.fit(train_x_bigram_tfidf, train_y_bigram_tfidf)\n",
    "assess_model_performance(linear_svc_c1_bigram_tfidf, test_x_bigram_tfidf, test_y_bigram_tfidf)\n"
   ]
  },
  {
   "cell_type": "code",
   "execution_count": 50,
   "metadata": {},
   "outputs": [
    {
     "name": "stdout",
     "output_type": "stream",
     "text": [
      "\n",
      "With linear kernel, standard regularization (inversely proportional to C) set to 1.0, using unigram, bigram and trigram tf-idf:\n",
      "Accuracy: 95.63461538461539%\n",
      "Avg macro precision: 0.9567134461369928\n",
      "Avg micro precision: 0.9563461538461538\n",
      "Avg macro recall: 0.9563857045709354\n",
      "Avg micro recall: 0.9563461538461538\n",
      "F1 Score (macro): 0.9563397452828782\n",
      "F1 Score (micro): 0.9563461538461538\n"
     ]
    },
    {
     "data": {
      "image/png": "[encoded data removed]",
      "text/plain": [
       "<Figure size 432x288 with 2 Axes>"
      ]
     },
     "metadata": {
      "needs_background": "light"
     },
     "output_type": "display_data"
    },
    {
     "data": {
      "image/png": "[encoded data removed]",
      "text/plain": [
       "<Figure size 432x288 with 1 Axes>"
      ]
     },
     "metadata": {
      "needs_background": "light"
     },
     "output_type": "display_data"
    }
   ],
   "source": [
    "\n",
    "print(\"\\nWith linear kernel, standard regularization (inversely proportional to C) set to 1.0, using unigram, bigram and trigram tf-idf:\")\n",
    "\n",
    "linear_svc_c1_trigram_tfidf = LinearSVC(C=1.0, max_iter=1000)\n",
    "linear_svc_c1_trigram_tfidf.fit(train_x_trigram_tfidf, train_y_trigram_tfidf)\n",
    "assess_model_performance(linear_svc_c1_trigram_tfidf, test_x_trigram_tfidf, test_y_trigram_tfidf)\n"
   ]
  },
  {
   "cell_type": "code",
   "execution_count": 51,
   "metadata": {},
   "outputs": [
    {
     "name": "stdout",
     "output_type": "stream",
     "text": [
      "SGDC...\n"
     ]
    }
   ],
   "source": [
    "#SGDC\n",
    "\n",
    "print(\"SGDC...\")\n"
   ]
  },
  {
   "cell_type": "code",
   "execution_count": 52,
   "metadata": {},
   "outputs": [
    {
     "name": "stdout",
     "output_type": "stream",
     "text": [
      "\n",
      "Using unigram tf-idf:\n",
      "Accuracy: 95.6923076923077%\n",
      "Avg macro precision: 0.956931294843818\n",
      "Avg micro precision: 0.9569230769230769\n",
      "Avg macro recall: 0.9569172352508958\n",
      "Avg micro recall: 0.9569230769230769\n",
      "F1 Score (macro): 0.9569219999730763\n",
      "F1 Score (micro): 0.9569230769230769\n"
     ]
    },
    {
     "data": {
      "image/png": "[encoded data removed]",
      "text/plain": [
       "<Figure size 432x288 with 2 Axes>"
      ]
     },
     "metadata": {
      "needs_background": "light"
     },
     "output_type": "display_data"
    },
    {
     "data": {
      "image/png": "[encoded data removed]",
      "text/plain": [
       "<Figure size 432x288 with 1 Axes>"
      ]
     },
     "metadata": {
      "needs_background": "light"
     },
     "output_type": "display_data"
    }
   ],
   "source": [
    "\n",
    "print(\"\\nUsing unigram tf-idf:\")\n",
    "sgdc_unigram_tfidf = SGDClassifier()\n",
    "sgdc_unigram_tfidf.fit(train_x_unigram_tfidf, train_y_unigram_tfidf)\n",
    "assess_model_performance(sgdc_unigram_tfidf, test_x_unigram_tfidf, test_y_unigram_tfidf)\n"
   ]
  },
  {
   "cell_type": "code",
   "execution_count": 53,
   "metadata": {},
   "outputs": [
    {
     "name": "stdout",
     "output_type": "stream",
     "text": [
      "\n",
      "Using unigram and bigram tf-idf:\n",
      "Accuracy: 95.73076923076923%\n",
      "Avg macro precision: 0.9574657871255501\n",
      "Avg micro precision: 0.9573076923076923\n",
      "Avg macro recall: 0.9572240330831268\n",
      "Avg micro recall: 0.9573076923076923\n",
      "F1 Score (macro): 0.9572937369622707\n",
      "F1 Score (micro): 0.9573076923076923\n"
     ]
    },
    {
     "data": {
      "image/png": "[encoded data removed]",
      "text/plain": [
       "<Figure size 432x288 with 2 Axes>"
      ]
     },
     "metadata": {
      "needs_background": "light"
     },
     "output_type": "display_data"
    },
    {
     "data": {
      "image/png": "[encoded data removed]",
      "text/plain": [
       "<Figure size 432x288 with 1 Axes>"
      ]
     },
     "metadata": {
      "needs_background": "light"
     },
     "output_type": "display_data"
    }
   ],
   "source": [
    "\n",
    "print(\"\\nUsing unigram and bigram tf-idf:\")\n",
    "sgdc_bigram_tfidf = SGDClassifier()\n",
    "sgdc_bigram_tfidf.fit(train_x_bigram_tfidf, train_y_bigram_tfidf)\n",
    "assess_model_performance(sgdc_bigram_tfidf, test_x_bigram_tfidf, test_y_bigram_tfidf)\n"
   ]
  },
  {
   "cell_type": "code",
   "execution_count": 54,
   "metadata": {},
   "outputs": [
    {
     "name": "stdout",
     "output_type": "stream",
     "text": [
      "\n",
      "Using unigram, bigram, trigram tf-idf:\n",
      "Accuracy: 95.40384615384615%\n",
      "Avg macro precision: 0.9543654165317178\n",
      "Avg micro precision: 0.9540384615384615\n",
      "Avg macro recall: 0.9540759245148375\n",
      "Avg micro recall: 0.9540384615384615\n",
      "F1 Score (macro): 0.9540325439084818\n",
      "F1 Score (micro): 0.9540384615384615\n"
     ]
    },
    {
     "data": {
      "image/png": "[encoded data removed]",
      "text/plain": [
       "<Figure size 432x288 with 2 Axes>"
      ]
     },
     "metadata": {
      "needs_background": "light"
     },
     "output_type": "display_data"
    },
    {
     "data": {
      "image/png": "[encoded data removed]",
      "text/plain": [
       "<Figure size 432x288 with 1 Axes>"
      ]
     },
     "metadata": {
      "needs_background": "light"
     },
     "output_type": "display_data"
    }
   ],
   "source": [
    "\n",
    "print(\"\\nUsing unigram, bigram, trigram tf-idf:\")\n",
    "sgdc_trigram_tfidf = SGDClassifier()\n",
    "sgdc_trigram_tfidf.fit(train_x_trigram_tfidf, train_y_trigram_tfidf)\n",
    "assess_model_performance(sgdc_trigram_tfidf, test_x_trigram_tfidf, test_y_trigram_tfidf)\n"
   ]
  },
  {
   "cell_type": "code",
   "execution_count": 55,
   "metadata": {},
   "outputs": [
    {
     "name": "stdout",
     "output_type": "stream",
     "text": [
      "Decision Tree...\n"
     ]
    }
   ],
   "source": [
    "#DECISION TREE\n",
    "\n",
    "print(\"Decision Tree...\")\n"
   ]
  },
  {
   "cell_type": "code",
   "execution_count": 56,
   "metadata": {},
   "outputs": [
    {
     "name": "stdout",
     "output_type": "stream",
     "text": [
      "\n",
      "Using unigram tf-idf:\n",
      "Accuracy: 93.46153846153847%\n",
      "Avg macro precision: 0.9346158414965712\n",
      "Avg micro precision: 0.9346153846153846\n",
      "Avg macro recall: 0.9346132697743863\n",
      "Avg micro recall: 0.9346153846153846\n",
      "F1 Score (macro): 0.934614417373038\n",
      "F1 Score (micro): 0.9346153846153846\n"
     ]
    },
    {
     "data": {
      "image/png": "[encoded data removed]",
      "text/plain": [
       "<Figure size 432x288 with 2 Axes>"
      ]
     },
     "metadata": {
      "needs_background": "light"
     },
     "output_type": "display_data"
    },
    {
     "data": {
      "image/png": "[encoded data removed]",
      "text/plain": [
       "<Figure size 432x288 with 1 Axes>"
      ]
     },
     "metadata": {
      "needs_background": "light"
     },
     "output_type": "display_data"
    }
   ],
   "source": [
    "\n",
    "print(\"\\nUsing unigram tf-idf:\")\n",
    "dtree_unigram_tfidf = DecisionTreeClassifier()\n",
    "dtree_unigram_tfidf.fit(train_x_unigram_tfidf, train_y_unigram_tfidf)\n",
    "assess_model_performance(dtree_unigram_tfidf, test_x_unigram_tfidf, test_y_unigram_tfidf)\n"
   ]
  },
  {
   "cell_type": "code",
   "execution_count": 57,
   "metadata": {},
   "outputs": [
    {
     "name": "stdout",
     "output_type": "stream",
     "text": [
      "\n",
      "Using unigram and bigram tf-idf:\n",
      "Accuracy: 94.73076923076923%\n",
      "Avg macro precision: 0.9474870838329559\n",
      "Avg micro precision: 0.9473076923076923\n",
      "Avg macro recall: 0.9472145882007617\n",
      "Avg micro recall: 0.9473076923076923\n",
      "F1 Score (macro): 0.947288970535245\n",
      "F1 Score (micro): 0.9473076923076923\n"
     ]
    },
    {
     "data": {
      "image/png": "[encoded data removed]",
      "text/plain": [
       "<Figure size 432x288 with 2 Axes>"
      ]
     },
     "metadata": {
      "needs_background": "light"
     },
     "output_type": "display_data"
    },
    {
     "data": {
      "image/png": "[encoded data removed]",
      "text/plain": [
       "<Figure size 432x288 with 1 Axes>"
      ]
     },
     "metadata": {
      "needs_background": "light"
     },
     "output_type": "display_data"
    }
   ],
   "source": [
    "\n",
    "print(\"\\nUsing unigram and bigram tf-idf:\")\n",
    "dtree_bigram_tfidf = DecisionTreeClassifier()\n",
    "dtree_bigram_tfidf.fit(train_x_bigram_tfidf, train_y_bigram_tfidf)\n",
    "assess_model_performance(dtree_bigram_tfidf, test_x_bigram_tfidf, test_y_bigram_tfidf)\n"
   ]
  },
  {
   "cell_type": "code",
   "execution_count": 58,
   "metadata": {},
   "outputs": [
    {
     "name": "stdout",
     "output_type": "stream",
     "text": [
      "\n",
      "Using unigram, bigram, trigram tf-idf:\n",
      "Accuracy: 95.34615384615385%\n",
      "Avg macro precision: 0.9536341091341831\n",
      "Avg micro precision: 0.9534615384615385\n",
      "Avg macro recall: 0.9534891599066324\n",
      "Avg micro recall: 0.9534615384615385\n",
      "F1 Score (macro): 0.9534587845434641\n",
      "F1 Score (micro): 0.9534615384615385\n"
     ]
    },
    {
     "data": {
      "image/png": "[encoded data removed]",
      "text/plain": [
       "<Figure size 432x288 with 2 Axes>"
      ]
     },
     "metadata": {
      "needs_background": "light"
     },
     "output_type": "display_data"
    },
    {
     "data": {
      "image/png": "[encoded data removed]",
      "text/plain": [
       "<Figure size 432x288 with 1 Axes>"
      ]
     },
     "metadata": {
      "needs_background": "light"
     },
     "output_type": "display_data"
    }
   ],
   "source": [
    "\n",
    "print(\"\\nUsing unigram, bigram, trigram tf-idf:\")\n",
    "dtree_trigram_tfidf = DecisionTreeClassifier()\n",
    "dtree_trigram_tfidf.fit(train_x_trigram_tfidf, train_y_trigram_tfidf)\n",
    "assess_model_performance(dtree_trigram_tfidf, test_x_trigram_tfidf, test_y_trigram_tfidf)\n"
   ]
  },
  {
   "cell_type": "code",
   "execution_count": 60,
   "metadata": {},
   "outputs": [],
   "source": [
    "def preprocessText(title, text):\n",
    "    article = title + ' ' + text\n",
    "    #Clean sentence to remove any punctuations, convert to lower case\n",
    "    cleaned_sentence = re.sub(r'[^\\w\\s]', '', str(article).lower())\n",
    "    #Tokenize sentence into words\n",
    "    words = nltk.word_tokenize(cleaned_sentence)\n",
    "    #Remove stop words and words with length less than equal to 3\n",
    "    filtered_words = [word for word in words if not word in stop_words and len(word) > 3]\n",
    "    #Lemmatize\n",
    "    lemmatized_sentence = ''\n",
    "    for word in filtered_words:\n",
    "        lemmatized_sentence = lemmatized_sentence  + ' ' + str(lemmatizer.lemmatize(word))\n",
    "    \n",
    "    return lemmatized_sentence\n"
   ]
  },
  {
   "cell_type": "code",
   "execution_count": 92,
   "metadata": {},
   "outputs": [
    {
     "data": {
      "text/plain": [
       "['./trained_model.pkl']"
      ]
     },
     "execution_count": 92,
     "metadata": {},
     "output_type": "execute_result"
    }
   ],
   "source": [
    "tfidf_unigram_vectorizer = TfidfVectorizer(analyzer='word', ngram_range=(1,1))\n",
    "sgdc_unigram_tfidf_classifier = SGDClassifier()\n",
    "pipe = Pipeline([('vectorizer', tfidf_unigram_vectorizer), ('classifier', sgdc_unigram_tfidf_classifier)])\n",
    "pipe.fit(df_x, df_y)\n",
    "joblib.dump(pipe, './trained_model.pkl', compress=True)\n"
   ]
  },
  {
   "cell_type": "code",
   "execution_count": 93,
   "metadata": {},
   "outputs": [],
   "source": [
    "classifier = joblib.load('./trained_model.pkl')\n"
   ]
  },
  {
   "cell_type": "code",
   "execution_count": 95,
   "metadata": {},
   "outputs": [
    {
     "name": "stdout",
     "output_type": "stream",
     "text": [
      " keiser report meme war e995 min view comment like first time history weäôre filming panoramic video station mean youäôll everything eye thatäôs youäôll able feel like real cosmonaut borisenko video presented collaboration russian space agency roscosmos rocket space corporation energia project website space360rtcom subscribe like leave reply login social email address published name\n",
      "[1]\n"
     ]
    }
   ],
   "source": [
    "#Random test\n",
    "title = \"Keiser Report: Meme Wars (E995)\"\n",
    "text = \"42 mins ago 1 Views 0 Comments 0 Likes 'For the first time in history, we‚Äôre filming a panoramic video from the station. It means you‚Äôll see everything we see here, with your own eyes. That‚Äôs to say, you‚Äôll be able to feel like real cosmonauts' - Borisenko to RT. Video presented by RT in collaboration with the Russian space agency Roscosmos and the rocket and space corporation Energia More on our project website: space360.rt.com   Subscribe   Like     Leave a Reply Login with your Social ID Your email address will not be published. Name\";\n",
    "article = preprocessText(title, text)\n",
    "print(article)\n",
    "predict = classifier.predict(pd.Series(article))\n",
    "print(predict)"
   ]
  },
  {
   "cell_type": "code",
   "execution_count": 96,
   "metadata": {},
   "outputs": [
    {
     "data": {
      "text/html": [
       "<div>\n",
       "<style scoped>\n",
       "    .dataframe tbody tr th:only-of-type {\n",
       "        vertical-align: middle;\n",
       "    }\n",
       "\n",
       "    .dataframe tbody tr th {\n",
       "        vertical-align: top;\n",
       "    }\n",
       "\n",
       "    .dataframe thead th {\n",
       "        text-align: right;\n",
       "    }\n",
       "</style>\n",
       "<table border=\"1\" class=\"dataframe\">\n",
       "  <thead>\n",
       "    <tr style=\"text-align: right;\">\n",
       "      <th></th>\n",
       "      <th>id</th>\n",
       "      <th>title</th>\n",
       "      <th>author</th>\n",
       "      <th>text</th>\n",
       "    </tr>\n",
       "  </thead>\n",
       "  <tbody>\n",
       "    <tr>\n",
       "      <th>0</th>\n",
       "      <td>20800</td>\n",
       "      <td>Specter of Trump Loosens Tongues, if Not Purse...</td>\n",
       "      <td>David Streitfeld</td>\n",
       "      <td>PALO ALTO, Calif.  —   After years of scorning...</td>\n",
       "    </tr>\n",
       "    <tr>\n",
       "      <th>1</th>\n",
       "      <td>20801</td>\n",
       "      <td>Russian warships ready to strike terrorists ne...</td>\n",
       "      <td>NaN</td>\n",
       "      <td>Russian warships ready to strike terrorists ne...</td>\n",
       "    </tr>\n",
       "    <tr>\n",
       "      <th>2</th>\n",
       "      <td>20802</td>\n",
       "      <td>#NoDAPL: Native American Leaders Vow to Stay A...</td>\n",
       "      <td>Common Dreams</td>\n",
       "      <td>Videos #NoDAPL: Native American Leaders Vow to...</td>\n",
       "    </tr>\n",
       "    <tr>\n",
       "      <th>3</th>\n",
       "      <td>20803</td>\n",
       "      <td>Tim Tebow Will Attempt Another Comeback, This ...</td>\n",
       "      <td>Daniel Victor</td>\n",
       "      <td>If at first you don’t succeed, try a different...</td>\n",
       "    </tr>\n",
       "    <tr>\n",
       "      <th>4</th>\n",
       "      <td>20804</td>\n",
       "      <td>Keiser Report: Meme Wars (E995)</td>\n",
       "      <td>Truth Broadcast Network</td>\n",
       "      <td>42 mins ago 1 Views 0 Comments 0 Likes 'For th...</td>\n",
       "    </tr>\n",
       "    <tr>\n",
       "      <th>5</th>\n",
       "      <td>20805</td>\n",
       "      <td>Trump is USA's antique hero. Clinton will be n...</td>\n",
       "      <td>NaN</td>\n",
       "      <td>Trump is USA's antique hero. Clinton will be n...</td>\n",
       "    </tr>\n",
       "  </tbody>\n",
       "</table>\n",
       "</div>"
      ],
      "text/plain": [
       "      id                                              title  \\\n",
       "0  20800  Specter of Trump Loosens Tongues, if Not Purse...   \n",
       "1  20801  Russian warships ready to strike terrorists ne...   \n",
       "2  20802  #NoDAPL: Native American Leaders Vow to Stay A...   \n",
       "3  20803  Tim Tebow Will Attempt Another Comeback, This ...   \n",
       "4  20804                    Keiser Report: Meme Wars (E995)   \n",
       "5  20805  Trump is USA's antique hero. Clinton will be n...   \n",
       "\n",
       "                    author                                               text  \n",
       "0         David Streitfeld  PALO ALTO, Calif.  —   After years of scorning...  \n",
       "1                      NaN  Russian warships ready to strike terrorists ne...  \n",
       "2            Common Dreams  Videos #NoDAPL: Native American Leaders Vow to...  \n",
       "3            Daniel Victor  If at first you don’t succeed, try a different...  \n",
       "4  Truth Broadcast Network  42 mins ago 1 Views 0 Comments 0 Likes 'For th...  \n",
       "5                      NaN  Trump is USA's antique hero. Clinton will be n...  "
      ]
     },
     "execution_count": 96,
     "metadata": {},
     "output_type": "execute_result"
    }
   ],
   "source": [
    "#Read test data\n",
    "\n",
    "df_test=pd.read_csv('data/test.csv')\n",
    "df_test.head(6)"
   ]
  },
  {
   "cell_type": "code",
   "execution_count": 99,
   "metadata": {},
   "outputs": [
    {
     "data": {
      "text/html": [
       "<div>\n",
       "<style scoped>\n",
       "    .dataframe tbody tr th:only-of-type {\n",
       "        vertical-align: middle;\n",
       "    }\n",
       "\n",
       "    .dataframe tbody tr th {\n",
       "        vertical-align: top;\n",
       "    }\n",
       "\n",
       "    .dataframe thead th {\n",
       "        text-align: right;\n",
       "    }\n",
       "</style>\n",
       "<table border=\"1\" class=\"dataframe\">\n",
       "  <thead>\n",
       "    <tr style=\"text-align: right;\">\n",
       "      <th></th>\n",
       "      <th>id</th>\n",
       "      <th>title</th>\n",
       "      <th>author</th>\n",
       "      <th>text</th>\n",
       "      <th>cleaned_article</th>\n",
       "    </tr>\n",
       "  </thead>\n",
       "  <tbody>\n",
       "    <tr>\n",
       "      <th>0</th>\n",
       "      <td>20800</td>\n",
       "      <td>Specter of Trump Loosens Tongues, if Not Purse...</td>\n",
       "      <td>David Streitfeld</td>\n",
       "      <td>PALO ALTO, Calif.  —   After years of scorning...</td>\n",
       "      <td>specter trump loosens tongue purse string sil...</td>\n",
       "    </tr>\n",
       "    <tr>\n",
       "      <th>1</th>\n",
       "      <td>20801</td>\n",
       "      <td>Russian warships ready to strike terrorists ne...</td>\n",
       "      <td>NaN</td>\n",
       "      <td>Russian warships ready to strike terrorists ne...</td>\n",
       "      <td>russian warship ready strike terrorist near a...</td>\n",
       "    </tr>\n",
       "    <tr>\n",
       "      <th>2</th>\n",
       "      <td>20802</td>\n",
       "      <td>#NoDAPL: Native American Leaders Vow to Stay A...</td>\n",
       "      <td>Common Dreams</td>\n",
       "      <td>Videos #NoDAPL: Native American Leaders Vow to...</td>\n",
       "      <td>nodapl native american leader stay winter fil...</td>\n",
       "    </tr>\n",
       "    <tr>\n",
       "      <th>3</th>\n",
       "      <td>20803</td>\n",
       "      <td>Tim Tebow Will Attempt Another Comeback, This ...</td>\n",
       "      <td>Daniel Victor</td>\n",
       "      <td>If at first you don’t succeed, try a different...</td>\n",
       "      <td>tebow attempt another comeback time baseball ...</td>\n",
       "    </tr>\n",
       "    <tr>\n",
       "      <th>4</th>\n",
       "      <td>20804</td>\n",
       "      <td>Keiser Report: Meme Wars (E995)</td>\n",
       "      <td>Truth Broadcast Network</td>\n",
       "      <td>42 mins ago 1 Views 0 Comments 0 Likes 'For th...</td>\n",
       "      <td>keiser report meme war e995 min view comment ...</td>\n",
       "    </tr>\n",
       "    <tr>\n",
       "      <th>5</th>\n",
       "      <td>20805</td>\n",
       "      <td>Trump is USA's antique hero. Clinton will be n...</td>\n",
       "      <td>NaN</td>\n",
       "      <td>Trump is USA's antique hero. Clinton will be n...</td>\n",
       "      <td>trump usa antique hero clinton next president...</td>\n",
       "    </tr>\n",
       "    <tr>\n",
       "      <th>6</th>\n",
       "      <td>20806</td>\n",
       "      <td>Pelosi Calls for FBI Investigation to Find Out...</td>\n",
       "      <td>Pam Key</td>\n",
       "      <td>Sunday on NBC’s “Meet the Press,” House Minori...</td>\n",
       "      <td>pelosi call investigation find russian donald...</td>\n",
       "    </tr>\n",
       "    <tr>\n",
       "      <th>7</th>\n",
       "      <td>20807</td>\n",
       "      <td>Weekly Featured Profile – Randy Shannon</td>\n",
       "      <td>Trevor Loudon</td>\n",
       "      <td>You are here: Home / *Articles of the Bound* /...</td>\n",
       "      <td>weekly featured profile randy shannon home ar...</td>\n",
       "    </tr>\n",
       "    <tr>\n",
       "      <th>8</th>\n",
       "      <td>20808</td>\n",
       "      <td>Urban Population Booms Will Make Climate Chang...</td>\n",
       "      <td>NaN</td>\n",
       "      <td>Urban Population Booms Will Make Climate Chang...</td>\n",
       "      <td>urban population boom make climate change wor...</td>\n",
       "    </tr>\n",
       "    <tr>\n",
       "      <th>9</th>\n",
       "      <td>20809</td>\n",
       "      <td>NaN</td>\n",
       "      <td>cognitive dissident</td>\n",
       "      <td>don't we have the receipt?</td>\n",
       "      <td>dont receipt</td>\n",
       "    </tr>\n",
       "  </tbody>\n",
       "</table>\n",
       "</div>"
      ],
      "text/plain": [
       "      id                                              title  \\\n",
       "0  20800  Specter of Trump Loosens Tongues, if Not Purse...   \n",
       "1  20801  Russian warships ready to strike terrorists ne...   \n",
       "2  20802  #NoDAPL: Native American Leaders Vow to Stay A...   \n",
       "3  20803  Tim Tebow Will Attempt Another Comeback, This ...   \n",
       "4  20804                    Keiser Report: Meme Wars (E995)   \n",
       "5  20805  Trump is USA's antique hero. Clinton will be n...   \n",
       "6  20806  Pelosi Calls for FBI Investigation to Find Out...   \n",
       "7  20807            Weekly Featured Profile – Randy Shannon   \n",
       "8  20808  Urban Population Booms Will Make Climate Chang...   \n",
       "9  20809                                                NaN   \n",
       "\n",
       "                    author                                               text  \\\n",
       "0         David Streitfeld  PALO ALTO, Calif.  —   After years of scorning...   \n",
       "1                      NaN  Russian warships ready to strike terrorists ne...   \n",
       "2            Common Dreams  Videos #NoDAPL: Native American Leaders Vow to...   \n",
       "3            Daniel Victor  If at first you don’t succeed, try a different...   \n",
       "4  Truth Broadcast Network  42 mins ago 1 Views 0 Comments 0 Likes 'For th...   \n",
       "5                      NaN  Trump is USA's antique hero. Clinton will be n...   \n",
       "6                  Pam Key  Sunday on NBC’s “Meet the Press,” House Minori...   \n",
       "7            Trevor Loudon  You are here: Home / *Articles of the Bound* /...   \n",
       "8                      NaN  Urban Population Booms Will Make Climate Chang...   \n",
       "9      cognitive dissident                         don't we have the receipt?   \n",
       "\n",
       "                                     cleaned_article  \n",
       "0   specter trump loosens tongue purse string sil...  \n",
       "1   russian warship ready strike terrorist near a...  \n",
       "2   nodapl native american leader stay winter fil...  \n",
       "3   tebow attempt another comeback time baseball ...  \n",
       "4   keiser report meme war e995 min view comment ...  \n",
       "5   trump usa antique hero clinton next president...  \n",
       "6   pelosi call investigation find russian donald...  \n",
       "7   weekly featured profile randy shannon home ar...  \n",
       "8   urban population boom make climate change wor...  \n",
       "9                                       dont receipt  "
      ]
     },
     "execution_count": 99,
     "metadata": {},
     "output_type": "execute_result"
    }
   ],
   "source": [
    "\n",
    "for index, row in df_test.iterrows():\n",
    "    cleaned_sentence = preprocessText(str(row['title']), str(row['text']))\n",
    "    df_test.loc[index, 'cleaned_article'] = cleaned_sentence\n",
    "\n",
    "df_test.head(10)"
   ]
  },
  {
   "cell_type": "code",
   "execution_count": 101,
   "metadata": {},
   "outputs": [
    {
     "name": "stdout",
     "output_type": "stream",
     "text": [
      "[0 1 1 ... 0 1 0]\n",
      "5200\n"
     ]
    }
   ],
   "source": [
    "\n",
    "predict = classifier.predict(df_test['cleaned_article'])\n",
    "print(predict)\n",
    "print(len(predict))"
   ]
  },
  {
   "cell_type": "code",
   "execution_count": 104,
   "metadata": {},
   "outputs": [
    {
     "name": "stdout",
     "output_type": "stream",
     "text": [
      "0       20800\n",
      "1       20801\n",
      "2       20802\n",
      "3       20803\n",
      "4       20804\n",
      "        ...  \n",
      "5195    25995\n",
      "5196    25996\n",
      "5197    25997\n",
      "5198    25998\n",
      "5199    25999\n",
      "Name: id, Length: 5200, dtype: int64\n"
     ]
    }
   ],
   "source": [
    "test_id=df_test[\"id\"]\n",
    "print(test_id)"
   ]
  },
  {
   "cell_type": "code",
   "execution_count": 105,
   "metadata": {},
   "outputs": [
    {
     "data": {
      "text/html": [
       "<div>\n",
       "<style scoped>\n",
       "    .dataframe tbody tr th:only-of-type {\n",
       "        vertical-align: middle;\n",
       "    }\n",
       "\n",
       "    .dataframe tbody tr th {\n",
       "        vertical-align: top;\n",
       "    }\n",
       "\n",
       "    .dataframe thead th {\n",
       "        text-align: right;\n",
       "    }\n",
       "</style>\n",
       "<table border=\"1\" class=\"dataframe\">\n",
       "  <thead>\n",
       "    <tr style=\"text-align: right;\">\n",
       "      <th></th>\n",
       "      <th>id</th>\n",
       "      <th>label</th>\n",
       "    </tr>\n",
       "  </thead>\n",
       "  <tbody>\n",
       "    <tr>\n",
       "      <th>0</th>\n",
       "      <td>20800</td>\n",
       "      <td>0</td>\n",
       "    </tr>\n",
       "    <tr>\n",
       "      <th>1</th>\n",
       "      <td>20801</td>\n",
       "      <td>1</td>\n",
       "    </tr>\n",
       "    <tr>\n",
       "      <th>2</th>\n",
       "      <td>20802</td>\n",
       "      <td>1</td>\n",
       "    </tr>\n",
       "    <tr>\n",
       "      <th>3</th>\n",
       "      <td>20803</td>\n",
       "      <td>0</td>\n",
       "    </tr>\n",
       "    <tr>\n",
       "      <th>4</th>\n",
       "      <td>20804</td>\n",
       "      <td>1</td>\n",
       "    </tr>\n",
       "  </tbody>\n",
       "</table>\n",
       "</div>"
      ],
      "text/plain": [
       "      id  label\n",
       "0  20800      0\n",
       "1  20801      1\n",
       "2  20802      1\n",
       "3  20803      0\n",
       "4  20804      1"
      ]
     },
     "execution_count": 105,
     "metadata": {},
     "output_type": "execute_result"
    }
   ],
   "source": [
    "submit_df = pd.DataFrame({\"id\":test_id,\n",
    "                         \"label\":predict})\n",
    "submit_df.head()\n"
   ]
  },
  {
   "cell_type": "code",
   "execution_count": 106,
   "metadata": {},
   "outputs": [],
   "source": [
    "submit_df.to_csv(\"data/submit.csv\", index=False)"
   ]
  },
  {
   "cell_type": "code",
   "execution_count": null,
   "metadata": {},
   "outputs": [],
   "source": []
  }
 ],
 "metadata": {
  "kernelspec": {
   "display_name": "Python 3",
   "language": "python",
   "name": "python3"
  },
  "language_info": {
   "codemirror_mode": {
    "name": "ipython",
    "version": 3
   },
   "file_extension": ".py",
   "mimetype": "text/x-python",
   "name": "python",
   "nbconvert_exporter": "python",
   "pygments_lexer": "ipython3",
   "version": "3.5.3"
  }
 },
 "nbformat": 4,
 "nbformat_minor": 4
}
