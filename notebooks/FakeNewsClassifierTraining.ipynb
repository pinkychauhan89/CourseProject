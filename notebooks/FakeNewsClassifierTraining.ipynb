{
 "cells": [
  {
   "cell_type": "code",
   "execution_count": 1,
   "metadata": {},
   "outputs": [],
   "source": [
    "import pandas as pd\n",
    "import itertools\n",
    "import re\n",
    "\n",
    "import nltk\n",
    "from nltk.sentiment.vader import SentimentIntensityAnalyzer\n",
    "from nltk.tokenize import word_tokenize\n",
    "from nltk.corpus import stopwords\n",
    "from nltk.stem import WordNetLemmatizer\n",
    "\n",
    "from sklearn.feature_extraction.text import CountVectorizer\n",
    "from sklearn.feature_extraction.text import TfidfTransformer\n",
    "from sklearn.feature_extraction.text import TfidfVectorizer\n",
    "\n",
    "from sklearn.model_selection import train_test_split\n",
    "\n",
    "from sklearn.naive_bayes import MultinomialNB\n",
    "from sklearn.svm import LinearSVC\n",
    "from sklearn.linear_model import LogisticRegression, SGDClassifier\n",
    "from sklearn.tree import DecisionTreeClassifier\n",
    "\n",
    "from sklearn import metrics\n",
    "from sklearn.metrics import precision_recall_curve\n",
    "from sklearn.metrics import plot_precision_recall_curve\n",
    "from sklearn.metrics import confusion_matrix\n",
    "from sklearn.metrics import plot_confusion_matrix\n",
    "from sklearn.metrics import precision_score\n",
    "from sklearn.metrics import recall_score\n",
    "from sklearn.metrics import f1_score\n",
    "\n",
    "import joblib\n",
    "from sklearn.pipeline import Pipeline\n",
    "\n",
    "import matplotlib.pyplot as plt\n"
   ]
  },
  {
   "cell_type": "code",
   "execution_count": 2,
   "metadata": {},
   "outputs": [
    {
     "data": {
      "text/html": [
       "<div>\n",
       "<style scoped>\n",
       "    .dataframe tbody tr th:only-of-type {\n",
       "        vertical-align: middle;\n",
       "    }\n",
       "\n",
       "    .dataframe tbody tr th {\n",
       "        vertical-align: top;\n",
       "    }\n",
       "\n",
       "    .dataframe thead th {\n",
       "        text-align: right;\n",
       "    }\n",
       "</style>\n",
       "<table border=\"1\" class=\"dataframe\">\n",
       "  <thead>\n",
       "    <tr style=\"text-align: right;\">\n",
       "      <th></th>\n",
       "      <th>id</th>\n",
       "      <th>title</th>\n",
       "      <th>author</th>\n",
       "      <th>text</th>\n",
       "      <th>label</th>\n",
       "    </tr>\n",
       "  </thead>\n",
       "  <tbody>\n",
       "    <tr>\n",
       "      <th>0</th>\n",
       "      <td>0</td>\n",
       "      <td>House Dem Aide: We Didn’t Even See Comey’s Let...</td>\n",
       "      <td>Darrell Lucus</td>\n",
       "      <td>House Dem Aide: We Didn’t Even See Comey’s Let...</td>\n",
       "      <td>1</td>\n",
       "    </tr>\n",
       "    <tr>\n",
       "      <th>1</th>\n",
       "      <td>1</td>\n",
       "      <td>FLYNN: Hillary Clinton, Big Woman on Campus - ...</td>\n",
       "      <td>Daniel J. Flynn</td>\n",
       "      <td>Ever get the feeling your life circles the rou...</td>\n",
       "      <td>0</td>\n",
       "    </tr>\n",
       "    <tr>\n",
       "      <th>2</th>\n",
       "      <td>2</td>\n",
       "      <td>Why the Truth Might Get You Fired</td>\n",
       "      <td>Consortiumnews.com</td>\n",
       "      <td>Why the Truth Might Get You Fired October 29, ...</td>\n",
       "      <td>1</td>\n",
       "    </tr>\n",
       "    <tr>\n",
       "      <th>3</th>\n",
       "      <td>3</td>\n",
       "      <td>15 Civilians Killed In Single US Airstrike Hav...</td>\n",
       "      <td>Jessica Purkiss</td>\n",
       "      <td>Videos 15 Civilians Killed In Single US Airstr...</td>\n",
       "      <td>1</td>\n",
       "    </tr>\n",
       "    <tr>\n",
       "      <th>4</th>\n",
       "      <td>4</td>\n",
       "      <td>Iranian woman jailed for fictional unpublished...</td>\n",
       "      <td>Howard Portnoy</td>\n",
       "      <td>Print \\nAn Iranian woman has been sentenced to...</td>\n",
       "      <td>1</td>\n",
       "    </tr>\n",
       "    <tr>\n",
       "      <th>5</th>\n",
       "      <td>5</td>\n",
       "      <td>Jackie Mason: Hollywood Would Love Trump if He...</td>\n",
       "      <td>Daniel Nussbaum</td>\n",
       "      <td>In these trying times, Jackie Mason is the Voi...</td>\n",
       "      <td>0</td>\n",
       "    </tr>\n",
       "  </tbody>\n",
       "</table>\n",
       "</div>"
      ],
      "text/plain": [
       "   id                                              title              author  \\\n",
       "0   0  House Dem Aide: We Didn’t Even See Comey’s Let...       Darrell Lucus   \n",
       "1   1  FLYNN: Hillary Clinton, Big Woman on Campus - ...     Daniel J. Flynn   \n",
       "2   2                  Why the Truth Might Get You Fired  Consortiumnews.com   \n",
       "3   3  15 Civilians Killed In Single US Airstrike Hav...     Jessica Purkiss   \n",
       "4   4  Iranian woman jailed for fictional unpublished...      Howard Portnoy   \n",
       "5   5  Jackie Mason: Hollywood Would Love Trump if He...     Daniel Nussbaum   \n",
       "\n",
       "                                                text  label  \n",
       "0  House Dem Aide: We Didn’t Even See Comey’s Let...      1  \n",
       "1  Ever get the feeling your life circles the rou...      0  \n",
       "2  Why the Truth Might Get You Fired October 29, ...      1  \n",
       "3  Videos 15 Civilians Killed In Single US Airstr...      1  \n",
       "4  Print \\nAn Iranian woman has been sentenced to...      1  \n",
       "5  In these trying times, Jackie Mason is the Voi...      0  "
      ]
     },
     "execution_count": 2,
     "metadata": {},
     "output_type": "execute_result"
    }
   ],
   "source": [
    "#Read training data\n",
    "\n",
    "df_train=pd.read_csv('../data/train.csv')\n",
    "df_train.head(6)\n"
   ]
  },
  {
   "cell_type": "code",
   "execution_count": 3,
   "metadata": {},
   "outputs": [
    {
     "name": "stdout",
     "output_type": "stream",
     "text": [
      "Size of dataframe before cleanup: 20800\n",
      "Size of dataframe after cleanup: 20800\n"
     ]
    }
   ],
   "source": [
    "#Check for missing values; remove rows with both text and title empty\n",
    "\n",
    "print(\"Size of dataframe before cleanup: \" + str(len(df_train)))\n",
    "df_train.isnull().values.any()\n",
    "df_train.dropna(axis=0, how='all', subset=['text', 'title'], inplace=True)\n",
    "print(\"Size of dataframe after cleanup: \" + str(len(df_train)))\n"
   ]
  },
  {
   "cell_type": "code",
   "execution_count": 4,
   "metadata": {},
   "outputs": [
    {
     "data": {
      "image/png": "[encoded data removed]",
      "text/plain": [
       "<Figure size 432x288 with 1 Axes>"
      ]
     },
     "metadata": {
      "needs_background": "light"
     },
     "output_type": "display_data"
    }
   ],
   "source": [
    "#Compare fake and real training dataset size to check if distribution is even/skewed\n",
    "\n",
    "values = df_train['label'].value_counts()\n",
    "plt.bar(x=[\"real\", \"fake\"], height=values, color=[\"green\", \"red\"])\n",
    "for x,y in zip([\"real\", \"fake\"],values):\n",
    "\n",
    "    label = \"{:.2f}\".format(y)\n",
    "\n",
    "    plt.annotate(label, # text\n",
    "                 (x,y), # point to label\n",
    "                 textcoords=\"offset points\", # text position\n",
    "                 xytext=(0,10), # distance from text to points\n",
    "                 ha='center') # horizontal alignment\n",
    "plt.show()\n"
   ]
  },
  {
   "cell_type": "code",
   "execution_count": 5,
   "metadata": {},
   "outputs": [
    {
     "data": {
      "text/html": [
       "<div>\n",
       "<style scoped>\n",
       "    .dataframe tbody tr th:only-of-type {\n",
       "        vertical-align: middle;\n",
       "    }\n",
       "\n",
       "    .dataframe tbody tr th {\n",
       "        vertical-align: top;\n",
       "    }\n",
       "\n",
       "    .dataframe thead th {\n",
       "        text-align: right;\n",
       "    }\n",
       "</style>\n",
       "<table border=\"1\" class=\"dataframe\">\n",
       "  <thead>\n",
       "    <tr style=\"text-align: right;\">\n",
       "      <th></th>\n",
       "      <th>id</th>\n",
       "      <th>title</th>\n",
       "      <th>author</th>\n",
       "      <th>text</th>\n",
       "      <th>label</th>\n",
       "    </tr>\n",
       "  </thead>\n",
       "  <tbody>\n",
       "    <tr>\n",
       "      <th>1</th>\n",
       "      <td>1</td>\n",
       "      <td>FLYNN: Hillary Clinton, Big Woman on Campus - ...</td>\n",
       "      <td>Daniel J. Flynn</td>\n",
       "      <td>Ever get the feeling your life circles the rou...</td>\n",
       "      <td>0</td>\n",
       "    </tr>\n",
       "    <tr>\n",
       "      <th>5</th>\n",
       "      <td>5</td>\n",
       "      <td>Jackie Mason: Hollywood Would Love Trump if He...</td>\n",
       "      <td>Daniel Nussbaum</td>\n",
       "      <td>In these trying times, Jackie Mason is the Voi...</td>\n",
       "      <td>0</td>\n",
       "    </tr>\n",
       "    <tr>\n",
       "      <th>7</th>\n",
       "      <td>7</td>\n",
       "      <td>Benoît Hamon Wins French Socialist Party’s Pre...</td>\n",
       "      <td>Alissa J. Rubin</td>\n",
       "      <td>PARIS  —   France chose an idealistic, traditi...</td>\n",
       "      <td>0</td>\n",
       "    </tr>\n",
       "    <tr>\n",
       "      <th>8</th>\n",
       "      <td>8</td>\n",
       "      <td>Excerpts From a Draft Script for Donald Trump’...</td>\n",
       "      <td>NaN</td>\n",
       "      <td>Donald J. Trump is scheduled to make a highly ...</td>\n",
       "      <td>0</td>\n",
       "    </tr>\n",
       "    <tr>\n",
       "      <th>9</th>\n",
       "      <td>9</td>\n",
       "      <td>A Back-Channel Plan for Ukraine and Russia, Co...</td>\n",
       "      <td>Megan Twohey and Scott Shane</td>\n",
       "      <td>A week before Michael T. Flynn resigned as nat...</td>\n",
       "      <td>0</td>\n",
       "    </tr>\n",
       "    <tr>\n",
       "      <th>10</th>\n",
       "      <td>10</td>\n",
       "      <td>Obama’s Organizing for Action Partners with So...</td>\n",
       "      <td>Aaron Klein</td>\n",
       "      <td>Organizing for Action, the activist group that...</td>\n",
       "      <td>0</td>\n",
       "    </tr>\n",
       "  </tbody>\n",
       "</table>\n",
       "</div>"
      ],
      "text/plain": [
       "    id                                              title  \\\n",
       "1    1  FLYNN: Hillary Clinton, Big Woman on Campus - ...   \n",
       "5    5  Jackie Mason: Hollywood Would Love Trump if He...   \n",
       "7    7  Benoît Hamon Wins French Socialist Party’s Pre...   \n",
       "8    8  Excerpts From a Draft Script for Donald Trump’...   \n",
       "9    9  A Back-Channel Plan for Ukraine and Russia, Co...   \n",
       "10  10  Obama’s Organizing for Action Partners with So...   \n",
       "\n",
       "                          author  \\\n",
       "1                Daniel J. Flynn   \n",
       "5                Daniel Nussbaum   \n",
       "7                Alissa J. Rubin   \n",
       "8                            NaN   \n",
       "9   Megan Twohey and Scott Shane   \n",
       "10                   Aaron Klein   \n",
       "\n",
       "                                                 text  label  \n",
       "1   Ever get the feeling your life circles the rou...      0  \n",
       "5   In these trying times, Jackie Mason is the Voi...      0  \n",
       "7   PARIS  —   France chose an idealistic, traditi...      0  \n",
       "8   Donald J. Trump is scheduled to make a highly ...      0  \n",
       "9   A week before Michael T. Flynn resigned as nat...      0  \n",
       "10  Organizing for Action, the activist group that...      0  "
      ]
     },
     "execution_count": 5,
     "metadata": {},
     "output_type": "execute_result"
    }
   ],
   "source": [
    "#Extract real data; rows with label = 0\n",
    "\n",
    "df_reliable = df_train.loc[df_train['label'] == 0]\n",
    "df_reliable.head(6)\n"
   ]
  },
  {
   "cell_type": "code",
   "execution_count": 6,
   "metadata": {},
   "outputs": [
    {
     "data": {
      "text/html": [
       "<div>\n",
       "<style scoped>\n",
       "    .dataframe tbody tr th:only-of-type {\n",
       "        vertical-align: middle;\n",
       "    }\n",
       "\n",
       "    .dataframe tbody tr th {\n",
       "        vertical-align: top;\n",
       "    }\n",
       "\n",
       "    .dataframe thead th {\n",
       "        text-align: right;\n",
       "    }\n",
       "</style>\n",
       "<table border=\"1\" class=\"dataframe\">\n",
       "  <thead>\n",
       "    <tr style=\"text-align: right;\">\n",
       "      <th></th>\n",
       "      <th>id</th>\n",
       "      <th>title</th>\n",
       "      <th>author</th>\n",
       "      <th>text</th>\n",
       "      <th>label</th>\n",
       "    </tr>\n",
       "  </thead>\n",
       "  <tbody>\n",
       "    <tr>\n",
       "      <th>0</th>\n",
       "      <td>0</td>\n",
       "      <td>House Dem Aide: We Didn’t Even See Comey’s Let...</td>\n",
       "      <td>Darrell Lucus</td>\n",
       "      <td>House Dem Aide: We Didn’t Even See Comey’s Let...</td>\n",
       "      <td>1</td>\n",
       "    </tr>\n",
       "    <tr>\n",
       "      <th>2</th>\n",
       "      <td>2</td>\n",
       "      <td>Why the Truth Might Get You Fired</td>\n",
       "      <td>Consortiumnews.com</td>\n",
       "      <td>Why the Truth Might Get You Fired October 29, ...</td>\n",
       "      <td>1</td>\n",
       "    </tr>\n",
       "    <tr>\n",
       "      <th>3</th>\n",
       "      <td>3</td>\n",
       "      <td>15 Civilians Killed In Single US Airstrike Hav...</td>\n",
       "      <td>Jessica Purkiss</td>\n",
       "      <td>Videos 15 Civilians Killed In Single US Airstr...</td>\n",
       "      <td>1</td>\n",
       "    </tr>\n",
       "    <tr>\n",
       "      <th>4</th>\n",
       "      <td>4</td>\n",
       "      <td>Iranian woman jailed for fictional unpublished...</td>\n",
       "      <td>Howard Portnoy</td>\n",
       "      <td>Print \\nAn Iranian woman has been sentenced to...</td>\n",
       "      <td>1</td>\n",
       "    </tr>\n",
       "    <tr>\n",
       "      <th>6</th>\n",
       "      <td>6</td>\n",
       "      <td>Life: Life Of Luxury: Elton John’s 6 Favorite ...</td>\n",
       "      <td>NaN</td>\n",
       "      <td>Ever wonder how Britain’s most iconic pop pian...</td>\n",
       "      <td>1</td>\n",
       "    </tr>\n",
       "    <tr>\n",
       "      <th>12</th>\n",
       "      <td>12</td>\n",
       "      <td>Russian Researchers Discover Secret Nazi Milit...</td>\n",
       "      <td>Amando Flavio</td>\n",
       "      <td>The mystery surrounding The Third Reich and Na...</td>\n",
       "      <td>1</td>\n",
       "    </tr>\n",
       "  </tbody>\n",
       "</table>\n",
       "</div>"
      ],
      "text/plain": [
       "    id                                              title              author  \\\n",
       "0    0  House Dem Aide: We Didn’t Even See Comey’s Let...       Darrell Lucus   \n",
       "2    2                  Why the Truth Might Get You Fired  Consortiumnews.com   \n",
       "3    3  15 Civilians Killed In Single US Airstrike Hav...     Jessica Purkiss   \n",
       "4    4  Iranian woman jailed for fictional unpublished...      Howard Portnoy   \n",
       "6    6  Life: Life Of Luxury: Elton John’s 6 Favorite ...                 NaN   \n",
       "12  12  Russian Researchers Discover Secret Nazi Milit...       Amando Flavio   \n",
       "\n",
       "                                                 text  label  \n",
       "0   House Dem Aide: We Didn’t Even See Comey’s Let...      1  \n",
       "2   Why the Truth Might Get You Fired October 29, ...      1  \n",
       "3   Videos 15 Civilians Killed In Single US Airstr...      1  \n",
       "4   Print \\nAn Iranian woman has been sentenced to...      1  \n",
       "6   Ever wonder how Britain’s most iconic pop pian...      1  \n",
       "12  The mystery surrounding The Third Reich and Na...      1  "
      ]
     },
     "execution_count": 6,
     "metadata": {},
     "output_type": "execute_result"
    }
   ],
   "source": [
    "#Extract real data; rows with label = 1\n",
    "\n",
    "df_fake = df_train.loc[df_train['label'] == 1]\n",
    "df_fake.head(6)\n"
   ]
  },
  {
   "cell_type": "code",
   "execution_count": 7,
   "metadata": {},
   "outputs": [
    {
     "data": {
      "text/plain": [
       "label\n",
       "0    2225\n",
       "1    1981\n",
       "Name: author, dtype: int64"
      ]
     },
     "execution_count": 7,
     "metadata": {},
     "output_type": "execute_result"
    }
   ],
   "source": [
    "#Check authors' distribution\n",
    "\n",
    "df_train.groupby('label')['author'].nunique()\n"
   ]
  },
  {
   "cell_type": "code",
   "execution_count": 8,
   "metadata": {},
   "outputs": [
    {
     "data": {
      "text/plain": [
       "Pam Key                                                       242\n",
       "Jerome Hudson                                                 166\n",
       "Charlie Spiering                                              141\n",
       "John Hayward                                                  140\n",
       "Katherine Rodriguez                                           124\n",
       "                                                             ... \n",
       "John Markoff and Matthew Rosenberg                              1\n",
       "Michael D. Shear and Emmarie Huetteman                          1\n",
       "Vindu Goel and Michael J. de la Merced                          1\n",
       "Susanne Craig, Jo Becker and Jesse Drucker                      1\n",
       "Richard Fausset, Richard Pérez-Peña and Campbell Robertson      1\n",
       "Name: author, Length: 2225, dtype: int64"
      ]
     },
     "execution_count": 8,
     "metadata": {},
     "output_type": "execute_result"
    }
   ],
   "source": [
    "df_reliable['author'].value_counts()\n"
   ]
  },
  {
   "cell_type": "code",
   "execution_count": 9,
   "metadata": {},
   "outputs": [
    {
     "data": {
      "text/plain": [
       "admin                  193\n",
       "Pakalert                86\n",
       "Eddy Lavine             85\n",
       "Starkman                84\n",
       "Gillian                 82\n",
       "                      ... \n",
       "Koel@WritingSouls        1\n",
       "Karml                    1\n",
       "Douglass Ridenhouse      1\n",
       "Amrut Thobbi             1\n",
       "James Richard Tyrer      1\n",
       "Name: author, Length: 1981, dtype: int64"
      ]
     },
     "execution_count": 9,
     "metadata": {},
     "output_type": "execute_result"
    }
   ],
   "source": [
    "df_fake['author'].value_counts()\n"
   ]
  },
  {
   "cell_type": "code",
   "execution_count": 10,
   "metadata": {},
   "outputs": [
    {
     "data": {
      "text/html": [
       "<div>\n",
       "<style scoped>\n",
       "    .dataframe tbody tr th:only-of-type {\n",
       "        vertical-align: middle;\n",
       "    }\n",
       "\n",
       "    .dataframe tbody tr th {\n",
       "        vertical-align: top;\n",
       "    }\n",
       "\n",
       "    .dataframe thead th {\n",
       "        text-align: right;\n",
       "    }\n",
       "</style>\n",
       "<table border=\"1\" class=\"dataframe\">\n",
       "  <thead>\n",
       "    <tr style=\"text-align: right;\">\n",
       "      <th></th>\n",
       "      <th>id</th>\n",
       "      <th>author</th>\n",
       "      <th>label</th>\n",
       "      <th>article</th>\n",
       "    </tr>\n",
       "  </thead>\n",
       "  <tbody>\n",
       "    <tr>\n",
       "      <th>0</th>\n",
       "      <td>0</td>\n",
       "      <td>Darrell Lucus</td>\n",
       "      <td>1</td>\n",
       "      <td>House Dem Aide: We Didn’t Even See Comey’s Let...</td>\n",
       "    </tr>\n",
       "    <tr>\n",
       "      <th>1</th>\n",
       "      <td>1</td>\n",
       "      <td>Daniel J. Flynn</td>\n",
       "      <td>0</td>\n",
       "      <td>FLYNN: Hillary Clinton, Big Woman on Campus - ...</td>\n",
       "    </tr>\n",
       "    <tr>\n",
       "      <th>2</th>\n",
       "      <td>2</td>\n",
       "      <td>Consortiumnews.com</td>\n",
       "      <td>1</td>\n",
       "      <td>Why the Truth Might Get You Fired Why the Trut...</td>\n",
       "    </tr>\n",
       "    <tr>\n",
       "      <th>3</th>\n",
       "      <td>3</td>\n",
       "      <td>Jessica Purkiss</td>\n",
       "      <td>1</td>\n",
       "      <td>15 Civilians Killed In Single US Airstrike Hav...</td>\n",
       "    </tr>\n",
       "    <tr>\n",
       "      <th>4</th>\n",
       "      <td>4</td>\n",
       "      <td>Howard Portnoy</td>\n",
       "      <td>1</td>\n",
       "      <td>Iranian woman jailed for fictional unpublished...</td>\n",
       "    </tr>\n",
       "    <tr>\n",
       "      <th>5</th>\n",
       "      <td>5</td>\n",
       "      <td>Daniel Nussbaum</td>\n",
       "      <td>0</td>\n",
       "      <td>Jackie Mason: Hollywood Would Love Trump if He...</td>\n",
       "    </tr>\n",
       "  </tbody>\n",
       "</table>\n",
       "</div>"
      ],
      "text/plain": [
       "   id              author  label  \\\n",
       "0   0       Darrell Lucus      1   \n",
       "1   1     Daniel J. Flynn      0   \n",
       "2   2  Consortiumnews.com      1   \n",
       "3   3     Jessica Purkiss      1   \n",
       "4   4      Howard Portnoy      1   \n",
       "5   5     Daniel Nussbaum      0   \n",
       "\n",
       "                                             article  \n",
       "0  House Dem Aide: We Didn’t Even See Comey’s Let...  \n",
       "1  FLYNN: Hillary Clinton, Big Woman on Campus - ...  \n",
       "2  Why the Truth Might Get You Fired Why the Trut...  \n",
       "3  15 Civilians Killed In Single US Airstrike Hav...  \n",
       "4  Iranian woman jailed for fictional unpublished...  \n",
       "5  Jackie Mason: Hollywood Would Love Trump if He...  "
      ]
     },
     "execution_count": 10,
     "metadata": {},
     "output_type": "execute_result"
    }
   ],
   "source": [
    "#Add custom field article that combines text and title into same column article\n",
    "\n",
    "df_train['article'] = df_train['title'] + ' ' + df_train['text']\n",
    "df_train.drop(columns=['title', 'text'], inplace = True)\n",
    "df_train.head(6)\n"
   ]
  },
  {
   "cell_type": "code",
   "execution_count": 11,
   "metadata": {},
   "outputs": [],
   "source": [
    "#Clean up and preprocess data\n",
    "\n",
    "stop_words = stopwords.words('english')\n",
    "lemmatizer = WordNetLemmatizer()\n"
   ]
  },
  {
   "cell_type": "code",
   "execution_count": 12,
   "metadata": {},
   "outputs": [],
   "source": [
    "\n",
    "def preprocessArticle(article):\n",
    "    #Clean sentence to remove any punctuations, convert to lower case\n",
    "    cleaned_sentence = re.sub(r'[^\\w\\s]', '', str(article).lower())\n",
    "    #Tokenize sentence into words\n",
    "    words = nltk.word_tokenize(cleaned_sentence)\n",
    "    #Remove stop words and words with length less than equal to 3\n",
    "    filtered_words = [word for word in words if not word in stop_words and len(word) > 3]\n",
    "    #Lemmatize\n",
    "    output_sentence = ''\n",
    "    for word in filtered_words:\n",
    "        output_sentence = output_sentence  + ' ' + str(lemmatizer.lemmatize(word))\n",
    "    \n",
    "    return output_sentence\n"
   ]
  },
  {
   "cell_type": "code",
   "execution_count": 13,
   "metadata": {},
   "outputs": [
    {
     "data": {
      "text/html": [
       "<div>\n",
       "<style scoped>\n",
       "    .dataframe tbody tr th:only-of-type {\n",
       "        vertical-align: middle;\n",
       "    }\n",
       "\n",
       "    .dataframe tbody tr th {\n",
       "        vertical-align: top;\n",
       "    }\n",
       "\n",
       "    .dataframe thead th {\n",
       "        text-align: right;\n",
       "    }\n",
       "</style>\n",
       "<table border=\"1\" class=\"dataframe\">\n",
       "  <thead>\n",
       "    <tr style=\"text-align: right;\">\n",
       "      <th></th>\n",
       "      <th>id</th>\n",
       "      <th>author</th>\n",
       "      <th>label</th>\n",
       "      <th>article</th>\n",
       "      <th>cleaned_article</th>\n",
       "    </tr>\n",
       "  </thead>\n",
       "  <tbody>\n",
       "    <tr>\n",
       "      <th>0</th>\n",
       "      <td>0</td>\n",
       "      <td>Darrell Lucus</td>\n",
       "      <td>1</td>\n",
       "      <td>House Dem Aide: We Didn’t Even See Comey’s Let...</td>\n",
       "      <td>house aide didnt even comeys letter jason cha...</td>\n",
       "    </tr>\n",
       "    <tr>\n",
       "      <th>1</th>\n",
       "      <td>1</td>\n",
       "      <td>Daniel J. Flynn</td>\n",
       "      <td>0</td>\n",
       "      <td>FLYNN: Hillary Clinton, Big Woman on Campus - ...</td>\n",
       "      <td>flynn hillary clinton woman campus breitbart ...</td>\n",
       "    </tr>\n",
       "    <tr>\n",
       "      <th>2</th>\n",
       "      <td>2</td>\n",
       "      <td>Consortiumnews.com</td>\n",
       "      <td>1</td>\n",
       "      <td>Why the Truth Might Get You Fired Why the Trut...</td>\n",
       "      <td>truth might fired truth might fired october 2...</td>\n",
       "    </tr>\n",
       "    <tr>\n",
       "      <th>3</th>\n",
       "      <td>3</td>\n",
       "      <td>Jessica Purkiss</td>\n",
       "      <td>1</td>\n",
       "      <td>15 Civilians Killed In Single US Airstrike Hav...</td>\n",
       "      <td>civilian killed single airstrike identified v...</td>\n",
       "    </tr>\n",
       "    <tr>\n",
       "      <th>4</th>\n",
       "      <td>4</td>\n",
       "      <td>Howard Portnoy</td>\n",
       "      <td>1</td>\n",
       "      <td>Iranian woman jailed for fictional unpublished...</td>\n",
       "      <td>iranian woman jailed fictional unpublished st...</td>\n",
       "    </tr>\n",
       "    <tr>\n",
       "      <th>5</th>\n",
       "      <td>5</td>\n",
       "      <td>Daniel Nussbaum</td>\n",
       "      <td>0</td>\n",
       "      <td>Jackie Mason: Hollywood Would Love Trump if He...</td>\n",
       "      <td>jackie mason hollywood would love trump bombe...</td>\n",
       "    </tr>\n",
       "  </tbody>\n",
       "</table>\n",
       "</div>"
      ],
      "text/plain": [
       "   id              author  label  \\\n",
       "0   0       Darrell Lucus      1   \n",
       "1   1     Daniel J. Flynn      0   \n",
       "2   2  Consortiumnews.com      1   \n",
       "3   3     Jessica Purkiss      1   \n",
       "4   4      Howard Portnoy      1   \n",
       "5   5     Daniel Nussbaum      0   \n",
       "\n",
       "                                             article  \\\n",
       "0  House Dem Aide: We Didn’t Even See Comey’s Let...   \n",
       "1  FLYNN: Hillary Clinton, Big Woman on Campus - ...   \n",
       "2  Why the Truth Might Get You Fired Why the Trut...   \n",
       "3  15 Civilians Killed In Single US Airstrike Hav...   \n",
       "4  Iranian woman jailed for fictional unpublished...   \n",
       "5  Jackie Mason: Hollywood Would Love Trump if He...   \n",
       "\n",
       "                                     cleaned_article  \n",
       "0   house aide didnt even comeys letter jason cha...  \n",
       "1   flynn hillary clinton woman campus breitbart ...  \n",
       "2   truth might fired truth might fired october 2...  \n",
       "3   civilian killed single airstrike identified v...  \n",
       "4   iranian woman jailed fictional unpublished st...  \n",
       "5   jackie mason hollywood would love trump bombe...  "
      ]
     },
     "execution_count": 13,
     "metadata": {},
     "output_type": "execute_result"
    }
   ],
   "source": [
    "\n",
    "for index, row in df_train.iterrows():\n",
    "    cleaned_sentence = preprocessArticle(str(row['article']))\n",
    "    df_train.loc[index, 'cleaned_article'] = cleaned_sentence\n",
    "\n",
    "df_train.head(6)\n"
   ]
  },
  {
   "cell_type": "code",
   "execution_count": 14,
   "metadata": {},
   "outputs": [],
   "source": [
    "#Sentiment analysis to see polarity difference if any between fake and real articles\n",
    "\n",
    "df_reliable = df_train.loc[df_train['label'] == 0]\n",
    "df_fake = df_train.loc[df_train['label'] == 1]\n",
    "\n",
    "cleaned_reliable_articles = list(df_reliable['cleaned_article'])\n",
    "cleaned_fake_articles = list(df_fake['cleaned_article'])\n",
    "\n",
    "sentimentAnalyzer = SentimentIntensityAnalyzer()\n",
    "\n",
    "#Sentiment analysis for reliable articles\n",
    "sentimentscores = []\n",
    "for i in cleaned_reliable_articles:\n",
    "    score = sentimentAnalyzer.polarity_scores(i)\n",
    "    score['article'] = i\n",
    "    sentimentscores.append(score)\n",
    "    \n",
    "sentimentdf_reliable = pd.DataFrame(sentimentscores)\n",
    "\n",
    "#Sentiment analysis for fake articles\n",
    "sentimentscores = []\n",
    "for i in cleaned_fake_articles:\n",
    "    score = sentimentAnalyzer.polarity_scores(i)\n",
    "    score['article'] = i\n",
    "    sentimentscores.append(score)\n",
    "    \n",
    "sentimentdf_fake = pd.DataFrame(sentimentscores)\n"
   ]
  },
  {
   "cell_type": "code",
   "execution_count": 15,
   "metadata": {},
   "outputs": [
    {
     "data": {
      "text/html": [
       "<div>\n",
       "<style scoped>\n",
       "    .dataframe tbody tr th:only-of-type {\n",
       "        vertical-align: middle;\n",
       "    }\n",
       "\n",
       "    .dataframe tbody tr th {\n",
       "        vertical-align: top;\n",
       "    }\n",
       "\n",
       "    .dataframe thead th {\n",
       "        text-align: right;\n",
       "    }\n",
       "</style>\n",
       "<table border=\"1\" class=\"dataframe\">\n",
       "  <thead>\n",
       "    <tr style=\"text-align: right;\">\n",
       "      <th></th>\n",
       "      <th>article</th>\n",
       "      <th>compound</th>\n",
       "      <th>neg</th>\n",
       "      <th>neu</th>\n",
       "      <th>pos</th>\n",
       "    </tr>\n",
       "  </thead>\n",
       "  <tbody>\n",
       "    <tr>\n",
       "      <th>0</th>\n",
       "      <td>flynn hillary clinton woman campus breitbart ...</td>\n",
       "      <td>0.8979</td>\n",
       "      <td>0.142</td>\n",
       "      <td>0.686</td>\n",
       "      <td>0.172</td>\n",
       "    </tr>\n",
       "    <tr>\n",
       "      <th>1</th>\n",
       "      <td>jackie mason hollywood would love trump bombe...</td>\n",
       "      <td>0.9094</td>\n",
       "      <td>0.137</td>\n",
       "      <td>0.658</td>\n",
       "      <td>0.205</td>\n",
       "    </tr>\n",
       "    <tr>\n",
       "      <th>2</th>\n",
       "      <td>benoît hamon win french socialist party presi...</td>\n",
       "      <td>0.9975</td>\n",
       "      <td>0.039</td>\n",
       "      <td>0.748</td>\n",
       "      <td>0.213</td>\n",
       "    </tr>\n",
       "    <tr>\n",
       "      <th>3</th>\n",
       "      <td>excerpt draft script donald trump qampa black...</td>\n",
       "      <td>0.9995</td>\n",
       "      <td>0.044</td>\n",
       "      <td>0.679</td>\n",
       "      <td>0.277</td>\n",
       "    </tr>\n",
       "    <tr>\n",
       "      <th>4</th>\n",
       "      <td>backchannel plan ukraine russia courtesy trum...</td>\n",
       "      <td>0.9968</td>\n",
       "      <td>0.079</td>\n",
       "      <td>0.768</td>\n",
       "      <td>0.153</td>\n",
       "    </tr>\n",
       "    <tr>\n",
       "      <th>5</th>\n",
       "      <td>obamas organizing action partner soroslinked ...</td>\n",
       "      <td>-0.5318</td>\n",
       "      <td>0.078</td>\n",
       "      <td>0.846</td>\n",
       "      <td>0.076</td>\n",
       "    </tr>\n",
       "  </tbody>\n",
       "</table>\n",
       "</div>"
      ],
      "text/plain": [
       "                                             article  compound    neg    neu  \\\n",
       "0   flynn hillary clinton woman campus breitbart ...    0.8979  0.142  0.686   \n",
       "1   jackie mason hollywood would love trump bombe...    0.9094  0.137  0.658   \n",
       "2   benoît hamon win french socialist party presi...    0.9975  0.039  0.748   \n",
       "3   excerpt draft script donald trump qampa black...    0.9995  0.044  0.679   \n",
       "4   backchannel plan ukraine russia courtesy trum...    0.9968  0.079  0.768   \n",
       "5   obamas organizing action partner soroslinked ...   -0.5318  0.078  0.846   \n",
       "\n",
       "     pos  \n",
       "0  0.172  \n",
       "1  0.205  \n",
       "2  0.213  \n",
       "3  0.277  \n",
       "4  0.153  \n",
       "5  0.076  "
      ]
     },
     "execution_count": 15,
     "metadata": {},
     "output_type": "execute_result"
    }
   ],
   "source": [
    "sentimentdf_reliable.head(6)\n"
   ]
  },
  {
   "cell_type": "code",
   "execution_count": 16,
   "metadata": {},
   "outputs": [
    {
     "data": {
      "text/html": [
       "<div>\n",
       "<style scoped>\n",
       "    .dataframe tbody tr th:only-of-type {\n",
       "        vertical-align: middle;\n",
       "    }\n",
       "\n",
       "    .dataframe tbody tr th {\n",
       "        vertical-align: top;\n",
       "    }\n",
       "\n",
       "    .dataframe thead th {\n",
       "        text-align: right;\n",
       "    }\n",
       "</style>\n",
       "<table border=\"1\" class=\"dataframe\">\n",
       "  <thead>\n",
       "    <tr style=\"text-align: right;\">\n",
       "      <th></th>\n",
       "      <th>article</th>\n",
       "      <th>compound</th>\n",
       "      <th>neg</th>\n",
       "      <th>neu</th>\n",
       "      <th>pos</th>\n",
       "    </tr>\n",
       "  </thead>\n",
       "  <tbody>\n",
       "    <tr>\n",
       "      <th>0</th>\n",
       "      <td>house aide didnt even comeys letter jason cha...</td>\n",
       "      <td>-0.3213</td>\n",
       "      <td>0.084</td>\n",
       "      <td>0.827</td>\n",
       "      <td>0.089</td>\n",
       "    </tr>\n",
       "    <tr>\n",
       "      <th>1</th>\n",
       "      <td>truth might fired truth might fired october 2...</td>\n",
       "      <td>0.9979</td>\n",
       "      <td>0.114</td>\n",
       "      <td>0.657</td>\n",
       "      <td>0.229</td>\n",
       "    </tr>\n",
       "    <tr>\n",
       "      <th>2</th>\n",
       "      <td>civilian killed single airstrike identified v...</td>\n",
       "      <td>-0.9988</td>\n",
       "      <td>0.370</td>\n",
       "      <td>0.571</td>\n",
       "      <td>0.058</td>\n",
       "    </tr>\n",
       "    <tr>\n",
       "      <th>3</th>\n",
       "      <td>iranian woman jailed fictional unpublished st...</td>\n",
       "      <td>-0.9753</td>\n",
       "      <td>0.246</td>\n",
       "      <td>0.716</td>\n",
       "      <td>0.038</td>\n",
       "    </tr>\n",
       "    <tr>\n",
       "      <th>4</th>\n",
       "      <td>life life luxury elton john favorite shark pi...</td>\n",
       "      <td>0.9957</td>\n",
       "      <td>0.014</td>\n",
       "      <td>0.781</td>\n",
       "      <td>0.205</td>\n",
       "    </tr>\n",
       "    <tr>\n",
       "      <th>5</th>\n",
       "      <td>russian researcher discover secret nazi milit...</td>\n",
       "      <td>-0.8316</td>\n",
       "      <td>0.102</td>\n",
       "      <td>0.818</td>\n",
       "      <td>0.080</td>\n",
       "    </tr>\n",
       "  </tbody>\n",
       "</table>\n",
       "</div>"
      ],
      "text/plain": [
       "                                             article  compound    neg    neu  \\\n",
       "0   house aide didnt even comeys letter jason cha...   -0.3213  0.084  0.827   \n",
       "1   truth might fired truth might fired october 2...    0.9979  0.114  0.657   \n",
       "2   civilian killed single airstrike identified v...   -0.9988  0.370  0.571   \n",
       "3   iranian woman jailed fictional unpublished st...   -0.9753  0.246  0.716   \n",
       "4   life life luxury elton john favorite shark pi...    0.9957  0.014  0.781   \n",
       "5   russian researcher discover secret nazi milit...   -0.8316  0.102  0.818   \n",
       "\n",
       "     pos  \n",
       "0  0.089  \n",
       "1  0.229  \n",
       "2  0.058  \n",
       "3  0.038  \n",
       "4  0.205  \n",
       "5  0.080  "
      ]
     },
     "execution_count": 16,
     "metadata": {},
     "output_type": "execute_result"
    }
   ],
   "source": [
    "sentimentdf_fake.head(6)\n"
   ]
  },
  {
   "cell_type": "code",
   "execution_count": 17,
   "metadata": {},
   "outputs": [],
   "source": [
    "\n",
    "sentimentdf_reliable.drop(columns=['article'], inplace = True)\n",
    "average_sentiment_reliable = sentimentdf_reliable.mean()\n",
    "\n",
    "sentimentdf_fake.drop(columns=['article'], inplace = True)\n",
    "average_sentiment_fake = sentimentdf_fake.mean()\n"
   ]
  },
  {
   "cell_type": "code",
   "execution_count": 18,
   "metadata": {},
   "outputs": [
    {
     "name": "stdout",
     "output_type": "stream",
     "text": [
      "\n",
      "Sentiment_analysis..\n",
      "\n"
     ]
    },
    {
     "data": {
      "image/png": "[encoded data removed]",
      "text/plain": [
       "<Figure size 1584x504 with 2 Axes>"
      ]
     },
     "metadata": {
      "needs_background": "light"
     },
     "output_type": "display_data"
    }
   ],
   "source": [
    "\n",
    "print(\"\\nSentiment_analysis..\\n\")\n",
    "names = ['compound', 'negative', 'neutral','positive']\n",
    "colors=[\"orange\", \"red\", \"blue\" , \"green\"]\n",
    "\n",
    "plt.figure(figsize=(22, 7))\n",
    "plt.subplot(131)\n",
    "plt.bar(names,average_sentiment_reliable, color=colors)\n",
    "plt.title(\"Real news\")\n",
    "plt.ylabel(\"Average score\")\n",
    "# zip joins x and y coordinates in pairs\n",
    "for x,y in zip(names,average_sentiment_reliable):\n",
    "\n",
    "    label = \"{:.2f}\".format(y)\n",
    "\n",
    "    plt.annotate(label, # text\n",
    "                 (x,y), # point to label\n",
    "                 textcoords=\"offset points\", # text position\n",
    "                 xytext=(0,10), # distance from text to points\n",
    "                 ha='center') # horizontal alignment\n",
    "plt.subplot(132)\n",
    "plt.bar(names,average_sentiment_fake, color=colors)\n",
    "plt.title(\"Fake news\")\n",
    "plt.ylabel(\"Average score\")\n",
    "for x,y in zip(names,average_sentiment_fake):\n",
    "\n",
    "    label = \"{:.2f}\".format(y)\n",
    "\n",
    "    plt.annotate(label, # text\n",
    "                 (x,y), # point to label\n",
    "                 textcoords=\"offset points\", # text position\n",
    "                 xytext=(0,10), # distance from text to points\n",
    "                 ha='center') # horizontal alignment\n",
    "\n",
    "plt.show()\n"
   ]
  },
  {
   "cell_type": "code",
   "execution_count": 19,
   "metadata": {},
   "outputs": [],
   "source": [
    "\n",
    "#Vectorization\n"
   ]
  },
  {
   "cell_type": "code",
   "execution_count": 20,
   "metadata": {},
   "outputs": [
    {
     "data": {
      "text/plain": [
       "0    1\n",
       "1    0\n",
       "2    1\n",
       "3    1\n",
       "4    1\n",
       "5    0\n",
       "Name: label, dtype: int64"
      ]
     },
     "execution_count": 20,
     "metadata": {},
     "output_type": "execute_result"
    }
   ],
   "source": [
    "df_x = df_train['cleaned_article']\n",
    "df_y = df_train['label']\n",
    "df_x.head(6)\n",
    "df_y.head(6)\n"
   ]
  },
  {
   "cell_type": "code",
   "execution_count": 21,
   "metadata": {
    "scrolled": true
   },
   "outputs": [
    {
     "name": "stdout",
     "output_type": "stream",
     "text": [
      "\n",
      "unigram_term_freq_matrix:\n",
      "  (0, 2827)\t1\n",
      "  (0, 2903)\t2\n",
      "  (0, 3859)\t1\n",
      "  (0, 6446)\t1\n",
      "  (0, 6758)\t1\n",
      "  (0, 6965)\t3\n",
      "  (0, 7338)\t1\n",
      "  (0, 7431)\t1\n",
      "  (0, 8001)\t1\n",
      "  (0, 8490)\t1\n",
      "  (0, 8866)\t6\n",
      "  (0, 10649)\t3\n",
      "  (0, 10727)\t2\n",
      "  (0, 11274)\t1\n",
      "  (0, 11811)\t1\n",
      "  (0, 12371)\t1\n",
      "  (0, 12522)\t1\n",
      "  (0, 12598)\t1\n",
      "  (0, 13319)\t1\n",
      "  (0, 13551)\t1\n",
      "  (0, 13617)\t2\n",
      "  (0, 13632)\t1\n",
      "  (0, 15950)\t1\n",
      "  (0, 16707)\t1\n",
      "  (0, 18895)\t1\n",
      "  :\t:\n",
      "  (20799, 165355)\t1\n",
      "  (20799, 165418)\t1\n",
      "  (20799, 166351)\t1\n",
      "  (20799, 166596)\t1\n",
      "  (20799, 166677)\t1\n",
      "  (20799, 166737)\t1\n",
      "  (20799, 166748)\t1\n",
      "  (20799, 166765)\t1\n",
      "  (20799, 166812)\t5\n",
      "  (20799, 166827)\t1\n",
      "  (20799, 166828)\t1\n",
      "  (20799, 166920)\t1\n",
      "  (20799, 166992)\t1\n",
      "  (20799, 166999)\t1\n",
      "  (20799, 167041)\t1\n",
      "  (20799, 167230)\t1\n",
      "  (20799, 167250)\t1\n",
      "  (20799, 167276)\t1\n",
      "  (20799, 167288)\t1\n",
      "  (20799, 167442)\t1\n",
      "  (20799, 167443)\t1\n",
      "  (20799, 167447)\t1\n",
      "  (20799, 167505)\t1\n",
      "  (20799, 168122)\t4\n",
      "  (20799, 168633)\t1\n"
     ]
    }
   ],
   "source": [
    "#Unigram term frequency matrix\n",
    "\n",
    "count_vectorizer = CountVectorizer(analyzer='word', ngram_range=(1,1))\n",
    "count_vectorizer.fit(df_x)\n",
    "unigram_term_freq_matrix = count_vectorizer.transform(df_x)\n",
    "print(\"\\nunigram_term_freq_matrix:\")\n",
    "print(unigram_term_freq_matrix)\n"
   ]
  },
  {
   "cell_type": "code",
   "execution_count": 22,
   "metadata": {},
   "outputs": [
    {
     "name": "stdout",
     "output_type": "stream",
     "text": [
      "\n",
      "unigram_tfidf_matrix:\n",
      "  (0, 168232)\t0.050069421619470846\n",
      "  (0, 168122)\t0.009913118844402638\n",
      "  (0, 166965)\t0.045112242860588306\n",
      "  (0, 166953)\t0.07270698920032839\n",
      "  (0, 166812)\t0.03847835039711061\n",
      "  (0, 166737)\t0.013511088154540904\n",
      "  (0, 166021)\t0.06125612627411007\n",
      "  (0, 164943)\t0.021495720641748702\n",
      "  (0, 164726)\t0.01743078847938509\n",
      "  (0, 164495)\t0.012685866682191752\n",
      "  (0, 164376)\t0.03436330479689653\n",
      "  (0, 164262)\t0.06125612627411007\n",
      "  (0, 162771)\t0.029062348039435266\n",
      "  (0, 162740)\t0.02205724414158642\n",
      "  (0, 162670)\t0.017330081418286878\n",
      "  (0, 159666)\t0.06699844886690264\n",
      "  (0, 158508)\t0.035373778548680845\n",
      "  (0, 158161)\t0.017755871133242503\n",
      "  (0, 156988)\t0.0414491079565117\n",
      "  (0, 156107)\t0.04510879972848545\n",
      "  (0, 156003)\t0.0868215416447706\n",
      "  (0, 156001)\t0.07612285052610997\n",
      "  (0, 155843)\t0.024587319509754214\n",
      "  (0, 155827)\t0.07099875018900781\n",
      "  (0, 153949)\t0.04548397082019594\n",
      "  :\t:\n",
      "  (20799, 16462)\t0.028509557095345386\n",
      "  (20799, 16145)\t0.04753473150040301\n",
      "  (20799, 15476)\t0.046526398731637414\n",
      "  (20799, 15125)\t0.051934174798350774\n",
      "  (20799, 14633)\t0.02707826057957665\n",
      "  (20799, 14257)\t0.05113598251228706\n",
      "  (20799, 11104)\t0.038725591817124545\n",
      "  (20799, 10727)\t0.05626922034686463\n",
      "  (20799, 10481)\t0.017201966497586204\n",
      "  (20799, 10018)\t0.05378366895723505\n",
      "  (20799, 9393)\t0.10015901166440992\n",
      "  (20799, 9027)\t0.02596825337542206\n",
      "  (20799, 9024)\t0.03293962373662028\n",
      "  (20799, 8944)\t0.03365803380090982\n",
      "  (20799, 7379)\t0.04353724347337268\n",
      "  (20799, 7338)\t0.02427786319053375\n",
      "  (20799, 7231)\t0.047162183746856164\n",
      "  (20799, 6810)\t0.02772451342411884\n",
      "  (20799, 6447)\t0.01725243444170547\n",
      "  (20799, 6429)\t0.02135796068446359\n",
      "  (20799, 5722)\t0.056825190410552964\n",
      "  (20799, 2903)\t0.02541026278700112\n",
      "  (20799, 2875)\t0.034746635811756584\n",
      "  (20799, 2702)\t0.027178862346821903\n",
      "  (20799, 1356)\t0.0551645494795475\n"
     ]
    }
   ],
   "source": [
    "#Unigram tf-idf matrix\n",
    "\n",
    "tfidf_transformer = TfidfTransformer()\n",
    "tfidf_transformer.fit(unigram_term_freq_matrix)\n",
    "unigram_tfidf_matrix = tfidf_transformer.transform(unigram_term_freq_matrix)\n",
    "print(\"\\nunigram_tfidf_matrix:\")\n",
    "print(unigram_tfidf_matrix)\n"
   ]
  },
  {
   "cell_type": "code",
   "execution_count": 23,
   "metadata": {},
   "outputs": [
    {
     "name": "stdout",
     "output_type": "stream",
     "text": [
      "\n",
      "bigram_term_freq_matrix:\n",
      "  (0, 28347)\t1\n",
      "  (0, 29066)\t1\n",
      "  (0, 34949)\t2\n",
      "  (0, 35902)\t1\n",
      "  (0, 38032)\t1\n",
      "  (0, 44480)\t1\n",
      "  (0, 44481)\t1\n",
      "  (0, 56445)\t1\n",
      "  (0, 56473)\t1\n",
      "  (0, 63958)\t1\n",
      "  (0, 64028)\t1\n",
      "  (0, 71733)\t3\n",
      "  (0, 71823)\t1\n",
      "  (0, 72851)\t1\n",
      "  (0, 73917)\t1\n",
      "  (0, 87221)\t1\n",
      "  (0, 87468)\t1\n",
      "  (0, 95347)\t1\n",
      "  (0, 96758)\t1\n",
      "  (0, 116792)\t1\n",
      "  (0, 117170)\t1\n",
      "  (0, 134246)\t1\n",
      "  (0, 135861)\t1\n",
      "  (0, 146535)\t6\n",
      "  (0, 146780)\t2\n",
      "  :\t:\n",
      "  (20799, 4211907)\t1\n",
      "  (20799, 4211908)\t1\n",
      "  (20799, 4221522)\t1\n",
      "  (20799, 4221523)\t1\n",
      "  (20799, 4221573)\t1\n",
      "  (20799, 4221574)\t1\n",
      "  (20799, 4221640)\t1\n",
      "  (20799, 4221641)\t1\n",
      "  (20799, 4221729)\t1\n",
      "  (20799, 4221730)\t1\n",
      "  (20799, 4222199)\t1\n",
      "  (20799, 4222200)\t1\n",
      "  (20799, 4222201)\t1\n",
      "  (20799, 4222202)\t1\n",
      "  (20799, 4222209)\t1\n",
      "  (20799, 4222210)\t1\n",
      "  (20799, 4222536)\t1\n",
      "  (20799, 4222537)\t1\n",
      "  (20799, 4226398)\t4\n",
      "  (20799, 4227909)\t1\n",
      "  (20799, 4229251)\t1\n",
      "  (20799, 4231063)\t1\n",
      "  (20799, 4233293)\t1\n",
      "  (20799, 4241123)\t1\n",
      "  (20799, 4241267)\t1\n"
     ]
    }
   ],
   "source": [
    "#Unigram and bigram term frequency matrix\n",
    "\n",
    "count_vectorizer = CountVectorizer(analyzer='word', ngram_range=(1,2))\n",
    "count_vectorizer.fit(df_x)\n",
    "bigram_term_freq_matrix = count_vectorizer.transform(df_x)\n",
    "print(\"\\nbigram_term_freq_matrix:\")\n",
    "print(bigram_term_freq_matrix)\n"
   ]
  },
  {
   "cell_type": "code",
   "execution_count": 24,
   "metadata": {},
   "outputs": [
    {
     "name": "stdout",
     "output_type": "stream",
     "text": [
      "\n",
      "bigram_tfidf_matrix:\n",
      "  (0, 4235378)\t0.03241195639621523\n",
      "  (0, 4235376)\t0.032105218768387074\n",
      "  (0, 4234389)\t0.02726253028841198\n",
      "  (0, 4226398)\t0.006356431508144326\n",
      "  (0, 4203725)\t0.039278291446639475\n",
      "  (0, 4203297)\t0.039278291446639475\n",
      "  (0, 4203252)\t0.028926605886906633\n",
      "  (0, 4203031)\t0.07544895675110866\n",
      "  (0, 4202997)\t0.03241195639621523\n",
      "  (0, 4202694)\t0.04662074613139837\n",
      "  (0, 4198527)\t0.039278291446639475\n",
      "  (0, 4195182)\t0.039278291446639475\n",
      "  (0, 4194245)\t0.03576690541704199\n",
      "  (0, 4194182)\t0.024672860548193117\n",
      "  (0, 4185834)\t0.039278291446639475\n",
      "  (0, 4184095)\t0.008663500135815693\n",
      "  (0, 4162666)\t0.039278291446639475\n",
      "  (0, 4162665)\t0.039278291446639475\n",
      "  (0, 4134832)\t0.03772447837555433\n",
      "  (0, 4134300)\t0.013783359013659992\n",
      "  (0, 4130013)\t0.039278291446639475\n",
      "  (0, 4128818)\t0.011176867224256417\n",
      "  (0, 4127302)\t0.030089138191623857\n",
      "  (0, 4123501)\t0.008134356497938377\n",
      "  (0, 4121440)\t0.0315568313562873\n",
      "  :\t:\n",
      "  (20799, 149211)\t0.019908571714262947\n",
      "  (20799, 91550)\t0.05670428718457794\n",
      "  (20799, 90994)\t0.025752078658484702\n",
      "  (20799, 87397)\t0.03262957651937741\n",
      "  (20799, 87221)\t0.014360244072983863\n",
      "  (20799, 83730)\t0.03361183796881683\n",
      "  (20799, 83728)\t0.0278962141068428\n",
      "  (20799, 64595)\t0.029500994141170744\n",
      "  (20799, 64357)\t0.016398921785270644\n",
      "  (20799, 56773)\t0.03262957651937741\n",
      "  (20799, 56474)\t0.010204735379374089\n",
      "  (20799, 55916)\t0.030718824798556275\n",
      "  (20799, 55462)\t0.01263313521140852\n",
      "  (20799, 49946)\t0.03361183796881683\n",
      "  (20799, 49945)\t0.03361183796881683\n",
      "  (20799, 37385)\t0.03361183796881683\n",
      "  (20799, 37224)\t0.02986073700572164\n",
      "  (20799, 34949)\t0.015030053210048303\n",
      "  (20799, 34055)\t0.03262957651937741\n",
      "  (20799, 32843)\t0.0232166228723659\n",
      "  (20799, 32812)\t0.020552474781489884\n",
      "  (20799, 22965)\t0.02986073700572164\n",
      "  (20799, 22662)\t0.01607617169037243\n",
      "  (20799, 4987)\t0.03262957651937741\n",
      "  (20799, 4986)\t0.03262957651937741\n"
     ]
    }
   ],
   "source": [
    "#Unigram and bigram tf-idf matrix\n",
    "\n",
    "tfidf_transformer = TfidfTransformer()\n",
    "tfidf_transformer.fit(bigram_term_freq_matrix)\n",
    "bigram_tfidf_matrix = tfidf_transformer.transform(bigram_term_freq_matrix)\n",
    "print(\"\\nbigram_tfidf_matrix:\")\n",
    "print(bigram_tfidf_matrix)\n"
   ]
  },
  {
   "cell_type": "code",
   "execution_count": 25,
   "metadata": {},
   "outputs": [
    {
     "name": "stdout",
     "output_type": "stream",
     "text": [
      "\n",
      "trigram_tfidf_matrix:\n",
      "  (0, 11044145)\t0.02531647431651331\n",
      "  (0, 11044142)\t0.025076886332934308\n",
      "  (0, 11041662)\t0.030679661679462462\n",
      "  (0, 11041635)\t0.021294337787346344\n",
      "  (0, 11006535)\t0.004964909647953334\n",
      "  (0, 10930038)\t0.030679661679462462\n",
      "  (0, 10930037)\t0.030679661679462462\n",
      "  (0, 10928724)\t0.030679661679462462\n",
      "  (0, 10928723)\t0.030679661679462462\n",
      "  (0, 10928618)\t0.022594121318924396\n",
      "  (0, 10928034)\t0.061359323358924925\n",
      "  (0, 10928032)\t0.05893200498135342\n",
      "  (0, 10927923)\t0.02531647431651331\n",
      "  (0, 10927922)\t0.02531647431651331\n",
      "  (0, 10927082)\t0.036414738673104456\n",
      "  (0, 10917224)\t0.030679661679462462\n",
      "  (0, 10917223)\t0.030679661679462462\n",
      "  (0, 10904418)\t0.030679661679462462\n",
      "  (0, 10904417)\t0.030679661679462462\n",
      "  (0, 10900845)\t0.030679661679462462\n",
      "  (0, 10900842)\t0.027936972742485838\n",
      "  (0, 10900676)\t0.01927158708803471\n",
      "  (0, 10875405)\t0.030679661679462462\n",
      "  (0, 10875404)\t0.030679661679462462\n",
      "  (0, 10869388)\t0.0067669250198392475\n",
      "  :\t:\n",
      "  (20799, 126138)\t0.025106071491571905\n",
      "  (20799, 126137)\t0.025106071491571905\n",
      "  (20799, 125067)\t0.00785179715204062\n",
      "  (20799, 123589)\t0.025106071491571905\n",
      "  (20799, 123585)\t0.023635887859948884\n",
      "  (20799, 122352)\t0.009720273126804539\n",
      "  (20799, 110429)\t0.025861849800812176\n",
      "  (20799, 110428)\t0.025861849800812176\n",
      "  (20799, 110427)\t0.025861849800812176\n",
      "  (20799, 83800)\t0.02692705950001328\n",
      "  (20799, 83798)\t0.025861849800812176\n",
      "  (20799, 83298)\t0.0240408617923708\n",
      "  (20799, 83297)\t0.022975652093169693\n",
      "  (20799, 76476)\t0.01156452613442629\n",
      "  (20799, 74049)\t0.025861849800812176\n",
      "  (20799, 74047)\t0.025106071491571905\n",
      "  (20799, 70737)\t0.025861849800812176\n",
      "  (20799, 70706)\t0.017863492444663925\n",
      "  (20799, 70633)\t0.015813625435389472\n",
      "  (20799, 46171)\t0.024519844291201638\n",
      "  (20799, 46170)\t0.022975652093169693\n",
      "  (20799, 45466)\t0.012369437756251201\n",
      "  (20799, 9068)\t0.025106071491571905\n",
      "  (20799, 9067)\t0.025106071491571905\n",
      "  (20799, 9066)\t0.025106071491571905\n"
     ]
    }
   ],
   "source": [
    "#Unigram, bigram, trigram tf-idf matrix\n",
    "\n",
    "tfidf_vectorizer = TfidfVectorizer(analyzer='word', ngram_range=(1,3))\n",
    "tfidf_vectorizer.fit(df_x)\n",
    "trigram_tfidf_matrix = tfidf_vectorizer.transform(df_x)\n",
    "print(\"\\ntrigram_tfidf_matrix:\")\n",
    "print(trigram_tfidf_matrix)\n"
   ]
  },
  {
   "cell_type": "code",
   "execution_count": 26,
   "metadata": {},
   "outputs": [],
   "source": [
    "#Split data into train/test groups"
   ]
  },
  {
   "cell_type": "code",
   "execution_count": 27,
   "metadata": {},
   "outputs": [],
   "source": [
    "#Unigram term frequency matrix split\n",
    "\n",
    "train_x_unigram_tf, test_x_unigram_tf, train_y_unigram_tf, test_y_unigram_tf = train_test_split(unigram_term_freq_matrix, df_y)\n"
   ]
  },
  {
   "cell_type": "code",
   "execution_count": 28,
   "metadata": {},
   "outputs": [],
   "source": [
    "#Unigram tf-idf matrix split\n",
    "\n",
    "train_x_unigram_tfidf, test_x_unigram_tfidf, train_y_unigram_tfidf, test_y_unigram_tfidf = train_test_split(unigram_tfidf_matrix, df_y)\n"
   ]
  },
  {
   "cell_type": "code",
   "execution_count": 29,
   "metadata": {},
   "outputs": [],
   "source": [
    "#Unigram and bigram term frequency matrix split\n",
    "\n",
    "train_x_bigram_tf, test_x_bigram_tf, train_y_bigram_tf, test_y_bigram_tf = train_test_split(bigram_term_freq_matrix, df_y)\n"
   ]
  },
  {
   "cell_type": "code",
   "execution_count": 30,
   "metadata": {},
   "outputs": [],
   "source": [
    "#Unigram and bigram tf-idf matrix split\n",
    "\n",
    "train_x_bigram_tfidf, test_x_bigram_tfidf, train_y_bigram_tfidf, test_y_bigram_tfidf = train_test_split(bigram_tfidf_matrix, df_y)\n"
   ]
  },
  {
   "cell_type": "code",
   "execution_count": 31,
   "metadata": {},
   "outputs": [],
   "source": [
    "#Unigram, bigram, trigram tf-idf matrix split\n",
    "\n",
    "train_x_trigram_tfidf, test_x_trigram_tfidf, train_y_trigram_tfidf, test_y_trigram_tfidf = train_test_split(trigram_tfidf_matrix, df_y)\n"
   ]
  },
  {
   "cell_type": "code",
   "execution_count": 32,
   "metadata": {},
   "outputs": [],
   "source": [
    "\n",
    "#TRAINING\n"
   ]
  },
  {
   "cell_type": "code",
   "execution_count": 33,
   "metadata": {},
   "outputs": [],
   "source": [
    "\n",
    "metrics = {}\n",
    "attributes = [\"accuracy\", \"precision(macro)\", \"precision(micro)\", \"recall(macro)\", \"recall(micro)\", \"f1_score(macro)\", \"f1_score(micro)\"]\n"
   ]
  },
  {
   "cell_type": "code",
   "execution_count": 34,
   "metadata": {},
   "outputs": [],
   "source": [
    "\n",
    "def assess_model_performance(classifier_model, test_x, test_y, name):\n",
    "    true_y = test_y\n",
    "    pred_y = classifier_model.predict(test_x)\n",
    "    #Compute metrics\n",
    "    accuracy = \"%0.2f\" % (classifier_model.score(test_x, true_y)*100) + \"%\"\n",
    "    precision_macro = \"%0.3f\" % (precision_score(true_y, pred_y, average='macro'))\n",
    "    precision_micro = \"%0.3f\" % (precision_score(true_y, pred_y, average='micro'))\n",
    "    recall_macro = \"%0.3f\" %(recall_score(true_y, pred_y, average='macro'))\n",
    "    recall_micro = \"%0.3f\" %(recall_score(true_y, pred_y, average='micro'))\n",
    "    f1_macro = \"%0.3f\" %(f1_score(true_y, pred_y, average='macro'))\n",
    "    f1_micro = \"%0.3f\" %(f1_score(true_y, pred_y, average='micro'))\n",
    "    print(\"Accuracy: \" + accuracy)\n",
    "    print(\"Precision (macro): \" + precision_macro)\n",
    "    print(\"Precision (micro): \" + precision_micro)\n",
    "    print(\"Recall (macro): \" + recall_macro)\n",
    "    print(\"Recall (micro): \" + recall_micro)\n",
    "    print(\"F1Score (macro): \" + f1_macro)\n",
    "    print(\"F1Score (micro): \" + f1_micro)\n",
    "    \n",
    "    #Add metrics to comparison data\n",
    "    metrics[name] = pd.Series([accuracy, precision_macro, precision_micro, recall_macro, recall_micro, f1_macro, f1_micro], index=attributes)\n",
    "    \n",
    "    #Confusion matrix plot\n",
    "    plot_confusion_matrix(classifier_model, test_x, true_y, display_labels=['RELIABLE', 'FAKE'], values_format=\"d\")\n",
    "    disp = plot_precision_recall_curve(classifier_model, test_x, true_y)\n",
    "    disp.ax_.set_title('Precision-Recall curve')\n",
    "    "
   ]
  },
  {
   "cell_type": "code",
   "execution_count": 35,
   "metadata": {},
   "outputs": [
    {
     "name": "stdout",
     "output_type": "stream",
     "text": [
      "Multinomial naive bayes...\n"
     ]
    }
   ],
   "source": [
    "#NAIVE BAYES (MULTINOMIAL)\n",
    "\n",
    "print(\"Multinomial naive bayes...\")\n"
   ]
  },
  {
   "cell_type": "code",
   "execution_count": 36,
   "metadata": {},
   "outputs": [
    {
     "name": "stdout",
     "output_type": "stream",
     "text": [
      "\n",
      "Without smoothing, using unigram term frequency counts:\n",
      "Accuracy: 92.06%\n",
      "Precision (macro): 0.923\n",
      "Precision (micro): 0.921\n",
      "Recall (macro): 0.920\n",
      "Recall (micro): 0.921\n",
      "F1Score (macro): 0.920\n",
      "F1Score (micro): 0.921\n"
     ]
    },
    {
     "data": {
      "image/png": "[encoded data removed]",
      "text/plain": [
       "<Figure size 432x288 with 2 Axes>"
      ]
     },
     "metadata": {
      "needs_background": "light"
     },
     "output_type": "display_data"
    },
    {
     "data": {
      "image/png": "[encoded data removed]",
      "text/plain": [
       "<Figure size 432x288 with 1 Axes>"
      ]
     },
     "metadata": {
      "needs_background": "light"
     },
     "output_type": "display_data"
    }
   ],
   "source": [
    "\n",
    "print(\"\\nWithout smoothing, using unigram term frequency counts:\")\n",
    "mnb_unigram_tf = MultinomialNB(alpha=1.0e-10)\n",
    "mnb_unigram_tf.fit(train_x_unigram_tf, train_y_unigram_tf)\n",
    "assess_model_performance(mnb_unigram_tf, test_x_unigram_tf, test_y_unigram_tf, \"Multinomial naive bayes (TF/Unigram/NoSmoothing)\")\n"
   ]
  },
  {
   "cell_type": "code",
   "execution_count": 37,
   "metadata": {},
   "outputs": [
    {
     "name": "stdout",
     "output_type": "stream",
     "text": [
      "\n",
      "Without smoothing, using unigram tf-idf:\n",
      "Accuracy: 91.83%\n",
      "Precision (macro): 0.921\n",
      "Precision (micro): 0.918\n",
      "Recall (macro): 0.918\n",
      "Recall (micro): 0.918\n",
      "F1Score (macro): 0.918\n",
      "F1Score (micro): 0.918\n"
     ]
    },
    {
     "data": {
      "image/png": "[encoded data removed]",
      "text/plain": [
       "<Figure size 432x288 with 2 Axes>"
      ]
     },
     "metadata": {
      "needs_background": "light"
     },
     "output_type": "display_data"
    },
    {
     "data": {
      "image/png": "[encoded data removed]",
      "text/plain": [
       "<Figure size 432x288 with 1 Axes>"
      ]
     },
     "metadata": {
      "needs_background": "light"
     },
     "output_type": "display_data"
    }
   ],
   "source": [
    "\n",
    "print(\"\\nWithout smoothing, using unigram tf-idf:\")\n",
    "mnb_unigram_tfidf = MultinomialNB(alpha=1.0e-10)\n",
    "mnb_unigram_tfidf.fit(train_x_unigram_tfidf, train_y_unigram_tfidf)\n",
    "assess_model_performance(mnb_unigram_tfidf, test_x_unigram_tfidf, test_y_unigram_tfidf, \"Multinomial naive bayes (TFIDF/Unigram/NoSmoothing)\")\n"
   ]
  },
  {
   "cell_type": "code",
   "execution_count": 38,
   "metadata": {},
   "outputs": [
    {
     "name": "stdout",
     "output_type": "stream",
     "text": [
      "\n",
      "With smoothing, using unigram term frequency counts:\n",
      "Accuracy: 89.75%\n",
      "Precision (macro): 0.907\n",
      "Precision (micro): 0.897\n",
      "Recall (macro): 0.897\n",
      "Recall (micro): 0.897\n",
      "F1Score (macro): 0.897\n",
      "F1Score (micro): 0.897\n"
     ]
    },
    {
     "data": {
      "image/png": "[encoded data removed]",
      "text/plain": [
       "<Figure size 432x288 with 2 Axes>"
      ]
     },
     "metadata": {
      "needs_background": "light"
     },
     "output_type": "display_data"
    },
    {
     "data": {
      "image/png": "[encoded data removed]",
      "text/plain": [
       "<Figure size 432x288 with 1 Axes>"
      ]
     },
     "metadata": {
      "needs_background": "light"
     },
     "output_type": "display_data"
    }
   ],
   "source": [
    "\n",
    "print(\"\\nWith smoothing, using unigram term frequency counts:\")\n",
    "mnb_smoothing_unigram_tf = MultinomialNB(alpha=1.0)\n",
    "mnb_smoothing_unigram_tf.fit(train_x_unigram_tf, train_y_unigram_tf)\n",
    "assess_model_performance(mnb_smoothing_unigram_tf, test_x_unigram_tf, test_y_unigram_tf, \"Multinomial naive bayes (TF/Unigram/Smoothing)\")\n"
   ]
  },
  {
   "cell_type": "code",
   "execution_count": 39,
   "metadata": {},
   "outputs": [
    {
     "name": "stdout",
     "output_type": "stream",
     "text": [
      "\n",
      "With smoothing, using unigram tf-idf:\n",
      "Accuracy: 81.98%\n",
      "Precision (macro): 0.865\n",
      "Precision (micro): 0.820\n",
      "Recall (macro): 0.818\n",
      "Recall (micro): 0.820\n",
      "F1Score (macro): 0.813\n",
      "F1Score (micro): 0.820\n"
     ]
    },
    {
     "data": {
      "image/png": "[encoded data removed]",
      "text/plain": [
       "<Figure size 432x288 with 2 Axes>"
      ]
     },
     "metadata": {
      "needs_background": "light"
     },
     "output_type": "display_data"
    },
    {
     "data": {
      "image/png": "[encoded data removed]",
      "text/plain": [
       "<Figure size 432x288 with 1 Axes>"
      ]
     },
     "metadata": {
      "needs_background": "light"
     },
     "output_type": "display_data"
    }
   ],
   "source": [
    "\n",
    "print(\"\\nWith smoothing, using unigram tf-idf:\")\n",
    "mnb_smoothing_unigram_tfidf = MultinomialNB(alpha=1.0)\n",
    "mnb_smoothing_unigram_tfidf.fit(train_x_unigram_tfidf, train_y_unigram_tfidf)\n",
    "assess_model_performance(mnb_smoothing_unigram_tfidf, test_x_unigram_tfidf, test_y_unigram_tfidf, \"Multinomial naive bayes (TFIDF/Unigram/Smoothing)\")\n"
   ]
  },
  {
   "cell_type": "code",
   "execution_count": 40,
   "metadata": {},
   "outputs": [
    {
     "name": "stdout",
     "output_type": "stream",
     "text": [
      "\n",
      "With smoothing, using unigram and bigram term frequency counts:\n",
      "Accuracy: 92.44%\n",
      "Precision (macro): 0.931\n",
      "Precision (micro): 0.924\n",
      "Recall (macro): 0.923\n",
      "Recall (micro): 0.924\n",
      "F1Score (macro): 0.924\n",
      "F1Score (micro): 0.924\n"
     ]
    },
    {
     "data": {
      "image/png": "[encoded data removed]",
      "text/plain": [
       "<Figure size 432x288 with 2 Axes>"
      ]
     },
     "metadata": {
      "needs_background": "light"
     },
     "output_type": "display_data"
    },
    {
     "data": {
      "image/png": "[encoded data removed]",
      "text/plain": [
       "<Figure size 432x288 with 1 Axes>"
      ]
     },
     "metadata": {
      "needs_background": "light"
     },
     "output_type": "display_data"
    }
   ],
   "source": [
    "\n",
    "print(\"\\nWith smoothing, using unigram and bigram term frequency counts:\")\n",
    "mnb_smoothing_bigram_tf = MultinomialNB(alpha=1.0)\n",
    "mnb_smoothing_bigram_tf.fit(train_x_bigram_tf, train_y_bigram_tf)\n",
    "assess_model_performance(mnb_smoothing_bigram_tf, test_x_bigram_tf, test_y_bigram_tf, \"Multinomial naive bayes (TF/Uni-bigram/Smoothing)\")\n"
   ]
  },
  {
   "cell_type": "code",
   "execution_count": 41,
   "metadata": {},
   "outputs": [
    {
     "name": "stdout",
     "output_type": "stream",
     "text": [
      "\n",
      "With smoothing, using unigram and bigram tf-idf:\n",
      "Accuracy: 80.94%\n",
      "Precision (macro): 0.861\n",
      "Precision (micro): 0.809\n",
      "Recall (macro): 0.808\n",
      "Recall (micro): 0.809\n",
      "F1Score (macro): 0.802\n",
      "F1Score (micro): 0.809\n"
     ]
    },
    {
     "data": {
      "image/png": "[encoded data removed]",
      "text/plain": [
       "<Figure size 432x288 with 2 Axes>"
      ]
     },
     "metadata": {
      "needs_background": "light"
     },
     "output_type": "display_data"
    },
    {
     "data": {
      "image/png": "[encoded data removed]",
      "text/plain": [
       "<Figure size 432x288 with 1 Axes>"
      ]
     },
     "metadata": {
      "needs_background": "light"
     },
     "output_type": "display_data"
    }
   ],
   "source": [
    "\n",
    "print(\"\\nWith smoothing, using unigram and bigram tf-idf:\")\n",
    "mnb_smoothing_bigram_tfidf = MultinomialNB(alpha=1.0)\n",
    "mnb_smoothing_bigram_tfidf.fit(train_x_bigram_tfidf, train_y_bigram_tfidf)\n",
    "assess_model_performance(mnb_smoothing_bigram_tfidf, test_x_bigram_tfidf, test_y_bigram_tfidf, \"Multinomial naive bayes (TFIDF/Uni-bigram/Smoothing)\")\n"
   ]
  },
  {
   "cell_type": "code",
   "execution_count": 42,
   "metadata": {},
   "outputs": [
    {
     "name": "stdout",
     "output_type": "stream",
     "text": [
      "\n",
      "With smoothing, using unigram, bigram and trigram tf-idf:\n",
      "Accuracy: 75.46%\n",
      "Precision (macro): 0.831\n",
      "Precision (micro): 0.755\n",
      "Recall (macro): 0.761\n",
      "Recall (micro): 0.755\n",
      "F1Score (macro): 0.742\n",
      "F1Score (micro): 0.755\n"
     ]
    },
    {
     "data": {
      "image/png": "[encoded data removed]",
      "text/plain": [
       "<Figure size 432x288 with 2 Axes>"
      ]
     },
     "metadata": {
      "needs_background": "light"
     },
     "output_type": "display_data"
    },
    {
     "data": {
      "image/png": "[encoded data removed]",
      "text/plain": [
       "<Figure size 432x288 with 1 Axes>"
      ]
     },
     "metadata": {
      "needs_background": "light"
     },
     "output_type": "display_data"
    }
   ],
   "source": [
    "\n",
    "print(\"\\nWith smoothing, using unigram, bigram and trigram tf-idf:\")\n",
    "mnb_smoothing_trigram_tfidf = MultinomialNB(alpha=1.0)\n",
    "mnb_smoothing_trigram_tfidf.fit(train_x_trigram_tfidf, train_y_trigram_tfidf)\n",
    "assess_model_performance(mnb_smoothing_trigram_tfidf, test_x_trigram_tfidf, test_y_trigram_tfidf, \"Multinomial naive bayes (TFIDF/Uni-bi-trigram/Smoothing)\")\n"
   ]
  },
  {
   "cell_type": "code",
   "execution_count": 43,
   "metadata": {},
   "outputs": [
    {
     "name": "stdout",
     "output_type": "stream",
     "text": [
      "Logistic regression...\n"
     ]
    }
   ],
   "source": [
    "#LOGISTIC REGRESSION\n",
    "\n",
    "print(\"Logistic regression...\")\n"
   ]
  },
  {
   "cell_type": "code",
   "execution_count": 44,
   "metadata": {},
   "outputs": [
    {
     "name": "stdout",
     "output_type": "stream",
     "text": [
      "\n",
      "Using unigram tf-idf:\n",
      "Accuracy: 94.27%\n",
      "Precision (macro): 0.943\n",
      "Precision (micro): 0.943\n",
      "Recall (macro): 0.943\n",
      "Recall (micro): 0.943\n",
      "F1Score (macro): 0.943\n",
      "F1Score (micro): 0.943\n"
     ]
    },
    {
     "data": {
      "image/png": "[encoded data removed]",
      "text/plain": [
       "<Figure size 432x288 with 2 Axes>"
      ]
     },
     "metadata": {
      "needs_background": "light"
     },
     "output_type": "display_data"
    },
    {
     "data": {
      "image/png": "[encoded data removed]",
      "text/plain": [
       "<Figure size 432x288 with 1 Axes>"
      ]
     },
     "metadata": {
      "needs_background": "light"
     },
     "output_type": "display_data"
    }
   ],
   "source": [
    "\n",
    "print(\"\\nUsing unigram tf-idf:\")\n",
    "log_reg_unigram_tfidf = LogisticRegression()\n",
    "log_reg_unigram_tfidf.fit(train_x_unigram_tfidf, train_y_unigram_tfidf)\n",
    "assess_model_performance(log_reg_unigram_tfidf, test_x_unigram_tfidf, test_y_unigram_tfidf, \"Logistic Regression (TFIDF/Unigram)\")\n"
   ]
  },
  {
   "cell_type": "code",
   "execution_count": 45,
   "metadata": {},
   "outputs": [
    {
     "name": "stdout",
     "output_type": "stream",
     "text": [
      "\n",
      "Using unigram and bigram tf-idf:\n",
      "Accuracy: 93.62%\n",
      "Precision (macro): 0.936\n",
      "Precision (micro): 0.936\n",
      "Recall (macro): 0.936\n",
      "Recall (micro): 0.936\n",
      "F1Score (macro): 0.936\n",
      "F1Score (micro): 0.936\n"
     ]
    },
    {
     "data": {
      "image/png": "[encoded data removed]",
      "text/plain": [
       "<Figure size 432x288 with 2 Axes>"
      ]
     },
     "metadata": {
      "needs_background": "light"
     },
     "output_type": "display_data"
    },
    {
     "data": {
      "image/png": "[encoded data removed]",
      "text/plain": [
       "<Figure size 432x288 with 1 Axes>"
      ]
     },
     "metadata": {
      "needs_background": "light"
     },
     "output_type": "display_data"
    }
   ],
   "source": [
    "\n",
    "print(\"\\nUsing unigram and bigram tf-idf:\")\n",
    "log_reg_bigram_tfidf = LogisticRegression()\n",
    "log_reg_bigram_tfidf.fit(train_x_bigram_tfidf, train_y_bigram_tfidf)\n",
    "assess_model_performance(log_reg_bigram_tfidf, test_x_bigram_tfidf, test_y_bigram_tfidf, \"Logistic Regression (TFIDF/Uni-bigram)\")\n"
   ]
  },
  {
   "cell_type": "code",
   "execution_count": 46,
   "metadata": {},
   "outputs": [
    {
     "name": "stdout",
     "output_type": "stream",
     "text": [
      "\n",
      "Using unigram, bigram, trigram tf-idf:\n",
      "Accuracy: 93.73%\n",
      "Precision (macro): 0.937\n",
      "Precision (micro): 0.937\n",
      "Recall (macro): 0.937\n",
      "Recall (micro): 0.937\n",
      "F1Score (macro): 0.937\n",
      "F1Score (micro): 0.937\n"
     ]
    },
    {
     "data": {
      "image/png": "[encoded data removed]",
      "text/plain": [
       "<Figure size 432x288 with 2 Axes>"
      ]
     },
     "metadata": {
      "needs_background": "light"
     },
     "output_type": "display_data"
    },
    {
     "data": {
      "image/png": "[encoded data removed]",
      "text/plain": [
       "<Figure size 432x288 with 1 Axes>"
      ]
     },
     "metadata": {
      "needs_background": "light"
     },
     "output_type": "display_data"
    }
   ],
   "source": [
    "\n",
    "print(\"\\nUsing unigram, bigram, trigram tf-idf:\")\n",
    "log_reg_trigram_tfidf = LogisticRegression()\n",
    "log_reg_trigram_tfidf.fit(train_x_trigram_tfidf, train_y_trigram_tfidf)\n",
    "assess_model_performance(log_reg_trigram_tfidf, test_x_trigram_tfidf, test_y_trigram_tfidf, \"Logistic Regression (TFIDF/Uni-bi-trigram)\")\n"
   ]
  },
  {
   "cell_type": "code",
   "execution_count": 47,
   "metadata": {},
   "outputs": [
    {
     "name": "stdout",
     "output_type": "stream",
     "text": [
      "Linear SVC...\n"
     ]
    }
   ],
   "source": [
    "#SVM (Linear SVC)\n",
    "\n",
    "print(\"Linear SVC...\")\n"
   ]
  },
  {
   "cell_type": "code",
   "execution_count": 48,
   "metadata": {
    "scrolled": true
   },
   "outputs": [
    {
     "name": "stdout",
     "output_type": "stream",
     "text": [
      "\n",
      "With linear kernel, standard regularization (inversely proportional to C) set to 1.0, using unigram tf-idf:\n",
      "Accuracy: 96.04%\n",
      "Precision (macro): 0.960\n",
      "Precision (micro): 0.960\n",
      "Recall (macro): 0.960\n",
      "Recall (micro): 0.960\n",
      "F1Score (macro): 0.960\n",
      "F1Score (micro): 0.960\n"
     ]
    },
    {
     "data": {
      "image/png": "[encoded data removed]",
      "text/plain": [
       "<Figure size 432x288 with 2 Axes>"
      ]
     },
     "metadata": {
      "needs_background": "light"
     },
     "output_type": "display_data"
    },
    {
     "data": {
      "image/png": "[encoded data removed]",
      "text/plain": [
       "<Figure size 432x288 with 1 Axes>"
      ]
     },
     "metadata": {
      "needs_background": "light"
     },
     "output_type": "display_data"
    }
   ],
   "source": [
    "\n",
    "print(\"\\nWith linear kernel, standard regularization (inversely proportional to C) set to 1.0, using unigram tf-idf:\")\n",
    "\n",
    "linear_svc_c1_unigram_tfidf = LinearSVC(C=1.0, max_iter=1000)\n",
    "linear_svc_c1_unigram_tfidf.fit(train_x_unigram_tfidf, train_y_unigram_tfidf)\n",
    "assess_model_performance(linear_svc_c1_unigram_tfidf, test_x_unigram_tfidf, test_y_unigram_tfidf, \"Linear SVC (TFIDF/Unigram)\")\n"
   ]
  },
  {
   "cell_type": "code",
   "execution_count": 49,
   "metadata": {},
   "outputs": [
    {
     "name": "stdout",
     "output_type": "stream",
     "text": [
      "\n",
      "With linear kernel, more regularization (inversely proportional to C) set to 1.0e-3, using unigram tf-idf:\n",
      "Accuracy: 87.27%\n",
      "Precision (macro): 0.873\n",
      "Precision (micro): 0.873\n",
      "Recall (macro): 0.873\n",
      "Recall (micro): 0.873\n",
      "F1Score (macro): 0.873\n",
      "F1Score (micro): 0.873\n"
     ]
    },
    {
     "data": {
      "image/png": "[encoded data removed]",
      "text/plain": [
       "<Figure size 432x288 with 2 Axes>"
      ]
     },
     "metadata": {
      "needs_background": "light"
     },
     "output_type": "display_data"
    },
    {
     "data": {
      "image/png": "[encoded data removed]",
      "text/plain": [
       "<Figure size 432x288 with 1 Axes>"
      ]
     },
     "metadata": {
      "needs_background": "light"
     },
     "output_type": "display_data"
    }
   ],
   "source": [
    "print(\"\\nWith linear kernel, more regularization (inversely proportional to C) set to 1.0e-3, using unigram tf-idf:\")\n",
    "\n",
    "linear_svc_c1e3_unigram_tfidf = LinearSVC(C=1.0e-3, max_iter=1000)\n",
    "linear_svc_c1e3_unigram_tfidf.fit(train_x_unigram_tfidf, train_y_unigram_tfidf)\n",
    "assess_model_performance(linear_svc_c1e3_unigram_tfidf, test_x_unigram_tfidf, test_y_unigram_tfidf, \"Linear SVC (TFIDF/Unigram/Regularization)\")\n"
   ]
  },
  {
   "cell_type": "code",
   "execution_count": 50,
   "metadata": {},
   "outputs": [
    {
     "name": "stdout",
     "output_type": "stream",
     "text": [
      "\n",
      "With linear kernel, standard regularization (inversely proportional to C) set to 1.0, using unigram and bigram tf-idf:\n",
      "Accuracy: 96.04%\n",
      "Precision (macro): 0.960\n",
      "Precision (micro): 0.960\n",
      "Recall (macro): 0.960\n",
      "Recall (micro): 0.960\n",
      "F1Score (macro): 0.960\n",
      "F1Score (micro): 0.960\n"
     ]
    },
    {
     "data": {
      "image/png": "[encoded data removed]",
      "text/plain": [
       "<Figure size 432x288 with 2 Axes>"
      ]
     },
     "metadata": {
      "needs_background": "light"
     },
     "output_type": "display_data"
    },
    {
     "data": {
      "image/png": "[encoded data removed]",
      "text/plain": [
       "<Figure size 432x288 with 1 Axes>"
      ]
     },
     "metadata": {
      "needs_background": "light"
     },
     "output_type": "display_data"
    }
   ],
   "source": [
    "\n",
    "print(\"\\nWith linear kernel, standard regularization (inversely proportional to C) set to 1.0, using unigram and bigram tf-idf:\")\n",
    "\n",
    "linear_svc_c1_bigram_tfidf = LinearSVC(C=1.0, max_iter=1000)\n",
    "linear_svc_c1_bigram_tfidf.fit(train_x_bigram_tfidf, train_y_bigram_tfidf)\n",
    "assess_model_performance(linear_svc_c1_bigram_tfidf, test_x_bigram_tfidf, test_y_bigram_tfidf, \"Linear SVC (TFIDF/Uni-bigram)\")\n"
   ]
  },
  {
   "cell_type": "code",
   "execution_count": 51,
   "metadata": {},
   "outputs": [
    {
     "name": "stdout",
     "output_type": "stream",
     "text": [
      "\n",
      "With linear kernel, standard regularization (inversely proportional to C) set to 1.0, using unigram, bigram and trigram tf-idf:\n",
      "Accuracy: 95.87%\n",
      "Precision (macro): 0.959\n",
      "Precision (micro): 0.959\n",
      "Recall (macro): 0.959\n",
      "Recall (micro): 0.959\n",
      "F1Score (macro): 0.959\n",
      "F1Score (micro): 0.959\n"
     ]
    },
    {
     "data": {
      "image/png": "[encoded data removed]",
      "text/plain": [
       "<Figure size 432x288 with 2 Axes>"
      ]
     },
     "metadata": {
      "needs_background": "light"
     },
     "output_type": "display_data"
    },
    {
     "data": {
      "image/png": "[encoded data removed]",
      "text/plain": [
       "<Figure size 432x288 with 1 Axes>"
      ]
     },
     "metadata": {
      "needs_background": "light"
     },
     "output_type": "display_data"
    }
   ],
   "source": [
    "\n",
    "print(\"\\nWith linear kernel, standard regularization (inversely proportional to C) set to 1.0, using unigram, bigram and trigram tf-idf:\")\n",
    "\n",
    "linear_svc_c1_trigram_tfidf = LinearSVC(C=1.0, max_iter=1000)\n",
    "linear_svc_c1_trigram_tfidf.fit(train_x_trigram_tfidf, train_y_trigram_tfidf)\n",
    "assess_model_performance(linear_svc_c1_trigram_tfidf, test_x_trigram_tfidf, test_y_trigram_tfidf, \"Linear SVC (TFIDF/Uni-bi-trigram)\")\n"
   ]
  },
  {
   "cell_type": "code",
   "execution_count": 52,
   "metadata": {},
   "outputs": [
    {
     "name": "stdout",
     "output_type": "stream",
     "text": [
      "SGDC...\n"
     ]
    }
   ],
   "source": [
    "#SGDC\n",
    "\n",
    "print(\"SGDC...\")\n"
   ]
  },
  {
   "cell_type": "code",
   "execution_count": 53,
   "metadata": {},
   "outputs": [
    {
     "name": "stdout",
     "output_type": "stream",
     "text": [
      "\n",
      "Using unigram tf-idf:\n",
      "Accuracy: 95.56%\n",
      "Precision (macro): 0.956\n",
      "Precision (micro): 0.956\n",
      "Recall (macro): 0.956\n",
      "Recall (micro): 0.956\n",
      "F1Score (macro): 0.956\n",
      "F1Score (micro): 0.956\n"
     ]
    },
    {
     "data": {
      "image/png": "[encoded data removed]",
      "text/plain": [
       "<Figure size 432x288 with 2 Axes>"
      ]
     },
     "metadata": {
      "needs_background": "light"
     },
     "output_type": "display_data"
    },
    {
     "data": {
      "image/png": "[encoded data removed]",
      "text/plain": [
       "<Figure size 432x288 with 1 Axes>"
      ]
     },
     "metadata": {
      "needs_background": "light"
     },
     "output_type": "display_data"
    }
   ],
   "source": [
    "\n",
    "print(\"\\nUsing unigram tf-idf:\")\n",
    "sgdc_unigram_tfidf = SGDClassifier()\n",
    "sgdc_unigram_tfidf.fit(train_x_unigram_tfidf, train_y_unigram_tfidf)\n",
    "assess_model_performance(sgdc_unigram_tfidf, test_x_unigram_tfidf, test_y_unigram_tfidf, \"SGDC (TFIDF/Unigram)\")\n"
   ]
  },
  {
   "cell_type": "code",
   "execution_count": 54,
   "metadata": {},
   "outputs": [
    {
     "name": "stdout",
     "output_type": "stream",
     "text": [
      "\n",
      "Using unigram and bigram tf-idf:\n",
      "Accuracy: 95.65%\n",
      "Precision (macro): 0.957\n",
      "Precision (micro): 0.957\n",
      "Recall (macro): 0.957\n",
      "Recall (micro): 0.957\n",
      "F1Score (macro): 0.957\n",
      "F1Score (micro): 0.957\n"
     ]
    },
    {
     "data": {
      "image/png": "[encoded data removed]",
      "text/plain": [
       "<Figure size 432x288 with 2 Axes>"
      ]
     },
     "metadata": {
      "needs_background": "light"
     },
     "output_type": "display_data"
    },
    {
     "data": {
      "image/png": "[encoded data removed]",
      "text/plain": [
       "<Figure size 432x288 with 1 Axes>"
      ]
     },
     "metadata": {
      "needs_background": "light"
     },
     "output_type": "display_data"
    }
   ],
   "source": [
    "\n",
    "print(\"\\nUsing unigram and bigram tf-idf:\")\n",
    "sgdc_bigram_tfidf = SGDClassifier()\n",
    "sgdc_bigram_tfidf.fit(train_x_bigram_tfidf, train_y_bigram_tfidf)\n",
    "assess_model_performance(sgdc_bigram_tfidf, test_x_bigram_tfidf, test_y_bigram_tfidf, \"SGDC (TFIDF/Uni-bigram)\")\n"
   ]
  },
  {
   "cell_type": "code",
   "execution_count": 55,
   "metadata": {},
   "outputs": [
    {
     "name": "stdout",
     "output_type": "stream",
     "text": [
      "\n",
      "Using unigram, bigram, trigram tf-idf:\n",
      "Accuracy: 95.46%\n",
      "Precision (macro): 0.955\n",
      "Precision (micro): 0.955\n",
      "Recall (macro): 0.954\n",
      "Recall (micro): 0.955\n",
      "F1Score (macro): 0.955\n",
      "F1Score (micro): 0.955\n"
     ]
    },
    {
     "data": {
      "image/png": "[encoded data removed]",
      "text/plain": [
       "<Figure size 432x288 with 2 Axes>"
      ]
     },
     "metadata": {
      "needs_background": "light"
     },
     "output_type": "display_data"
    },
    {
     "data": {
      "image/png": "[encoded data removed]",
      "text/plain": [
       "<Figure size 432x288 with 1 Axes>"
      ]
     },
     "metadata": {
      "needs_background": "light"
     },
     "output_type": "display_data"
    }
   ],
   "source": [
    "\n",
    "print(\"\\nUsing unigram, bigram, trigram tf-idf:\")\n",
    "sgdc_trigram_tfidf = SGDClassifier()\n",
    "sgdc_trigram_tfidf.fit(train_x_trigram_tfidf, train_y_trigram_tfidf)\n",
    "assess_model_performance(sgdc_trigram_tfidf, test_x_trigram_tfidf, test_y_trigram_tfidf, \"SGDC (TFIDF/Uni-bi-trigram)\")\n"
   ]
  },
  {
   "cell_type": "code",
   "execution_count": 56,
   "metadata": {},
   "outputs": [
    {
     "name": "stdout",
     "output_type": "stream",
     "text": [
      "Decision Tree...\n"
     ]
    }
   ],
   "source": [
    "#DECISION TREE\n",
    "\n",
    "print(\"Decision Tree...\")\n"
   ]
  },
  {
   "cell_type": "code",
   "execution_count": 57,
   "metadata": {
    "scrolled": false
   },
   "outputs": [
    {
     "name": "stdout",
     "output_type": "stream",
     "text": [
      "\n",
      "Using unigram tf-idf:\n",
      "Accuracy: 92.81%\n",
      "Precision (macro): 0.928\n",
      "Precision (micro): 0.928\n",
      "Recall (macro): 0.928\n",
      "Recall (micro): 0.928\n",
      "F1Score (macro): 0.928\n",
      "F1Score (micro): 0.928\n"
     ]
    },
    {
     "data": {
      "image/png": "[encoded data removed]",
      "text/plain": [
       "<Figure size 432x288 with 2 Axes>"
      ]
     },
     "metadata": {
      "needs_background": "light"
     },
     "output_type": "display_data"
    },
    {
     "data": {
      "image/png": "[encoded data removed]",
      "text/plain": [
       "<Figure size 432x288 with 1 Axes>"
      ]
     },
     "metadata": {
      "needs_background": "light"
     },
     "output_type": "display_data"
    }
   ],
   "source": [
    "\n",
    "print(\"\\nUsing unigram tf-idf:\")\n",
    "dtree_unigram_tfidf = DecisionTreeClassifier()\n",
    "dtree_unigram_tfidf.fit(train_x_unigram_tfidf, train_y_unigram_tfidf)\n",
    "assess_model_performance(dtree_unigram_tfidf, test_x_unigram_tfidf, test_y_unigram_tfidf, \"Decision Tree (TFIDF/Unigram)\")\n"
   ]
  },
  {
   "cell_type": "code",
   "execution_count": 58,
   "metadata": {},
   "outputs": [
    {
     "name": "stdout",
     "output_type": "stream",
     "text": [
      "\n",
      "Using unigram and bigram tf-idf:\n",
      "Accuracy: 95.60%\n",
      "Precision (macro): 0.956\n",
      "Precision (micro): 0.956\n",
      "Recall (macro): 0.956\n",
      "Recall (micro): 0.956\n",
      "F1Score (macro): 0.956\n",
      "F1Score (micro): 0.956\n"
     ]
    },
    {
     "data": {
      "image/png": "[encoded data removed]",
      "text/plain": [
       "<Figure size 432x288 with 2 Axes>"
      ]
     },
     "metadata": {
      "needs_background": "light"
     },
     "output_type": "display_data"
    },
    {
     "data": {
      "image/png": "[encoded data removed]",
      "text/plain": [
       "<Figure size 432x288 with 1 Axes>"
      ]
     },
     "metadata": {
      "needs_background": "light"
     },
     "output_type": "display_data"
    }
   ],
   "source": [
    "\n",
    "print(\"\\nUsing unigram and bigram tf-idf:\")\n",
    "dtree_bigram_tfidf = DecisionTreeClassifier()\n",
    "dtree_bigram_tfidf.fit(train_x_bigram_tfidf, train_y_bigram_tfidf)\n",
    "assess_model_performance(dtree_bigram_tfidf, test_x_bigram_tfidf, test_y_bigram_tfidf, \"Decision Tree (TFIDF/Uni-bigram)\")\n"
   ]
  },
  {
   "cell_type": "code",
   "execution_count": 59,
   "metadata": {},
   "outputs": [
    {
     "name": "stdout",
     "output_type": "stream",
     "text": [
      "\n",
      "Using unigram, bigram, trigram tf-idf:\n",
      "Accuracy: 95.92%\n",
      "Precision (macro): 0.959\n",
      "Precision (micro): 0.959\n",
      "Recall (macro): 0.959\n",
      "Recall (micro): 0.959\n",
      "F1Score (macro): 0.959\n",
      "F1Score (micro): 0.959\n"
     ]
    },
    {
     "data": {
      "image/png": "[encoded data removed]",
      "text/plain": [
       "<Figure size 432x288 with 2 Axes>"
      ]
     },
     "metadata": {
      "needs_background": "light"
     },
     "output_type": "display_data"
    },
    {
     "data": {
      "image/png": "[encoded data removed]",
      "text/plain": [
       "<Figure size 432x288 with 1 Axes>"
      ]
     },
     "metadata": {
      "needs_background": "light"
     },
     "output_type": "display_data"
    }
   ],
   "source": [
    "\n",
    "print(\"\\nUsing unigram, bigram, trigram tf-idf:\")\n",
    "dtree_trigram_tfidf = DecisionTreeClassifier()\n",
    "dtree_trigram_tfidf.fit(train_x_trigram_tfidf, train_y_trigram_tfidf)\n",
    "assess_model_performance(dtree_trigram_tfidf, test_x_trigram_tfidf, test_y_trigram_tfidf, \"Decision Tree (TFIDF/Uni-bi-trigram)\")\n"
   ]
  },
  {
   "cell_type": "code",
   "execution_count": 60,
   "metadata": {
    "scrolled": false
   },
   "outputs": [
    {
     "data": {
      "text/html": [
       "<div>\n",
       "<style scoped>\n",
       "    .dataframe tbody tr th:only-of-type {\n",
       "        vertical-align: middle;\n",
       "    }\n",
       "\n",
       "    .dataframe tbody tr th {\n",
       "        vertical-align: top;\n",
       "    }\n",
       "\n",
       "    .dataframe thead th {\n",
       "        text-align: right;\n",
       "    }\n",
       "</style>\n",
       "<table border=\"1\" class=\"dataframe\">\n",
       "  <thead>\n",
       "    <tr style=\"text-align: right;\">\n",
       "      <th></th>\n",
       "      <th>accuracy</th>\n",
       "      <th>precision(macro)</th>\n",
       "      <th>precision(micro)</th>\n",
       "      <th>recall(macro)</th>\n",
       "      <th>recall(micro)</th>\n",
       "      <th>f1_score(macro)</th>\n",
       "      <th>f1_score(micro)</th>\n",
       "    </tr>\n",
       "  </thead>\n",
       "  <tbody>\n",
       "    <tr>\n",
       "      <th>Decision Tree (TFIDF/Uni-bi-trigram)</th>\n",
       "      <td>95.92%</td>\n",
       "      <td>0.959</td>\n",
       "      <td>0.959</td>\n",
       "      <td>0.959</td>\n",
       "      <td>0.959</td>\n",
       "      <td>0.959</td>\n",
       "      <td>0.959</td>\n",
       "    </tr>\n",
       "    <tr>\n",
       "      <th>Decision Tree (TFIDF/Uni-bigram)</th>\n",
       "      <td>95.60%</td>\n",
       "      <td>0.956</td>\n",
       "      <td>0.956</td>\n",
       "      <td>0.956</td>\n",
       "      <td>0.956</td>\n",
       "      <td>0.956</td>\n",
       "      <td>0.956</td>\n",
       "    </tr>\n",
       "    <tr>\n",
       "      <th>Decision Tree (TFIDF/Unigram)</th>\n",
       "      <td>92.81%</td>\n",
       "      <td>0.928</td>\n",
       "      <td>0.928</td>\n",
       "      <td>0.928</td>\n",
       "      <td>0.928</td>\n",
       "      <td>0.928</td>\n",
       "      <td>0.928</td>\n",
       "    </tr>\n",
       "    <tr>\n",
       "      <th>Linear SVC (TFIDF/Uni-bi-trigram)</th>\n",
       "      <td>95.87%</td>\n",
       "      <td>0.959</td>\n",
       "      <td>0.959</td>\n",
       "      <td>0.959</td>\n",
       "      <td>0.959</td>\n",
       "      <td>0.959</td>\n",
       "      <td>0.959</td>\n",
       "    </tr>\n",
       "    <tr>\n",
       "      <th>Linear SVC (TFIDF/Uni-bigram)</th>\n",
       "      <td>96.04%</td>\n",
       "      <td>0.960</td>\n",
       "      <td>0.960</td>\n",
       "      <td>0.960</td>\n",
       "      <td>0.960</td>\n",
       "      <td>0.960</td>\n",
       "      <td>0.960</td>\n",
       "    </tr>\n",
       "    <tr>\n",
       "      <th>Linear SVC (TFIDF/Unigram)</th>\n",
       "      <td>96.04%</td>\n",
       "      <td>0.960</td>\n",
       "      <td>0.960</td>\n",
       "      <td>0.960</td>\n",
       "      <td>0.960</td>\n",
       "      <td>0.960</td>\n",
       "      <td>0.960</td>\n",
       "    </tr>\n",
       "    <tr>\n",
       "      <th>Linear SVC (TFIDF/Unigram/Regularization)</th>\n",
       "      <td>87.27%</td>\n",
       "      <td>0.873</td>\n",
       "      <td>0.873</td>\n",
       "      <td>0.873</td>\n",
       "      <td>0.873</td>\n",
       "      <td>0.873</td>\n",
       "      <td>0.873</td>\n",
       "    </tr>\n",
       "    <tr>\n",
       "      <th>Logistic Regression (TFIDF/Uni-bi-trigram)</th>\n",
       "      <td>93.73%</td>\n",
       "      <td>0.937</td>\n",
       "      <td>0.937</td>\n",
       "      <td>0.937</td>\n",
       "      <td>0.937</td>\n",
       "      <td>0.937</td>\n",
       "      <td>0.937</td>\n",
       "    </tr>\n",
       "    <tr>\n",
       "      <th>Logistic Regression (TFIDF/Uni-bigram)</th>\n",
       "      <td>93.62%</td>\n",
       "      <td>0.936</td>\n",
       "      <td>0.936</td>\n",
       "      <td>0.936</td>\n",
       "      <td>0.936</td>\n",
       "      <td>0.936</td>\n",
       "      <td>0.936</td>\n",
       "    </tr>\n",
       "    <tr>\n",
       "      <th>Logistic Regression (TFIDF/Unigram)</th>\n",
       "      <td>94.27%</td>\n",
       "      <td>0.943</td>\n",
       "      <td>0.943</td>\n",
       "      <td>0.943</td>\n",
       "      <td>0.943</td>\n",
       "      <td>0.943</td>\n",
       "      <td>0.943</td>\n",
       "    </tr>\n",
       "    <tr>\n",
       "      <th>Multinomial naive bayes (TF/Uni-bigram/Smoothing)</th>\n",
       "      <td>92.44%</td>\n",
       "      <td>0.931</td>\n",
       "      <td>0.924</td>\n",
       "      <td>0.923</td>\n",
       "      <td>0.924</td>\n",
       "      <td>0.924</td>\n",
       "      <td>0.924</td>\n",
       "    </tr>\n",
       "    <tr>\n",
       "      <th>Multinomial naive bayes (TF/Unigram/NoSmoothing)</th>\n",
       "      <td>92.06%</td>\n",
       "      <td>0.923</td>\n",
       "      <td>0.921</td>\n",
       "      <td>0.920</td>\n",
       "      <td>0.921</td>\n",
       "      <td>0.920</td>\n",
       "      <td>0.921</td>\n",
       "    </tr>\n",
       "    <tr>\n",
       "      <th>Multinomial naive bayes (TF/Unigram/Smoothing)</th>\n",
       "      <td>89.75%</td>\n",
       "      <td>0.907</td>\n",
       "      <td>0.897</td>\n",
       "      <td>0.897</td>\n",
       "      <td>0.897</td>\n",
       "      <td>0.897</td>\n",
       "      <td>0.897</td>\n",
       "    </tr>\n",
       "    <tr>\n",
       "      <th>Multinomial naive bayes (TFIDF/Uni-bi-trigram/Smoothing)</th>\n",
       "      <td>75.46%</td>\n",
       "      <td>0.831</td>\n",
       "      <td>0.755</td>\n",
       "      <td>0.761</td>\n",
       "      <td>0.755</td>\n",
       "      <td>0.742</td>\n",
       "      <td>0.755</td>\n",
       "    </tr>\n",
       "    <tr>\n",
       "      <th>Multinomial naive bayes (TFIDF/Uni-bigram/Smoothing)</th>\n",
       "      <td>80.94%</td>\n",
       "      <td>0.861</td>\n",
       "      <td>0.809</td>\n",
       "      <td>0.808</td>\n",
       "      <td>0.809</td>\n",
       "      <td>0.802</td>\n",
       "      <td>0.809</td>\n",
       "    </tr>\n",
       "    <tr>\n",
       "      <th>Multinomial naive bayes (TFIDF/Unigram/NoSmoothing)</th>\n",
       "      <td>91.83%</td>\n",
       "      <td>0.921</td>\n",
       "      <td>0.918</td>\n",
       "      <td>0.918</td>\n",
       "      <td>0.918</td>\n",
       "      <td>0.918</td>\n",
       "      <td>0.918</td>\n",
       "    </tr>\n",
       "    <tr>\n",
       "      <th>Multinomial naive bayes (TFIDF/Unigram/Smoothing)</th>\n",
       "      <td>81.98%</td>\n",
       "      <td>0.865</td>\n",
       "      <td>0.820</td>\n",
       "      <td>0.818</td>\n",
       "      <td>0.820</td>\n",
       "      <td>0.813</td>\n",
       "      <td>0.820</td>\n",
       "    </tr>\n",
       "    <tr>\n",
       "      <th>SGDC (TFIDF/Uni-bi-trigram)</th>\n",
       "      <td>95.46%</td>\n",
       "      <td>0.955</td>\n",
       "      <td>0.955</td>\n",
       "      <td>0.954</td>\n",
       "      <td>0.955</td>\n",
       "      <td>0.955</td>\n",
       "      <td>0.955</td>\n",
       "    </tr>\n",
       "    <tr>\n",
       "      <th>SGDC (TFIDF/Uni-bigram)</th>\n",
       "      <td>95.65%</td>\n",
       "      <td>0.957</td>\n",
       "      <td>0.957</td>\n",
       "      <td>0.957</td>\n",
       "      <td>0.957</td>\n",
       "      <td>0.957</td>\n",
       "      <td>0.957</td>\n",
       "    </tr>\n",
       "    <tr>\n",
       "      <th>SGDC (TFIDF/Unigram)</th>\n",
       "      <td>95.56%</td>\n",
       "      <td>0.956</td>\n",
       "      <td>0.956</td>\n",
       "      <td>0.956</td>\n",
       "      <td>0.956</td>\n",
       "      <td>0.956</td>\n",
       "      <td>0.956</td>\n",
       "    </tr>\n",
       "  </tbody>\n",
       "</table>\n",
       "</div>"
      ],
      "text/plain": [
       "                                                   accuracy precision(macro)  \\\n",
       "Decision Tree (TFIDF/Uni-bi-trigram)                 95.92%            0.959   \n",
       "Decision Tree (TFIDF/Uni-bigram)                     95.60%            0.956   \n",
       "Decision Tree (TFIDF/Unigram)                        92.81%            0.928   \n",
       "Linear SVC (TFIDF/Uni-bi-trigram)                    95.87%            0.959   \n",
       "Linear SVC (TFIDF/Uni-bigram)                        96.04%            0.960   \n",
       "Linear SVC (TFIDF/Unigram)                           96.04%            0.960   \n",
       "Linear SVC (TFIDF/Unigram/Regularization)            87.27%            0.873   \n",
       "Logistic Regression (TFIDF/Uni-bi-trigram)           93.73%            0.937   \n",
       "Logistic Regression (TFIDF/Uni-bigram)               93.62%            0.936   \n",
       "Logistic Regression (TFIDF/Unigram)                  94.27%            0.943   \n",
       "Multinomial naive bayes (TF/Uni-bigram/Smoothing)    92.44%            0.931   \n",
       "Multinomial naive bayes (TF/Unigram/NoSmoothing)     92.06%            0.923   \n",
       "Multinomial naive bayes (TF/Unigram/Smoothing)       89.75%            0.907   \n",
       "Multinomial naive bayes (TFIDF/Uni-bi-trigram/S...   75.46%            0.831   \n",
       "Multinomial naive bayes (TFIDF/Uni-bigram/Smoot...   80.94%            0.861   \n",
       "Multinomial naive bayes (TFIDF/Unigram/NoSmooth...   91.83%            0.921   \n",
       "Multinomial naive bayes (TFIDF/Unigram/Smoothing)    81.98%            0.865   \n",
       "SGDC (TFIDF/Uni-bi-trigram)                          95.46%            0.955   \n",
       "SGDC (TFIDF/Uni-bigram)                              95.65%            0.957   \n",
       "SGDC (TFIDF/Unigram)                                 95.56%            0.956   \n",
       "\n",
       "                                                   precision(micro)  \\\n",
       "Decision Tree (TFIDF/Uni-bi-trigram)                          0.959   \n",
       "Decision Tree (TFIDF/Uni-bigram)                              0.956   \n",
       "Decision Tree (TFIDF/Unigram)                                 0.928   \n",
       "Linear SVC (TFIDF/Uni-bi-trigram)                             0.959   \n",
       "Linear SVC (TFIDF/Uni-bigram)                                 0.960   \n",
       "Linear SVC (TFIDF/Unigram)                                    0.960   \n",
       "Linear SVC (TFIDF/Unigram/Regularization)                     0.873   \n",
       "Logistic Regression (TFIDF/Uni-bi-trigram)                    0.937   \n",
       "Logistic Regression (TFIDF/Uni-bigram)                        0.936   \n",
       "Logistic Regression (TFIDF/Unigram)                           0.943   \n",
       "Multinomial naive bayes (TF/Uni-bigram/Smoothing)             0.924   \n",
       "Multinomial naive bayes (TF/Unigram/NoSmoothing)              0.921   \n",
       "Multinomial naive bayes (TF/Unigram/Smoothing)                0.897   \n",
       "Multinomial naive bayes (TFIDF/Uni-bi-trigram/S...            0.755   \n",
       "Multinomial naive bayes (TFIDF/Uni-bigram/Smoot...            0.809   \n",
       "Multinomial naive bayes (TFIDF/Unigram/NoSmooth...            0.918   \n",
       "Multinomial naive bayes (TFIDF/Unigram/Smoothing)             0.820   \n",
       "SGDC (TFIDF/Uni-bi-trigram)                                   0.955   \n",
       "SGDC (TFIDF/Uni-bigram)                                       0.957   \n",
       "SGDC (TFIDF/Unigram)                                          0.956   \n",
       "\n",
       "                                                   recall(macro)  \\\n",
       "Decision Tree (TFIDF/Uni-bi-trigram)                       0.959   \n",
       "Decision Tree (TFIDF/Uni-bigram)                           0.956   \n",
       "Decision Tree (TFIDF/Unigram)                              0.928   \n",
       "Linear SVC (TFIDF/Uni-bi-trigram)                          0.959   \n",
       "Linear SVC (TFIDF/Uni-bigram)                              0.960   \n",
       "Linear SVC (TFIDF/Unigram)                                 0.960   \n",
       "Linear SVC (TFIDF/Unigram/Regularization)                  0.873   \n",
       "Logistic Regression (TFIDF/Uni-bi-trigram)                 0.937   \n",
       "Logistic Regression (TFIDF/Uni-bigram)                     0.936   \n",
       "Logistic Regression (TFIDF/Unigram)                        0.943   \n",
       "Multinomial naive bayes (TF/Uni-bigram/Smoothing)          0.923   \n",
       "Multinomial naive bayes (TF/Unigram/NoSmoothing)           0.920   \n",
       "Multinomial naive bayes (TF/Unigram/Smoothing)             0.897   \n",
       "Multinomial naive bayes (TFIDF/Uni-bi-trigram/S...         0.761   \n",
       "Multinomial naive bayes (TFIDF/Uni-bigram/Smoot...         0.808   \n",
       "Multinomial naive bayes (TFIDF/Unigram/NoSmooth...         0.918   \n",
       "Multinomial naive bayes (TFIDF/Unigram/Smoothing)          0.818   \n",
       "SGDC (TFIDF/Uni-bi-trigram)                                0.954   \n",
       "SGDC (TFIDF/Uni-bigram)                                    0.957   \n",
       "SGDC (TFIDF/Unigram)                                       0.956   \n",
       "\n",
       "                                                   recall(micro)  \\\n",
       "Decision Tree (TFIDF/Uni-bi-trigram)                       0.959   \n",
       "Decision Tree (TFIDF/Uni-bigram)                           0.956   \n",
       "Decision Tree (TFIDF/Unigram)                              0.928   \n",
       "Linear SVC (TFIDF/Uni-bi-trigram)                          0.959   \n",
       "Linear SVC (TFIDF/Uni-bigram)                              0.960   \n",
       "Linear SVC (TFIDF/Unigram)                                 0.960   \n",
       "Linear SVC (TFIDF/Unigram/Regularization)                  0.873   \n",
       "Logistic Regression (TFIDF/Uni-bi-trigram)                 0.937   \n",
       "Logistic Regression (TFIDF/Uni-bigram)                     0.936   \n",
       "Logistic Regression (TFIDF/Unigram)                        0.943   \n",
       "Multinomial naive bayes (TF/Uni-bigram/Smoothing)          0.924   \n",
       "Multinomial naive bayes (TF/Unigram/NoSmoothing)           0.921   \n",
       "Multinomial naive bayes (TF/Unigram/Smoothing)             0.897   \n",
       "Multinomial naive bayes (TFIDF/Uni-bi-trigram/S...         0.755   \n",
       "Multinomial naive bayes (TFIDF/Uni-bigram/Smoot...         0.809   \n",
       "Multinomial naive bayes (TFIDF/Unigram/NoSmooth...         0.918   \n",
       "Multinomial naive bayes (TFIDF/Unigram/Smoothing)          0.820   \n",
       "SGDC (TFIDF/Uni-bi-trigram)                                0.955   \n",
       "SGDC (TFIDF/Uni-bigram)                                    0.957   \n",
       "SGDC (TFIDF/Unigram)                                       0.956   \n",
       "\n",
       "                                                   f1_score(macro)  \\\n",
       "Decision Tree (TFIDF/Uni-bi-trigram)                         0.959   \n",
       "Decision Tree (TFIDF/Uni-bigram)                             0.956   \n",
       "Decision Tree (TFIDF/Unigram)                                0.928   \n",
       "Linear SVC (TFIDF/Uni-bi-trigram)                            0.959   \n",
       "Linear SVC (TFIDF/Uni-bigram)                                0.960   \n",
       "Linear SVC (TFIDF/Unigram)                                   0.960   \n",
       "Linear SVC (TFIDF/Unigram/Regularization)                    0.873   \n",
       "Logistic Regression (TFIDF/Uni-bi-trigram)                   0.937   \n",
       "Logistic Regression (TFIDF/Uni-bigram)                       0.936   \n",
       "Logistic Regression (TFIDF/Unigram)                          0.943   \n",
       "Multinomial naive bayes (TF/Uni-bigram/Smoothing)            0.924   \n",
       "Multinomial naive bayes (TF/Unigram/NoSmoothing)             0.920   \n",
       "Multinomial naive bayes (TF/Unigram/Smoothing)               0.897   \n",
       "Multinomial naive bayes (TFIDF/Uni-bi-trigram/S...           0.742   \n",
       "Multinomial naive bayes (TFIDF/Uni-bigram/Smoot...           0.802   \n",
       "Multinomial naive bayes (TFIDF/Unigram/NoSmooth...           0.918   \n",
       "Multinomial naive bayes (TFIDF/Unigram/Smoothing)            0.813   \n",
       "SGDC (TFIDF/Uni-bi-trigram)                                  0.955   \n",
       "SGDC (TFIDF/Uni-bigram)                                      0.957   \n",
       "SGDC (TFIDF/Unigram)                                         0.956   \n",
       "\n",
       "                                                   f1_score(micro)  \n",
       "Decision Tree (TFIDF/Uni-bi-trigram)                         0.959  \n",
       "Decision Tree (TFIDF/Uni-bigram)                             0.956  \n",
       "Decision Tree (TFIDF/Unigram)                                0.928  \n",
       "Linear SVC (TFIDF/Uni-bi-trigram)                            0.959  \n",
       "Linear SVC (TFIDF/Uni-bigram)                                0.960  \n",
       "Linear SVC (TFIDF/Unigram)                                   0.960  \n",
       "Linear SVC (TFIDF/Unigram/Regularization)                    0.873  \n",
       "Logistic Regression (TFIDF/Uni-bi-trigram)                   0.937  \n",
       "Logistic Regression (TFIDF/Uni-bigram)                       0.936  \n",
       "Logistic Regression (TFIDF/Unigram)                          0.943  \n",
       "Multinomial naive bayes (TF/Uni-bigram/Smoothing)            0.924  \n",
       "Multinomial naive bayes (TF/Unigram/NoSmoothing)             0.921  \n",
       "Multinomial naive bayes (TF/Unigram/Smoothing)               0.897  \n",
       "Multinomial naive bayes (TFIDF/Uni-bi-trigram/S...           0.755  \n",
       "Multinomial naive bayes (TFIDF/Uni-bigram/Smoot...           0.809  \n",
       "Multinomial naive bayes (TFIDF/Unigram/NoSmooth...           0.918  \n",
       "Multinomial naive bayes (TFIDF/Unigram/Smoothing)            0.820  \n",
       "SGDC (TFIDF/Uni-bi-trigram)                                  0.955  \n",
       "SGDC (TFIDF/Uni-bigram)                                      0.957  \n",
       "SGDC (TFIDF/Unigram)                                         0.956  "
      ]
     },
     "execution_count": 60,
     "metadata": {},
     "output_type": "execute_result"
    }
   ],
   "source": [
    "\n",
    "df_metrics = pd.DataFrame(metrics)\n",
    "df_metrics.transpose()"
   ]
  },
  {
   "cell_type": "code",
   "execution_count": 61,
   "metadata": {},
   "outputs": [
    {
     "name": "stdout",
     "output_type": "stream",
     "text": [
      "0.9596153846153846\n"
     ]
    },
    {
     "data": {
      "text/plain": [
       "['../model/trained_model.pkl']"
      ]
     },
     "execution_count": 61,
     "metadata": {},
     "output_type": "execute_result"
    }
   ],
   "source": [
    "#Pick final model based on performance assessment, create pipeline and export trained model\n",
    "\n",
    "tfidf_unigram_vectorizer = TfidfVectorizer(analyzer='word', ngram_range=(1,1))\n",
    "sgdc_unigram_tfidf_classifier = SGDClassifier()\n",
    "svc_unigram_tfidf_classifier = LinearSVC(C=1.0, max_iter=1000)\n",
    "pipeline = Pipeline([('vectorizer', tfidf_unigram_vectorizer), ('classifier', svc_unigram_tfidf_classifier)])\n",
    "X_train, X_test, Y_train, Y_test = train_test_split(df_x, df_y, random_state=0)\n",
    "pipeline.fit(X_train, Y_train)\n",
    "print(pipeline.score(X_test, Y_test))\n",
    "joblib.dump(pipeline, '../model/trained_model.pkl', compress=True)\n"
   ]
  },
  {
   "cell_type": "code",
   "execution_count": 62,
   "metadata": {},
   "outputs": [],
   "source": [
    "#Load saved model\n",
    "classifier = joblib.load('../model/trained_model.pkl')\n"
   ]
  },
  {
   "cell_type": "code",
   "execution_count": 63,
   "metadata": {},
   "outputs": [],
   "source": [
    "\n",
    "prediction_mapper = {0:\"RELIABLE\", 1:\"FAKE\"}\n"
   ]
  },
  {
   "cell_type": "code",
   "execution_count": 64,
   "metadata": {},
   "outputs": [
    {
     "name": "stdout",
     "output_type": "stream",
     "text": [
      "Input:  keiser report meme war e99542 min view comment like first time history weäôre filming panoramic video station mean youäôll everything eye thatäôs youäôll able feel like real cosmonaut borisenko video presented collaboration russian space agency roscosmos rocket space corporation energia project website space360rtcom subscribe like leave reply login social email address published name\n",
      "Prediction: FAKE\n"
     ]
    }
   ],
   "source": [
    "#Sample test\n",
    "\n",
    "title = \"Keiser Report: Meme Wars (E995)\"\n",
    "text = \"42 mins ago 1 Views 0 Comments 0 Likes 'For the first time in history, we‚Äôre filming a panoramic video from the station. It means you‚Äôll see everything we see here, with your own eyes. That‚Äôs to say, you‚Äôll be able to feel like real cosmonauts' - Borisenko to RT. Video presented by RT in collaboration with the Russian space agency Roscosmos and the rocket and space corporation Energia More on our project website: space360.rt.com   Subscribe   Like     Leave a Reply Login with your Social ID Your email address will not be published. Name\";\n",
    "article = preprocessArticle(str(title) + str(text))\n",
    "print(\"Input: \" + article)\n",
    "predict = classifier.predict(pd.Series(article))\n",
    "for prediction in predict:\n",
    "    print(\"Prediction: \" + prediction_mapper.get(prediction))\n"
   ]
  },
  {
   "cell_type": "code",
   "execution_count": 65,
   "metadata": {},
   "outputs": [
    {
     "data": {
      "text/html": [
       "<div>\n",
       "<style scoped>\n",
       "    .dataframe tbody tr th:only-of-type {\n",
       "        vertical-align: middle;\n",
       "    }\n",
       "\n",
       "    .dataframe tbody tr th {\n",
       "        vertical-align: top;\n",
       "    }\n",
       "\n",
       "    .dataframe thead th {\n",
       "        text-align: right;\n",
       "    }\n",
       "</style>\n",
       "<table border=\"1\" class=\"dataframe\">\n",
       "  <thead>\n",
       "    <tr style=\"text-align: right;\">\n",
       "      <th></th>\n",
       "      <th>id</th>\n",
       "      <th>title</th>\n",
       "      <th>author</th>\n",
       "      <th>text</th>\n",
       "    </tr>\n",
       "  </thead>\n",
       "  <tbody>\n",
       "    <tr>\n",
       "      <th>0</th>\n",
       "      <td>20800</td>\n",
       "      <td>Specter of Trump Loosens Tongues, if Not Purse...</td>\n",
       "      <td>David Streitfeld</td>\n",
       "      <td>PALO ALTO, Calif.  —   After years of scorning...</td>\n",
       "    </tr>\n",
       "    <tr>\n",
       "      <th>1</th>\n",
       "      <td>20801</td>\n",
       "      <td>Russian warships ready to strike terrorists ne...</td>\n",
       "      <td>NaN</td>\n",
       "      <td>Russian warships ready to strike terrorists ne...</td>\n",
       "    </tr>\n",
       "    <tr>\n",
       "      <th>2</th>\n",
       "      <td>20802</td>\n",
       "      <td>#NoDAPL: Native American Leaders Vow to Stay A...</td>\n",
       "      <td>Common Dreams</td>\n",
       "      <td>Videos #NoDAPL: Native American Leaders Vow to...</td>\n",
       "    </tr>\n",
       "    <tr>\n",
       "      <th>3</th>\n",
       "      <td>20803</td>\n",
       "      <td>Tim Tebow Will Attempt Another Comeback, This ...</td>\n",
       "      <td>Daniel Victor</td>\n",
       "      <td>If at first you don’t succeed, try a different...</td>\n",
       "    </tr>\n",
       "    <tr>\n",
       "      <th>4</th>\n",
       "      <td>20804</td>\n",
       "      <td>Keiser Report: Meme Wars (E995)</td>\n",
       "      <td>Truth Broadcast Network</td>\n",
       "      <td>42 mins ago 1 Views 0 Comments 0 Likes 'For th...</td>\n",
       "    </tr>\n",
       "    <tr>\n",
       "      <th>5</th>\n",
       "      <td>20805</td>\n",
       "      <td>Trump is USA's antique hero. Clinton will be n...</td>\n",
       "      <td>NaN</td>\n",
       "      <td>Trump is USA's antique hero. Clinton will be n...</td>\n",
       "    </tr>\n",
       "  </tbody>\n",
       "</table>\n",
       "</div>"
      ],
      "text/plain": [
       "      id                                              title  \\\n",
       "0  20800  Specter of Trump Loosens Tongues, if Not Purse...   \n",
       "1  20801  Russian warships ready to strike terrorists ne...   \n",
       "2  20802  #NoDAPL: Native American Leaders Vow to Stay A...   \n",
       "3  20803  Tim Tebow Will Attempt Another Comeback, This ...   \n",
       "4  20804                    Keiser Report: Meme Wars (E995)   \n",
       "5  20805  Trump is USA's antique hero. Clinton will be n...   \n",
       "\n",
       "                    author                                               text  \n",
       "0         David Streitfeld  PALO ALTO, Calif.  —   After years of scorning...  \n",
       "1                      NaN  Russian warships ready to strike terrorists ne...  \n",
       "2            Common Dreams  Videos #NoDAPL: Native American Leaders Vow to...  \n",
       "3            Daniel Victor  If at first you don’t succeed, try a different...  \n",
       "4  Truth Broadcast Network  42 mins ago 1 Views 0 Comments 0 Likes 'For th...  \n",
       "5                      NaN  Trump is USA's antique hero. Clinton will be n...  "
      ]
     },
     "execution_count": 65,
     "metadata": {},
     "output_type": "execute_result"
    }
   ],
   "source": [
    "#Read test data (for Kaggle submission)\n",
    "\n",
    "df_test=pd.read_csv('../data/test.csv')\n",
    "df_test.head(6)\n"
   ]
  },
  {
   "cell_type": "code",
   "execution_count": 66,
   "metadata": {},
   "outputs": [
    {
     "data": {
      "text/html": [
       "<div>\n",
       "<style scoped>\n",
       "    .dataframe tbody tr th:only-of-type {\n",
       "        vertical-align: middle;\n",
       "    }\n",
       "\n",
       "    .dataframe tbody tr th {\n",
       "        vertical-align: top;\n",
       "    }\n",
       "\n",
       "    .dataframe thead th {\n",
       "        text-align: right;\n",
       "    }\n",
       "</style>\n",
       "<table border=\"1\" class=\"dataframe\">\n",
       "  <thead>\n",
       "    <tr style=\"text-align: right;\">\n",
       "      <th></th>\n",
       "      <th>id</th>\n",
       "      <th>title</th>\n",
       "      <th>author</th>\n",
       "      <th>text</th>\n",
       "      <th>cleaned_article</th>\n",
       "    </tr>\n",
       "  </thead>\n",
       "  <tbody>\n",
       "    <tr>\n",
       "      <th>0</th>\n",
       "      <td>20800</td>\n",
       "      <td>Specter of Trump Loosens Tongues, if Not Purse...</td>\n",
       "      <td>David Streitfeld</td>\n",
       "      <td>PALO ALTO, Calif.  —   After years of scorning...</td>\n",
       "      <td>specter trump loosens tongue purse string sil...</td>\n",
       "    </tr>\n",
       "    <tr>\n",
       "      <th>1</th>\n",
       "      <td>20801</td>\n",
       "      <td>Russian warships ready to strike terrorists ne...</td>\n",
       "      <td>NaN</td>\n",
       "      <td>Russian warships ready to strike terrorists ne...</td>\n",
       "      <td>russian warship ready strike terrorist near a...</td>\n",
       "    </tr>\n",
       "    <tr>\n",
       "      <th>2</th>\n",
       "      <td>20802</td>\n",
       "      <td>#NoDAPL: Native American Leaders Vow to Stay A...</td>\n",
       "      <td>Common Dreams</td>\n",
       "      <td>Videos #NoDAPL: Native American Leaders Vow to...</td>\n",
       "      <td>nodapl native american leader stay winter fil...</td>\n",
       "    </tr>\n",
       "    <tr>\n",
       "      <th>3</th>\n",
       "      <td>20803</td>\n",
       "      <td>Tim Tebow Will Attempt Another Comeback, This ...</td>\n",
       "      <td>Daniel Victor</td>\n",
       "      <td>If at first you don’t succeed, try a different...</td>\n",
       "      <td>tebow attempt another comeback time baseball ...</td>\n",
       "    </tr>\n",
       "    <tr>\n",
       "      <th>4</th>\n",
       "      <td>20804</td>\n",
       "      <td>Keiser Report: Meme Wars (E995)</td>\n",
       "      <td>Truth Broadcast Network</td>\n",
       "      <td>42 mins ago 1 Views 0 Comments 0 Likes 'For th...</td>\n",
       "      <td>keiser report meme war e99542 min view commen...</td>\n",
       "    </tr>\n",
       "    <tr>\n",
       "      <th>5</th>\n",
       "      <td>20805</td>\n",
       "      <td>Trump is USA's antique hero. Clinton will be n...</td>\n",
       "      <td>NaN</td>\n",
       "      <td>Trump is USA's antique hero. Clinton will be n...</td>\n",
       "      <td>trump usa antique hero clinton next president...</td>\n",
       "    </tr>\n",
       "  </tbody>\n",
       "</table>\n",
       "</div>"
      ],
      "text/plain": [
       "      id                                              title  \\\n",
       "0  20800  Specter of Trump Loosens Tongues, if Not Purse...   \n",
       "1  20801  Russian warships ready to strike terrorists ne...   \n",
       "2  20802  #NoDAPL: Native American Leaders Vow to Stay A...   \n",
       "3  20803  Tim Tebow Will Attempt Another Comeback, This ...   \n",
       "4  20804                    Keiser Report: Meme Wars (E995)   \n",
       "5  20805  Trump is USA's antique hero. Clinton will be n...   \n",
       "\n",
       "                    author                                               text  \\\n",
       "0         David Streitfeld  PALO ALTO, Calif.  —   After years of scorning...   \n",
       "1                      NaN  Russian warships ready to strike terrorists ne...   \n",
       "2            Common Dreams  Videos #NoDAPL: Native American Leaders Vow to...   \n",
       "3            Daniel Victor  If at first you don’t succeed, try a different...   \n",
       "4  Truth Broadcast Network  42 mins ago 1 Views 0 Comments 0 Likes 'For th...   \n",
       "5                      NaN  Trump is USA's antique hero. Clinton will be n...   \n",
       "\n",
       "                                     cleaned_article  \n",
       "0   specter trump loosens tongue purse string sil...  \n",
       "1   russian warship ready strike terrorist near a...  \n",
       "2   nodapl native american leader stay winter fil...  \n",
       "3   tebow attempt another comeback time baseball ...  \n",
       "4   keiser report meme war e99542 min view commen...  \n",
       "5   trump usa antique hero clinton next president...  "
      ]
     },
     "execution_count": 66,
     "metadata": {},
     "output_type": "execute_result"
    }
   ],
   "source": [
    "#Preprocess test data\n",
    "\n",
    "for index, row in df_test.iterrows():\n",
    "    cleaned_sentence = preprocessArticle(str(row['title']) + str(row['text']))\n",
    "    df_test.loc[index, 'cleaned_article'] = cleaned_sentence\n",
    "\n",
    "df_test.head(6)\n"
   ]
  },
  {
   "cell_type": "code",
   "execution_count": 67,
   "metadata": {
    "scrolled": true
   },
   "outputs": [
    {
     "name": "stdout",
     "output_type": "stream",
     "text": [
      "['RELIABLE', 'FAKE', 'FAKE', 'RELIABLE', 'FAKE', 'FAKE', 'RELIABLE', 'FAKE', 'FAKE', 'FAKE']\n"
     ]
    }
   ],
   "source": [
    "#Get predictions on articles in test file\n",
    "\n",
    "predict = classifier.predict(df_test['cleaned_article'])\n",
    "results = []\n",
    "for prediction in predict:\n",
    "    results.append(prediction_mapper.get(prediction))\n",
    "print(results[:10])"
   ]
  },
  {
   "cell_type": "code",
   "execution_count": 68,
   "metadata": {},
   "outputs": [
    {
     "name": "stdout",
     "output_type": "stream",
     "text": [
      "0       20800\n",
      "1       20801\n",
      "2       20802\n",
      "3       20803\n",
      "4       20804\n",
      "        ...  \n",
      "5195    25995\n",
      "5196    25996\n",
      "5197    25997\n",
      "5198    25998\n",
      "5199    25999\n",
      "Name: id, Length: 5200, dtype: int64\n"
     ]
    }
   ],
   "source": [
    "\n",
    "test_id=df_test[\"id\"]\n",
    "print(test_id)\n"
   ]
  },
  {
   "cell_type": "code",
   "execution_count": 69,
   "metadata": {},
   "outputs": [
    {
     "data": {
      "text/html": [
       "<div>\n",
       "<style scoped>\n",
       "    .dataframe tbody tr th:only-of-type {\n",
       "        vertical-align: middle;\n",
       "    }\n",
       "\n",
       "    .dataframe tbody tr th {\n",
       "        vertical-align: top;\n",
       "    }\n",
       "\n",
       "    .dataframe thead th {\n",
       "        text-align: right;\n",
       "    }\n",
       "</style>\n",
       "<table border=\"1\" class=\"dataframe\">\n",
       "  <thead>\n",
       "    <tr style=\"text-align: right;\">\n",
       "      <th></th>\n",
       "      <th>id</th>\n",
       "      <th>label</th>\n",
       "    </tr>\n",
       "  </thead>\n",
       "  <tbody>\n",
       "    <tr>\n",
       "      <th>0</th>\n",
       "      <td>20800</td>\n",
       "      <td>0</td>\n",
       "    </tr>\n",
       "    <tr>\n",
       "      <th>1</th>\n",
       "      <td>20801</td>\n",
       "      <td>1</td>\n",
       "    </tr>\n",
       "    <tr>\n",
       "      <th>2</th>\n",
       "      <td>20802</td>\n",
       "      <td>1</td>\n",
       "    </tr>\n",
       "    <tr>\n",
       "      <th>3</th>\n",
       "      <td>20803</td>\n",
       "      <td>0</td>\n",
       "    </tr>\n",
       "    <tr>\n",
       "      <th>4</th>\n",
       "      <td>20804</td>\n",
       "      <td>1</td>\n",
       "    </tr>\n",
       "  </tbody>\n",
       "</table>\n",
       "</div>"
      ],
      "text/plain": [
       "      id  label\n",
       "0  20800      0\n",
       "1  20801      1\n",
       "2  20802      1\n",
       "3  20803      0\n",
       "4  20804      1"
      ]
     },
     "execution_count": 69,
     "metadata": {},
     "output_type": "execute_result"
    }
   ],
   "source": [
    "#Create final submission dataframe\n",
    "\n",
    "submit_df = pd.DataFrame({\"id\":test_id,\n",
    "                         \"label\":predict})\n",
    "submit_df.head()\n"
   ]
  },
  {
   "cell_type": "code",
   "execution_count": 70,
   "metadata": {},
   "outputs": [],
   "source": [
    "submit_df.to_csv(\"../data/submit.csv\", index=False)\n",
    "submit_df.to_csv(\"../results/submit.csv\", index=False)"
   ]
  },
  {
   "cell_type": "code",
   "execution_count": 71,
   "metadata": {},
   "outputs": [],
   "source": [
    "df_metrics.transpose().to_csv(\"../results/performance_metrics.csv\", index=True)"
   ]
  },
  {
   "cell_type": "code",
   "execution_count": null,
   "metadata": {},
   "outputs": [],
   "source": []
  }
 ],
 "metadata": {
  "kernelspec": {
   "display_name": "Python 3",
   "language": "python",
   "name": "python3"
  },
  "language_info": {
   "codemirror_mode": {
    "name": "ipython",
    "version": 3
   },
   "file_extension": ".py",
   "mimetype": "text/x-python",
   "name": "python",
   "nbconvert_exporter": "python",
   "pygments_lexer": "ipython3",
   "version": "3.5.3"
  }
 },
 "nbformat": 4,
 "nbformat_minor": 4
}
