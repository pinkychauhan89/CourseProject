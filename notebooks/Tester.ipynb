{
 "cells": [
  {
   "cell_type": "code",
   "execution_count": 1,
   "metadata": {},
   "outputs": [],
   "source": [
    "import joblib\n",
    "import re\n",
    "import pandas as pd\n",
    "\n",
    "import nltk\n",
    "from nltk.tokenize import word_tokenize\n",
    "from nltk.corpus import stopwords\n",
    "from nltk.stem import WordNetLemmatizer\n"
   ]
  },
  {
   "cell_type": "code",
   "execution_count": 2,
   "metadata": {},
   "outputs": [],
   "source": [
    "#Load trained classifier\n",
    "classifier = joblib.load('../model/trained_model.pkl')"
   ]
  },
  {
   "cell_type": "code",
   "execution_count": 3,
   "metadata": {},
   "outputs": [],
   "source": [
    "prediction_mapper = {0:\"RELIABLE NEWS\", 1:\"FAKE NEWS\"}\n"
   ]
  },
  {
   "cell_type": "code",
   "execution_count": 4,
   "metadata": {},
   "outputs": [],
   "source": [
    "#Preprocess data\n",
    "def preprocessText(title, text):\n",
    "    stop_words = stopwords.words('english')\n",
    "    lemmatizer = WordNetLemmatizer()\n",
    "    article = title + ' ' + text\n",
    "    #Clean sentence to remove any punctuations, convert to lower case\n",
    "    cleaned_sentence = re.sub(r'[^\\w\\s]', '', str(article).lower())\n",
    "    #Tokenize sentence into words\n",
    "    words = nltk.word_tokenize(cleaned_sentence)\n",
    "    #Remove stop words and words with length less than equal to 3\n",
    "    filtered_words = [word for word in words if not word in stop_words and len(word) > 3]\n",
    "    #Lemmatize\n",
    "    lemmatized_sentence = ''\n",
    "    for word in filtered_words:\n",
    "        lemmatized_sentence = lemmatized_sentence  + ' ' + str(lemmatizer.lemmatize(word))\n",
    "    \n",
    "    return lemmatized_sentence\n"
   ]
  },
  {
   "cell_type": "code",
   "execution_count": 5,
   "metadata": {},
   "outputs": [],
   "source": [
    "\n",
    "#### USER INPUT #####\n"
   ]
  },
  {
   "cell_type": "code",
   "execution_count": 6,
   "metadata": {},
   "outputs": [],
   "source": [
    "#PROVIDE INPUT HERE; ENTER NEWS TITLE IN TITLE FIELD AND TEXT IN TEXT FIELD \n",
    "\n",
    "title = \"ENTER TITLE HERE\"\n",
    "text = \"ENTER TEXT HERE\""
   ]
  },
  {
   "cell_type": "code",
   "execution_count": 7,
   "metadata": {},
   "outputs": [],
   "source": [
    "##### CLASSIFIER OUTPUT #####"
   ]
  },
  {
   "cell_type": "code",
   "execution_count": 8,
   "metadata": {},
   "outputs": [
    {
     "name": "stdout",
     "output_type": "stream",
     "text": [
      "Input: \n",
      "Title: ENTER TITLE HERE\n",
      "Text: ENTER TEXT HERE\n",
      "\n",
      "Prediction: FAKE NEWS\n"
     ]
    }
   ],
   "source": [
    "#Classifier prediction\n",
    "\n",
    "article = preprocessText(title, text)\n",
    "print(\"Input: \\nTitle: \" + title + '\\nText: ' + text)\n",
    "predict = classifier.predict(pd.Series(article))\n",
    "for prediction in predict:\n",
    "    print(\"\\nPrediction: \" + prediction_mapper.get(prediction))\n",
    "\n"
   ]
  },
  {
   "cell_type": "code",
   "execution_count": null,
   "metadata": {},
   "outputs": [],
   "source": []
  }
 ],
 "metadata": {
  "kernelspec": {
   "display_name": "Python 3",
   "language": "python",
   "name": "python3"
  },
  "language_info": {
   "codemirror_mode": {
    "name": "ipython",
    "version": 3
   },
   "file_extension": ".py",
   "mimetype": "text/x-python",
   "name": "python",
   "nbconvert_exporter": "python",
   "pygments_lexer": "ipython3",
   "version": "3.5.3"
  }
 },
 "nbformat": 4,
 "nbformat_minor": 4
}
