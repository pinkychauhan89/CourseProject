{
 "cells": [
  {
   "cell_type": "code",
   "execution_count": 1,
   "metadata": {},
   "outputs": [],
   "source": [
    "import joblib\n",
    "import re\n",
    "import pandas as pd\n",
    "\n",
    "import nltk\n",
    "from nltk.tokenize import word_tokenize\n",
    "from nltk.corpus import stopwords\n",
    "from nltk.stem import WordNetLemmatizer\n"
   ]
  },
  {
   "cell_type": "code",
   "execution_count": 2,
   "metadata": {},
   "outputs": [],
   "source": [
    "#Load trained classifier\n",
    "classifier = joblib.load('../model/trained_model.pkl')"
   ]
  },
  {
   "cell_type": "code",
   "execution_count": 3,
   "metadata": {},
   "outputs": [],
   "source": [
    "prediction_mapper = {0:\"RELIABLE NEWS\", 1:\"FAKE NEWS\"}\n"
   ]
  },
  {
   "cell_type": "code",
   "execution_count": 4,
   "metadata": {},
   "outputs": [],
   "source": [
    "#Preprocess data\n",
    "def preprocessText(title, text):\n",
    "    stop_words = stopwords.words('english')\n",
    "    lemmatizer = WordNetLemmatizer()\n",
    "    article = title + ' ' + text\n",
    "    #Clean sentence to remove any punctuations, convert to lower case\n",
    "    cleaned_sentence = re.sub(r'[^\\w\\s]', '', str(article).lower())\n",
    "    #Tokenize sentence into words\n",
    "    words = nltk.word_tokenize(cleaned_sentence)\n",
    "    #Remove stop words and words with length less than equal to 3\n",
    "    filtered_words = [word for word in words if not word in stop_words and len(word) > 3]\n",
    "    #Lemmatize\n",
    "    lemmatized_sentence = ''\n",
    "    for word in filtered_words:\n",
    "        lemmatized_sentence = lemmatized_sentence  + ' ' + str(lemmatizer.lemmatize(word))\n",
    "    \n",
    "    return lemmatized_sentence\n"
   ]
  },
  {
   "cell_type": "code",
   "execution_count": 5,
   "metadata": {},
   "outputs": [],
   "source": [
    "#PROVIDE INPUT HERE\n",
    "title = \"Keiser Report: Meme Wars (E995)\"\n",
    "text = \"42 mins ago 1 Views 0 Comments 0 Likes 'For the first time in history, we‚Äôre filming a panoramic video from the station. It means you‚Äôll see everything we see here, with your own eyes. That‚Äôs to say, you‚Äôll be able to feel like real cosmonauts' - Borisenko to RT. Video presented by RT in collaboration with the Russian space agency Roscosmos and the rocket and space corporation Energia More on our project website: space360.rt.com   Subscribe   Like     Leave a Reply Login with your Social ID Your email address will not be published. Name\";\n"
   ]
  },
  {
   "cell_type": "code",
   "execution_count": 6,
   "metadata": {},
   "outputs": [
    {
     "name": "stdout",
     "output_type": "stream",
     "text": [
      "Input: \n",
      "Title: Keiser Report: Meme Wars (E995)\n",
      "Text: 42 mins ago 1 Views 0 Comments 0 Likes 'For the first time in history, we‚Äôre filming a panoramic video from the station. It means you‚Äôll see everything we see here, with your own eyes. That‚Äôs to say, you‚Äôll be able to feel like real cosmonauts' - Borisenko to RT. Video presented by RT in collaboration with the Russian space agency Roscosmos and the rocket and space corporation Energia More on our project website: space360.rt.com   Subscribe   Like     Leave a Reply Login with your Social ID Your email address will not be published. Name\n",
      "\n",
      "Prediction: FAKE NEWS\n"
     ]
    }
   ],
   "source": [
    "#Tester\n",
    "article = preprocessText(title, text)\n",
    "print(\"Input: \\nTitle: \" + title + '\\nText: ' + text)\n",
    "predict = classifier.predict(pd.Series(article))\n",
    "for prediction in predict:\n",
    "    print(\"\\nPrediction: \" + prediction_mapper.get(prediction))\n",
    "\n"
   ]
  }
 ],
 "metadata": {
  "kernelspec": {
   "display_name": "Python 3",
   "language": "python",
   "name": "python3"
  },
  "language_info": {
   "codemirror_mode": {
    "name": "ipython",
    "version": 3
   },
   "file_extension": ".py",
   "mimetype": "text/x-python",
   "name": "python",
   "nbconvert_exporter": "python",
   "pygments_lexer": "ipython3",
   "version": "3.5.3"
  }
 },
 "nbformat": 4,
 "nbformat_minor": 4
}
